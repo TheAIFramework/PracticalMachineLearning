{
 "cells": [
  {
   "cell_type": "markdown",
   "id": "fa8bfbd5",
   "metadata": {},
   "source": [
    "# Decision Trees"
   ]
  },
  {
   "cell_type": "markdown",
   "id": "47e59e53",
   "metadata": {},
   "source": [
    "Decision Trees (DTs) are a non-parametric supervised learning method used for classification and regression. The goal is to create a model that predicts the value of a target variable by learning simple decision rules inferred from the data features. A tree can be seen as a piecewise constant approximation.\n",
    "\n",
    "## Different tree algorithms\n",
    "\n",
    "ID3 (Iterative Dichotomiser 3) was developed in 1986 by Ross Quinlan. The algorithm creates a multiway tree, finding for each node (i.e. in a greedy manner) the categorical feature that will yield the largest information gain for categorical targets. Trees are grown to their maximum size and then a pruning step is usually applied to improve the ability of the tree to generalise to unseen data.\n",
    "\n",
    "C4.5 is the successor to ID3 and removed the restriction that features must be categorical by dynamically defining a discrete attribute (based on numerical variables) that partitions the continuous attribute value into a discrete set of intervals. C4.5 converts the trained trees (i.e. the output of the ID3 algorithm) into sets of if-then rules. These accuracy of each rule is then evaluated to determine the order in which they should be applied. Pruning is done by removing a rule’s precondition if the accuracy of the rule improves without it.\n",
    "\n",
    "C5.0 is Quinlan’s latest version release under a proprietary license. It uses less memory and builds smaller rulesets than C4.5 while being more accurate.\n",
    "\n",
    "CART (Classification and Regression Trees) is very similar to C4.5, but it differs in that it supports numerical target variables (regression) and does not compute rule sets. CART constructs binary trees using the feature and threshold that yield the largest information gain at each node."
   ]
  },
  {
   "cell_type": "markdown",
   "id": "39cb5807",
   "metadata": {},
   "source": [
    "# Splitting the tree\n",
    "\n",
    "The Gini Index or Gini Impurity is calculated by subtracting the sum of the squared probabilities of each class from one. It favours mostly the larger partitions and are very simple to implement. In simple terms, it calculates the probability of a certain randomly selected feature that was classified incorrectly.\n",
    "\n",
    "The Gini Index varies between 0 and 1, where 0 represents purity of the classification and 1 denotes random distribution of elements among various classes. A Gini Index of 0.5 shows that there is equal distribution of elements across some classes.\n",
    "\n",
    "The Gini Index works on categorical variables and gives the results in terms of “success” or “failure” and hence performs only binary split. It isn’t computationally intensive\n",
    "\n",
    "\n",
    "An alternative to the Gini Index is the Information Entropy which used to determine which attribute gives us the maximum information about a class. It is based on the concept of entropy, which is the degree of impurity or uncertainty. It aims to decrease the level of entropy from the root nodes to the leaf nodes of the decision tree. "
   ]
  },
  {
   "cell_type": "markdown",
   "id": "a0671fe7",
   "metadata": {},
   "source": [
    "## Advantages\n",
    "\n",
    "- Simple to understand and to interpret. Trees can be visualised.\n",
    "\n",
    "- Requires little data preparation. Other techniques often require data normalisation, dummy variables need to be created and blank values to be removed. Note however that this module does not support missing values.\n",
    "\n",
    "- The cost of using the tree (i.e., predicting data) is logarithmic in the number of data points used to train the tree.\n",
    "\n",
    "- Able to handle both numerical and categorical data. However scikit-learn implementation does not support categorical variables for now. Other techniques are usually specialised in analysing datasets that have only one type of variable. See algorithms for more information.\n",
    "\n",
    "- Able to handle multi-output problems.\n",
    "\n",
    "- Uses a white box model. If a given situation is observable in a model, the explanation for the condition is easily explained by boolean logic. By contrast, in a black box model (e.g., in an artificial neural network), results may be more difficult to interpret.\n",
    "\n",
    "- Possible to validate a model using statistical tests. That makes it possible to account for the reliability of the model.\n",
    "\n",
    "- Performs well even if its assumptions are somewhat violated by the true model from which the data were generated."
   ]
  },
  {
   "cell_type": "markdown",
   "id": "2242a6c1",
   "metadata": {},
   "source": [
    "## Problems\n",
    "\n",
    "- Decision-tree learners can create over-complex trees that do not generalise the data well. This is called overfitting. Mechanisms such as pruning, setting the minimum number of samples required at a leaf node or setting the maximum depth of the tree are necessary to avoid this problem.\n",
    "\n",
    "- Decision trees can be unstable because small variations in the data might result in a completely different tree being generated. This problem is mitigated by using decision trees within an ensemble.\n",
    "\n",
    "- Predictions of decision trees are neither smooth nor continuous, but piecewise constant approximations as seen in the above figure. Therefore, they are not good at extrapolation.\n",
    "\n",
    "- The problem of learning an optimal decision tree is known to be NP-complete under several aspects of optimality and even for simple concepts. Consequently, practical decision-tree learning algorithms are based on heuristic algorithms such as the greedy algorithm where locally optimal decisions are made at each node. Such algorithms cannot guarantee to return the globally optimal decision tree. This can be mitigated by training multiple trees in an ensemble learner, where the features and samples are randomly sampled with replacement.\n",
    "\n",
    "- There are concepts that are hard to learn because decision trees do not express them easily, such as XOR, parity or multiplexer problems.\n",
    "\n",
    "- Decision tree learners create biased trees if some classes dominate. It is therefore recommended to balance the dataset prior to fitting with the decision tree."
   ]
  },
  {
   "cell_type": "markdown",
   "id": "4d0c3e49",
   "metadata": {},
   "source": [
    "## Practical tips \n",
    "\n",
    "- Decision trees tend to overfit on data with a large number of features. Getting the right ratio of samples to number of features is important, since a tree with few samples in high dimensional space is very likely to overfit.\n",
    "\n",
    "- Consider performing dimensionality reduction (PCA, ICA, or Feature selection) beforehand to give your tree a better chance of finding features that are discriminative.\n",
    "\n",
    "- Understanding the decision tree structure will help in gaining more insights about how the decision tree makes predictions, which is important for understanding the important features in the data.\n",
    "\n",
    "- Visualise your tree as you are training by using the export function. Use max_depth=3 as an initial tree depth to get a feel for how the tree is fitting to your data, and then increase the depth.\n",
    "\n",
    "- Remember that the number of samples required to populate the tree doubles for each additional level the tree grows to. Use max_depth to control the size of the tree to prevent overfitting.\n",
    "\n",
    "- Balance your dataset before training to prevent the tree from being biased toward the classes that are dominant. Class balancing can be done by sampling an equal number of samples from each class, or preferably by normalizing the sum of the sample weights (sample_weight) for each class to the same value. Also note that weight-based pre-pruning criteria, such as min_weight_fraction_leaf, will then be less biased toward dominant classes than criteria that are not aware of the sample weights, like min_samples_leaf.\n",
    "\n",
    "- If the samples are weighted, it will be easier to optimize the tree structure using weight-based pre-pruning criterion such as min_weight_fraction_leaf, which ensure that leaf nodes contain at least a fraction of the overall sum of the sample weights.\n",
    "\n",
    "- If the input matrix X is very sparse, it is recommended to convert to sparse csc_matrix before calling fit and sparse csr_matrix before calling predict. Training time can be orders of magnitude faster for a sparse matrix input compared to a dense matrix when features have zero values in most of the samples."
   ]
  },
  {
   "cell_type": "markdown",
   "id": "62ed692f",
   "metadata": {},
   "source": [
    "# Introduction"
   ]
  },
  {
   "cell_type": "code",
   "execution_count": 1,
   "id": "5f6e526c",
   "metadata": {},
   "outputs": [],
   "source": [
    "import numpy as np\n",
    "import pandas as pd\n",
    "\n",
    "import matplotlib.pyplot as plt\n",
    "\n",
    "import graphviz\n",
    "\n",
    "# install graphviz on Windows using `winget install graphviz`\n",
    "# install graphviz on Ubuntu using `sudo apt install graphviz`\n",
    "# install graphviz on Mac using `brew install graphviz`\n",
    "# make sure the to set up your PATH to point at the newly installed binaries"
   ]
  },
  {
   "cell_type": "markdown",
   "id": "0cf42763",
   "metadata": {},
   "source": [
    "# Decision Tree Classifier"
   ]
  },
  {
   "cell_type": "code",
   "execution_count": 2,
   "id": "33ecc41c",
   "metadata": {},
   "outputs": [],
   "source": [
    "x = [[np.random.randn(), np.random.randn()] for i in range(1, 300)]\n",
    "y = [[(a > 0) & (b > 0) | (a < 0) & (b < 0)] for (a, b) in x]"
   ]
  },
  {
   "cell_type": "code",
   "execution_count": 3,
   "id": "e6928b26",
   "metadata": {},
   "outputs": [
    {
     "data": {
      "text/plain": [
       "<matplotlib.collections.PathCollection at 0x7faebb86d5e0>"
      ]
     },
     "execution_count": 3,
     "metadata": {},
     "output_type": "execute_result"
    },
    {
     "data": {
      "image/png": "[encoded data removed]",
      "text/plain": [
       "<Figure size 432x288 with 1 Axes>"
      ]
     },
     "metadata": {
      "needs_background": "light"
     },
     "output_type": "display_data"
    }
   ],
   "source": [
    "# clear old visualizations\n",
    "plt.close('all')\n",
    "\n",
    "# visualize the points\n",
    "fig, ax = plt.subplots()\n",
    "plt.scatter(list(zip(*x))[0], list(zip(*x))[1], c=y, cmap='bwr')"
   ]
  },
  {
   "cell_type": "code",
   "execution_count": 4,
   "id": "2e3070aa",
   "metadata": {},
   "outputs": [
    {
     "data": {
      "text/plain": [
       "0.5284280936454849"
      ]
     },
     "execution_count": 4,
     "metadata": {},
     "output_type": "execute_result"
    }
   ],
   "source": [
    "from sklearn.tree import DecisionTreeClassifier\n",
    "from sklearn.tree import export_graphviz\n",
    "from sklearn.metrics import accuracy_score, classification_report, confusion_matrix\n",
    "\n",
    "mc = DecisionTreeClassifier(max_depth=1, min_samples_leaf=5) \n",
    "mc.fit(x, y)\n",
    "\n",
    "accuracy_score(y, mc.predict(x))"
   ]
  },
  {
   "cell_type": "code",
   "execution_count": 5,
   "id": "d0bd7ca3",
   "metadata": {},
   "outputs": [
    {
     "data": {
      "text/plain": [
       "<matplotlib.collections.PathCollection at 0x7faea8803e80>"
      ]
     },
     "execution_count": 5,
     "metadata": {},
     "output_type": "execute_result"
    },
    {
     "data": {
      "image/png": "[encoded data removed]",
      "text/plain": [
       "<Figure size 432x288 with 1 Axes>"
      ]
     },
     "metadata": {
      "needs_background": "light"
     },
     "output_type": "display_data"
    }
   ],
   "source": [
    "# clear old visualizations\n",
    "plt.close('all')\n",
    "\n",
    "# visualize the points\n",
    "fig, ax = plt.subplots()\n",
    "plt.scatter(list(zip(*x))[0], list(zip(*x))[1], c=mc.predict(x), cmap='bwr')"
   ]
  },
  {
   "cell_type": "code",
   "execution_count": 6,
   "id": "38cd7760",
   "metadata": {},
   "outputs": [
    {
     "data": {
      "image/svg+xml": [
       "<?xml version=\"1.0\" encoding=\"UTF-8\" standalone=\"no\"?>\n",
       "<!DOCTYPE svg PUBLIC \"-//W3C//DTD SVG 1.1//EN\"\n",
       " \"http://www.w3.org/Graphics/SVG/1.1/DTD/svg11.dtd\">\n",
       "<!-- Generated by graphviz version 3.0.0 (20220226.1711)\n",
       " -->\n",
       "<!-- Title: Tree Pages: 1 -->\n",
       "<svg width=\"238pt\" height=\"195pt\"\n",
       " viewBox=\"0.00 0.00 237.50 195.00\" xmlns=\"http://www.w3.org/2000/svg\" xmlns:xlink=\"http://www.w3.org/1999/xlink\">\n",
       "<g id=\"graph0\" class=\"graph\" transform=\"scale(1 1) rotate(0) translate(4 191)\">\n",
       "<title>Tree</title>\n",
       "<polygon fill=\"white\" stroke=\"transparent\" points=\"-4,4 -4,-191 233.5,-191 233.5,4 -4,4\"/>\n",
       "<!-- 0 -->\n",
       "<g id=\"node1\" class=\"node\">\n",
       "<title>0</title>\n",
       "<polygon fill=\"#fef9f6\" stroke=\"black\" points=\"167.5,-187 48.5,-187 48.5,-104 167.5,-104 167.5,-187\"/>\n",
       "<text text-anchor=\"start\" x=\"79\" y=\"-171.8\" font-family=\"Times,serif\" font-size=\"14.00\">x ≤ &#45;1.828</text>\n",
       "<text text-anchor=\"start\" x=\"80.5\" y=\"-156.8\" font-family=\"Times,serif\" font-size=\"14.00\">gini = 0.5</text>\n",
       "<text text-anchor=\"start\" x=\"67.5\" y=\"-141.8\" font-family=\"Times,serif\" font-size=\"14.00\">samples = 299</text>\n",
       "<text text-anchor=\"start\" x=\"56.5\" y=\"-126.8\" font-family=\"Times,serif\" font-size=\"14.00\">value = [153, 146]</text>\n",
       "<text text-anchor=\"start\" x=\"76\" y=\"-111.8\" font-family=\"Times,serif\" font-size=\"14.00\">class = true</text>\n",
       "</g>\n",
       "<!-- 1 -->\n",
       "<g id=\"node2\" class=\"node\">\n",
       "<title>1</title>\n",
       "<polygon fill=\"#72b9ec\" stroke=\"black\" points=\"92,-68 0,-68 0,0 92,0 92,-68\"/>\n",
       "<text text-anchor=\"start\" x=\"12\" y=\"-52.8\" font-family=\"Times,serif\" font-size=\"14.00\">gini = 0.346</text>\n",
       "<text text-anchor=\"start\" x=\"12.5\" y=\"-37.8\" font-family=\"Times,serif\" font-size=\"14.00\">samples = 9</text>\n",
       "<text text-anchor=\"start\" x=\"8\" y=\"-22.8\" font-family=\"Times,serif\" font-size=\"14.00\">value = [2, 7]</text>\n",
       "<text text-anchor=\"start\" x=\"12\" y=\"-7.8\" font-family=\"Times,serif\" font-size=\"14.00\">class = false</text>\n",
       "</g>\n",
       "<!-- 0&#45;&gt;1 -->\n",
       "<g id=\"edge1\" class=\"edge\">\n",
       "<title>0&#45;&gt;1</title>\n",
       "<path fill=\"none\" stroke=\"black\" d=\"M84.91,-103.73C80.01,-95.06 74.82,-85.9 69.88,-77.18\"/>\n",
       "<polygon fill=\"black\" stroke=\"black\" points=\"72.83,-75.28 64.85,-68.3 66.74,-78.73 72.83,-75.28\"/>\n",
       "<text text-anchor=\"middle\" x=\"58.18\" y=\"-88.69\" font-family=\"Times,serif\" font-size=\"14.00\">True</text>\n",
       "</g>\n",
       "<!-- 2 -->\n",
       "<g id=\"node3\" class=\"node\">\n",
       "<title>2</title>\n",
       "<polygon fill=\"#fdf5ef\" stroke=\"black\" points=\"229.5,-68 110.5,-68 110.5,0 229.5,0 229.5,-68\"/>\n",
       "<text text-anchor=\"start\" x=\"136\" y=\"-52.8\" font-family=\"Times,serif\" font-size=\"14.00\">gini = 0.499</text>\n",
       "<text text-anchor=\"start\" x=\"129.5\" y=\"-37.8\" font-family=\"Times,serif\" font-size=\"14.00\">samples = 290</text>\n",
       "<text text-anchor=\"start\" x=\"118.5\" y=\"-22.8\" font-family=\"Times,serif\" font-size=\"14.00\">value = [151, 139]</text>\n",
       "<text text-anchor=\"start\" x=\"138\" y=\"-7.8\" font-family=\"Times,serif\" font-size=\"14.00\">class = true</text>\n",
       "</g>\n",
       "<!-- 0&#45;&gt;2 -->\n",
       "<g id=\"edge2\" class=\"edge\">\n",
       "<title>0&#45;&gt;2</title>\n",
       "<path fill=\"none\" stroke=\"black\" d=\"M131.09,-103.73C135.99,-95.06 141.18,-85.9 146.12,-77.18\"/>\n",
       "<polygon fill=\"black\" stroke=\"black\" points=\"149.26,-78.73 151.15,-68.3 143.17,-75.28 149.26,-78.73\"/>\n",
       "<text text-anchor=\"middle\" x=\"157.82\" y=\"-88.69\" font-family=\"Times,serif\" font-size=\"14.00\">False</text>\n",
       "</g>\n",
       "</g>\n",
       "</svg>\n"
      ],
      "text/plain": [
       "<graphviz.sources.Source at 0x7faebc1a0e80>"
      ]
     },
     "execution_count": 6,
     "metadata": {},
     "output_type": "execute_result"
    }
   ],
   "source": [
    "features = [\"x\", \"y\"]\n",
    "target = [\"true\", \"false\"]\n",
    "\n",
    "dat = export_graphviz(mc, filled=True, special_characters=True, feature_names=features, class_names=target)\n",
    "\n",
    "graph = graphviz.Source(dat)\n",
    "graph"
   ]
  },
  {
   "cell_type": "code",
   "execution_count": 7,
   "id": "c9b493a4",
   "metadata": {},
   "outputs": [
    {
     "data": {
      "text/plain": [
       "0.5284280936454849"
      ]
     },
     "execution_count": 7,
     "metadata": {},
     "output_type": "execute_result"
    }
   ],
   "source": [
    "m2c = DecisionTreeClassifier(max_depth=2, min_samples_leaf=5) \n",
    "m2c.fit(x, y)\n",
    "\n",
    "ŷ = m2c.predict(x)\n",
    "\n",
    "accuracy_score(y, ŷ)"
   ]
  },
  {
   "cell_type": "code",
   "execution_count": 8,
   "id": "573f3deb",
   "metadata": {},
   "outputs": [
    {
     "data": {
      "text/plain": [
       "<matplotlib.collections.PathCollection at 0x7faea8843cd0>"
      ]
     },
     "execution_count": 8,
     "metadata": {},
     "output_type": "execute_result"
    },
    {
     "data": {
      "image/png": "[encoded data removed]",
      "text/plain": [
       "<Figure size 432x288 with 1 Axes>"
      ]
     },
     "metadata": {
      "needs_background": "light"
     },
     "output_type": "display_data"
    }
   ],
   "source": [
    "plt.close('all')\n",
    "\n",
    "# visualize the points\n",
    "fig, ax = plt.subplots()\n",
    "plt.scatter(list(zip(*x))[0], list(zip(*x))[1], c=ŷ, cmap='bwr')"
   ]
  },
  {
   "cell_type": "code",
   "execution_count": 9,
   "id": "77175d31",
   "metadata": {},
   "outputs": [
    {
     "data": {
      "image/svg+xml": [
       "<?xml version=\"1.0\" encoding=\"UTF-8\" standalone=\"no\"?>\n",
       "<!DOCTYPE svg PUBLIC \"-//W3C//DTD SVG 1.1//EN\"\n",
       " \"http://www.w3.org/Graphics/SVG/1.1/DTD/svg11.dtd\">\n",
       "<!-- Generated by graphviz version 3.0.0 (20220226.1711)\n",
       " -->\n",
       "<!-- Title: Tree Pages: 1 -->\n",
       "<svg width=\"300pt\" height=\"314pt\"\n",
       " viewBox=\"0.00 0.00 299.50 314.00\" xmlns=\"http://www.w3.org/2000/svg\" xmlns:xlink=\"http://www.w3.org/1999/xlink\">\n",
       "<g id=\"graph0\" class=\"graph\" transform=\"scale(1 1) rotate(0) translate(4 310)\">\n",
       "<title>Tree</title>\n",
       "<polygon fill=\"white\" stroke=\"transparent\" points=\"-4,4 -4,-310 295.5,-310 295.5,4 -4,4\"/>\n",
       "<!-- 0 -->\n",
       "<g id=\"node1\" class=\"node\">\n",
       "<title>0</title>\n",
       "<polygon fill=\"#fef9f6\" stroke=\"black\" points=\"167.5,-306 48.5,-306 48.5,-223 167.5,-223 167.5,-306\"/>\n",
       "<text text-anchor=\"start\" x=\"79\" y=\"-290.8\" font-family=\"Times,serif\" font-size=\"14.00\">x ≤ &#45;1.828</text>\n",
       "<text text-anchor=\"start\" x=\"80.5\" y=\"-275.8\" font-family=\"Times,serif\" font-size=\"14.00\">gini = 0.5</text>\n",
       "<text text-anchor=\"start\" x=\"67.5\" y=\"-260.8\" font-family=\"Times,serif\" font-size=\"14.00\">samples = 299</text>\n",
       "<text text-anchor=\"start\" x=\"56.5\" y=\"-245.8\" font-family=\"Times,serif\" font-size=\"14.00\">value = [153, 146]</text>\n",
       "<text text-anchor=\"start\" x=\"76\" y=\"-230.8\" font-family=\"Times,serif\" font-size=\"14.00\">class = true</text>\n",
       "</g>\n",
       "<!-- 1 -->\n",
       "<g id=\"node2\" class=\"node\">\n",
       "<title>1</title>\n",
       "<polygon fill=\"#72b9ec\" stroke=\"black\" points=\"92,-179.5 0,-179.5 0,-111.5 92,-111.5 92,-179.5\"/>\n",
       "<text text-anchor=\"start\" x=\"12\" y=\"-164.3\" font-family=\"Times,serif\" font-size=\"14.00\">gini = 0.346</text>\n",
       "<text text-anchor=\"start\" x=\"12.5\" y=\"-149.3\" font-family=\"Times,serif\" font-size=\"14.00\">samples = 9</text>\n",
       "<text text-anchor=\"start\" x=\"8\" y=\"-134.3\" font-family=\"Times,serif\" font-size=\"14.00\">value = [2, 7]</text>\n",
       "<text text-anchor=\"start\" x=\"12\" y=\"-119.3\" font-family=\"Times,serif\" font-size=\"14.00\">class = false</text>\n",
       "</g>\n",
       "<!-- 0&#45;&gt;1 -->\n",
       "<g id=\"edge1\" class=\"edge\">\n",
       "<title>0&#45;&gt;1</title>\n",
       "<path fill=\"none\" stroke=\"black\" d=\"M86.49,-222.91C80.64,-211.87 74.3,-199.9 68.4,-188.77\"/>\n",
       "<polygon fill=\"black\" stroke=\"black\" points=\"71.35,-186.86 63.58,-179.67 65.17,-190.14 71.35,-186.86\"/>\n",
       "<text text-anchor=\"middle\" x=\"56.23\" y=\"-199.86\" font-family=\"Times,serif\" font-size=\"14.00\">True</text>\n",
       "</g>\n",
       "<!-- 2 -->\n",
       "<g id=\"node3\" class=\"node\">\n",
       "<title>2</title>\n",
       "<polygon fill=\"#fdf5ef\" stroke=\"black\" points=\"229.5,-187 110.5,-187 110.5,-104 229.5,-104 229.5,-187\"/>\n",
       "<text text-anchor=\"start\" x=\"141\" y=\"-171.8\" font-family=\"Times,serif\" font-size=\"14.00\">x ≤ &#45;1.578</text>\n",
       "<text text-anchor=\"start\" x=\"136\" y=\"-156.8\" font-family=\"Times,serif\" font-size=\"14.00\">gini = 0.499</text>\n",
       "<text text-anchor=\"start\" x=\"129.5\" y=\"-141.8\" font-family=\"Times,serif\" font-size=\"14.00\">samples = 290</text>\n",
       "<text text-anchor=\"start\" x=\"118.5\" y=\"-126.8\" font-family=\"Times,serif\" font-size=\"14.00\">value = [151, 139]</text>\n",
       "<text text-anchor=\"start\" x=\"138\" y=\"-111.8\" font-family=\"Times,serif\" font-size=\"14.00\">class = true</text>\n",
       "</g>\n",
       "<!-- 0&#45;&gt;2 -->\n",
       "<g id=\"edge2\" class=\"edge\">\n",
       "<title>0&#45;&gt;2</title>\n",
       "<path fill=\"none\" stroke=\"black\" d=\"M129.51,-222.91C134.13,-214.2 139.05,-204.9 143.83,-195.89\"/>\n",
       "<polygon fill=\"black\" stroke=\"black\" points=\"146.94,-197.5 148.53,-187.02 140.75,-194.22 146.94,-197.5\"/>\n",
       "<text text-anchor=\"middle\" x=\"155.87\" y=\"-207.22\" font-family=\"Times,serif\" font-size=\"14.00\">False</text>\n",
       "</g>\n",
       "<!-- 3 -->\n",
       "<g id=\"node4\" class=\"node\">\n",
       "<title>3</title>\n",
       "<polygon fill=\"#e58139\" stroke=\"black\" points=\"154,-68 62,-68 62,0 154,0 154,-68\"/>\n",
       "<text text-anchor=\"start\" x=\"80.5\" y=\"-52.8\" font-family=\"Times,serif\" font-size=\"14.00\">gini = 0.0</text>\n",
       "<text text-anchor=\"start\" x=\"74.5\" y=\"-37.8\" font-family=\"Times,serif\" font-size=\"14.00\">samples = 8</text>\n",
       "<text text-anchor=\"start\" x=\"70\" y=\"-22.8\" font-family=\"Times,serif\" font-size=\"14.00\">value = [8, 0]</text>\n",
       "<text text-anchor=\"start\" x=\"76\" y=\"-7.8\" font-family=\"Times,serif\" font-size=\"14.00\">class = true</text>\n",
       "</g>\n",
       "<!-- 2&#45;&gt;3 -->\n",
       "<g id=\"edge3\" class=\"edge\">\n",
       "<title>2&#45;&gt;3</title>\n",
       "<path fill=\"none\" stroke=\"black\" d=\"M146.91,-103.73C142.01,-95.06 136.82,-85.9 131.88,-77.18\"/>\n",
       "<polygon fill=\"black\" stroke=\"black\" points=\"134.83,-75.28 126.85,-68.3 128.74,-78.73 134.83,-75.28\"/>\n",
       "</g>\n",
       "<!-- 4 -->\n",
       "<g id=\"node5\" class=\"node\">\n",
       "<title>4</title>\n",
       "<polygon fill=\"#fefbf9\" stroke=\"black\" points=\"291.5,-68 172.5,-68 172.5,0 291.5,0 291.5,-68\"/>\n",
       "<text text-anchor=\"start\" x=\"204.5\" y=\"-52.8\" font-family=\"Times,serif\" font-size=\"14.00\">gini = 0.5</text>\n",
       "<text text-anchor=\"start\" x=\"191.5\" y=\"-37.8\" font-family=\"Times,serif\" font-size=\"14.00\">samples = 282</text>\n",
       "<text text-anchor=\"start\" x=\"180.5\" y=\"-22.8\" font-family=\"Times,serif\" font-size=\"14.00\">value = [143, 139]</text>\n",
       "<text text-anchor=\"start\" x=\"200\" y=\"-7.8\" font-family=\"Times,serif\" font-size=\"14.00\">class = true</text>\n",
       "</g>\n",
       "<!-- 2&#45;&gt;4 -->\n",
       "<g id=\"edge4\" class=\"edge\">\n",
       "<title>2&#45;&gt;4</title>\n",
       "<path fill=\"none\" stroke=\"black\" d=\"M193.09,-103.73C197.99,-95.06 203.18,-85.9 208.12,-77.18\"/>\n",
       "<polygon fill=\"black\" stroke=\"black\" points=\"211.26,-78.73 213.15,-68.3 205.17,-75.28 211.26,-78.73\"/>\n",
       "</g>\n",
       "</g>\n",
       "</svg>\n"
      ],
      "text/plain": [
       "<graphviz.sources.Source at 0x7faea8843c10>"
      ]
     },
     "execution_count": 9,
     "metadata": {},
     "output_type": "execute_result"
    }
   ],
   "source": [
    "features = [\"x\", \"y\"]\n",
    "target = [\"true\", \"false\"]\n",
    "\n",
    "dat = export_graphviz(m2c, filled=True, special_characters=True, feature_names=features, class_names=target)\n",
    "\n",
    "graph = graphviz.Source(dat)\n",
    "graph"
   ]
  },
  {
   "cell_type": "code",
   "execution_count": 10,
   "id": "881403c2",
   "metadata": {},
   "outputs": [
    {
     "data": {
      "image/png": "[encoded data removed]",
      "text/plain": [
       "<Figure size 432x288 with 1 Axes>"
      ]
     },
     "metadata": {
      "needs_background": "light"
     },
     "output_type": "display_data"
    }
   ],
   "source": [
    "# we can visualize the accuracy of the model using a confusion matrix\n",
    "\n",
    "acc = confusion_matrix(y, ŷ)\n",
    "\n",
    "plt.close('all')\n",
    "\n",
    "fig, ax = plt.subplots()\n",
    "ax.imshow(acc, cmap='bwr')\n",
    "ax.xaxis.set(ticks=(0, 1), ticklabels=('False', 'True'))\n",
    "ax.yaxis.set(ticks=(0, 1), ticklabels=('Negative', 'Positive'))\n",
    "for i in range(2):\n",
    "    for j in range(2):\n",
    "        ax.text(j, i, acc[i][j], color='black')\n",
    "plt.show()"
   ]
  },
  {
   "cell_type": "code",
   "execution_count": 11,
   "id": "27c75f13",
   "metadata": {},
   "outputs": [],
   "source": [
    "from sklearn.model_selection import GridSearchCV\n",
    "\n",
    "param = {'criterion':('gini', 'entropy'), 'splitter':('best', 'random'), 'max_depth' : [1,2,3,4,5,10], 'min_samples_leaf' : [1, 2,3,4, 5, 10, 100 ]}\n",
    "m = DecisionTreeClassifier() \n",
    "tree = GridSearchCV(m, param)\n",
    "\n"
   ]
  },
  {
   "cell_type": "code",
   "execution_count": 12,
   "id": "5d23212c",
   "metadata": {},
   "outputs": [
    {
     "data": {
      "text/plain": [
       "GridSearchCV(estimator=DecisionTreeClassifier(),\n",
       "             param_grid={'criterion': ('gini', 'entropy'),\n",
       "                         'max_depth': [1, 2, 3, 4, 5, 10],\n",
       "                         'min_samples_leaf': [1, 2, 3, 4, 5, 10, 100],\n",
       "                         'splitter': ('best', 'random')})"
      ]
     },
     "execution_count": 12,
     "metadata": {},
     "output_type": "execute_result"
    }
   ],
   "source": [
    "tree.fit(x,y)"
   ]
  },
  {
   "cell_type": "code",
   "execution_count": 13,
   "id": "3bb2e55b",
   "metadata": {},
   "outputs": [
    {
     "data": {
      "text/plain": [
       "DecisionTreeClassifier(max_depth=10, min_samples_leaf=2)"
      ]
     },
     "execution_count": 13,
     "metadata": {},
     "output_type": "execute_result"
    }
   ],
   "source": [
    "tree.best_estimator_"
   ]
  },
  {
   "cell_type": "code",
   "execution_count": 14,
   "id": "cde12d07",
   "metadata": {},
   "outputs": [
    {
     "data": {
      "text/plain": [
       "1.0"
      ]
     },
     "execution_count": 14,
     "metadata": {},
     "output_type": "execute_result"
    }
   ],
   "source": [
    "ŷ = tree.predict(x)\n",
    "\n",
    "accuracy_score(y, ŷ)"
   ]
  },
  {
   "cell_type": "code",
   "execution_count": 42,
   "id": "36caad56",
   "metadata": {},
   "outputs": [
    {
     "data": {
      "image/svg+xml": [
       "<?xml version=\"1.0\" encoding=\"UTF-8\" standalone=\"no\"?>\n",
       "<!DOCTYPE svg PUBLIC \"-//W3C//DTD SVG 1.1//EN\"\n",
       " \"http://www.w3.org/Graphics/SVG/1.1/DTD/svg11.dtd\">\n",
       "<!-- Generated by graphviz version 3.0.0 (20220226.1711)\n",
       " -->\n",
       "<!-- Title: Tree Pages: 1 -->\n",
       "<svg width=\"632pt\" height=\"671pt\"\n",
       " viewBox=\"0.00 0.00 632.00 671.00\" xmlns=\"http://www.w3.org/2000/svg\" xmlns:xlink=\"http://www.w3.org/1999/xlink\">\n",
       "<g id=\"graph0\" class=\"graph\" transform=\"scale(1 1) rotate(0) translate(4 667)\">\n",
       "<title>Tree</title>\n",
       "<polygon fill=\"white\" stroke=\"transparent\" points=\"-4,4 -4,-667 628,-667 628,4 -4,4\"/>\n",
       "<!-- 0 -->\n",
       "<g id=\"node1\" class=\"node\">\n",
       "<title>0</title>\n",
       "<polygon fill=\"#fef9f6\" stroke=\"black\" points=\"273.5,-663 154.5,-663 154.5,-580 273.5,-580 273.5,-663\"/>\n",
       "<text text-anchor=\"start\" x=\"185\" y=\"-647.8\" font-family=\"Times,serif\" font-size=\"14.00\">x ≤ &#45;1.828</text>\n",
       "<text text-anchor=\"start\" x=\"186.5\" y=\"-632.8\" font-family=\"Times,serif\" font-size=\"14.00\">gini = 0.5</text>\n",
       "<text text-anchor=\"start\" x=\"173.5\" y=\"-617.8\" font-family=\"Times,serif\" font-size=\"14.00\">samples = 299</text>\n",
       "<text text-anchor=\"start\" x=\"162.5\" y=\"-602.8\" font-family=\"Times,serif\" font-size=\"14.00\">value = [153, 146]</text>\n",
       "<text text-anchor=\"start\" x=\"182\" y=\"-587.8\" font-family=\"Times,serif\" font-size=\"14.00\">class = true</text>\n",
       "</g>\n",
       "<!-- 1 -->\n",
       "<g id=\"node2\" class=\"node\">\n",
       "<title>1</title>\n",
       "<polygon fill=\"#72b9ec\" stroke=\"black\" points=\"198,-544 106,-544 106,-461 198,-461 198,-544\"/>\n",
       "<text text-anchor=\"start\" x=\"129\" y=\"-528.8\" font-family=\"Times,serif\" font-size=\"14.00\">y ≤ 0.37</text>\n",
       "<text text-anchor=\"start\" x=\"118\" y=\"-513.8\" font-family=\"Times,serif\" font-size=\"14.00\">gini = 0.346</text>\n",
       "<text text-anchor=\"start\" x=\"118.5\" y=\"-498.8\" font-family=\"Times,serif\" font-size=\"14.00\">samples = 9</text>\n",
       "<text text-anchor=\"start\" x=\"114\" y=\"-483.8\" font-family=\"Times,serif\" font-size=\"14.00\">value = [2, 7]</text>\n",
       "<text text-anchor=\"start\" x=\"118\" y=\"-468.8\" font-family=\"Times,serif\" font-size=\"14.00\">class = false</text>\n",
       "</g>\n",
       "<!-- 0&#45;&gt;1 -->\n",
       "<g id=\"edge1\" class=\"edge\">\n",
       "<title>0&#45;&gt;1</title>\n",
       "<path fill=\"none\" stroke=\"black\" d=\"M192.49,-579.91C187.87,-571.2 182.95,-561.9 178.17,-552.89\"/>\n",
       "<polygon fill=\"black\" stroke=\"black\" points=\"181.25,-551.22 173.47,-544.02 175.06,-554.5 181.25,-551.22\"/>\n",
       "<text text-anchor=\"middle\" x=\"166.13\" y=\"-564.22\" font-family=\"Times,serif\" font-size=\"14.00\">True</text>\n",
       "</g>\n",
       "<!-- 4 -->\n",
       "<g id=\"node5\" class=\"node\">\n",
       "<title>4</title>\n",
       "<polygon fill=\"#fdf5ef\" stroke=\"black\" points=\"335.5,-544 216.5,-544 216.5,-461 335.5,-461 335.5,-544\"/>\n",
       "<text text-anchor=\"start\" x=\"247\" y=\"-528.8\" font-family=\"Times,serif\" font-size=\"14.00\">x ≤ &#45;1.578</text>\n",
       "<text text-anchor=\"start\" x=\"242\" y=\"-513.8\" font-family=\"Times,serif\" font-size=\"14.00\">gini = 0.499</text>\n",
       "<text text-anchor=\"start\" x=\"235.5\" y=\"-498.8\" font-family=\"Times,serif\" font-size=\"14.00\">samples = 290</text>\n",
       "<text text-anchor=\"start\" x=\"224.5\" y=\"-483.8\" font-family=\"Times,serif\" font-size=\"14.00\">value = [151, 139]</text>\n",
       "<text text-anchor=\"start\" x=\"244\" y=\"-468.8\" font-family=\"Times,serif\" font-size=\"14.00\">class = true</text>\n",
       "</g>\n",
       "<!-- 0&#45;&gt;4 -->\n",
       "<g id=\"edge4\" class=\"edge\">\n",
       "<title>0&#45;&gt;4</title>\n",
       "<path fill=\"none\" stroke=\"black\" d=\"M235.51,-579.91C240.13,-571.2 245.05,-561.9 249.83,-552.89\"/>\n",
       "<polygon fill=\"black\" stroke=\"black\" points=\"252.94,-554.5 254.53,-544.02 246.75,-551.22 252.94,-554.5\"/>\n",
       "<text text-anchor=\"middle\" x=\"261.87\" y=\"-564.22\" font-family=\"Times,serif\" font-size=\"14.00\">False</text>\n",
       "</g>\n",
       "<!-- 2 -->\n",
       "<g id=\"node3\" class=\"node\">\n",
       "<title>2</title>\n",
       "<polygon fill=\"#399de5\" stroke=\"black\" points=\"92,-417.5 0,-417.5 0,-349.5 92,-349.5 92,-417.5\"/>\n",
       "<text text-anchor=\"start\" x=\"18.5\" y=\"-402.3\" font-family=\"Times,serif\" font-size=\"14.00\">gini = 0.0</text>\n",
       "<text text-anchor=\"start\" x=\"12.5\" y=\"-387.3\" font-family=\"Times,serif\" font-size=\"14.00\">samples = 7</text>\n",
       "<text text-anchor=\"start\" x=\"8\" y=\"-372.3\" font-family=\"Times,serif\" font-size=\"14.00\">value = [0, 7]</text>\n",
       "<text text-anchor=\"start\" x=\"12\" y=\"-357.3\" font-family=\"Times,serif\" font-size=\"14.00\">class = false</text>\n",
       "</g>\n",
       "<!-- 1&#45;&gt;2 -->\n",
       "<g id=\"edge2\" class=\"edge\">\n",
       "<title>1&#45;&gt;2</title>\n",
       "<path fill=\"none\" stroke=\"black\" d=\"M115.22,-460.91C104.73,-449.32 93.29,-436.7 82.79,-425.11\"/>\n",
       "<polygon fill=\"black\" stroke=\"black\" points=\"85.36,-422.73 76.05,-417.67 80.17,-427.43 85.36,-422.73\"/>\n",
       "</g>\n",
       "<!-- 3 -->\n",
       "<g id=\"node4\" class=\"node\">\n",
       "<title>3</title>\n",
       "<polygon fill=\"#e58139\" stroke=\"black\" points=\"202,-417.5 110,-417.5 110,-349.5 202,-349.5 202,-417.5\"/>\n",
       "<text text-anchor=\"start\" x=\"128.5\" y=\"-402.3\" font-family=\"Times,serif\" font-size=\"14.00\">gini = 0.0</text>\n",
       "<text text-anchor=\"start\" x=\"122.5\" y=\"-387.3\" font-family=\"Times,serif\" font-size=\"14.00\">samples = 2</text>\n",
       "<text text-anchor=\"start\" x=\"118\" y=\"-372.3\" font-family=\"Times,serif\" font-size=\"14.00\">value = [2, 0]</text>\n",
       "<text text-anchor=\"start\" x=\"124\" y=\"-357.3\" font-family=\"Times,serif\" font-size=\"14.00\">class = true</text>\n",
       "</g>\n",
       "<!-- 1&#45;&gt;3 -->\n",
       "<g id=\"edge3\" class=\"edge\">\n",
       "<title>1&#45;&gt;3</title>\n",
       "<path fill=\"none\" stroke=\"black\" d=\"M153.39,-460.91C153.75,-450.2 154.15,-438.62 154.52,-427.78\"/>\n",
       "<polygon fill=\"black\" stroke=\"black\" points=\"158.02,-427.78 154.87,-417.67 151.03,-427.54 158.02,-427.78\"/>\n",
       "</g>\n",
       "<!-- 5 -->\n",
       "<g id=\"node6\" class=\"node\">\n",
       "<title>5</title>\n",
       "<polygon fill=\"#e58139\" stroke=\"black\" points=\"319,-417.5 227,-417.5 227,-349.5 319,-349.5 319,-417.5\"/>\n",
       "<text text-anchor=\"start\" x=\"245.5\" y=\"-402.3\" font-family=\"Times,serif\" font-size=\"14.00\">gini = 0.0</text>\n",
       "<text text-anchor=\"start\" x=\"239.5\" y=\"-387.3\" font-family=\"Times,serif\" font-size=\"14.00\">samples = 8</text>\n",
       "<text text-anchor=\"start\" x=\"235\" y=\"-372.3\" font-family=\"Times,serif\" font-size=\"14.00\">value = [8, 0]</text>\n",
       "<text text-anchor=\"start\" x=\"241\" y=\"-357.3\" font-family=\"Times,serif\" font-size=\"14.00\">class = true</text>\n",
       "</g>\n",
       "<!-- 4&#45;&gt;5 -->\n",
       "<g id=\"edge5\" class=\"edge\">\n",
       "<title>4&#45;&gt;5</title>\n",
       "<path fill=\"none\" stroke=\"black\" d=\"M274.96,-460.91C274.68,-450.2 274.39,-438.62 274.11,-427.78\"/>\n",
       "<polygon fill=\"black\" stroke=\"black\" points=\"277.61,-427.57 273.85,-417.67 270.61,-427.75 277.61,-427.57\"/>\n",
       "</g>\n",
       "<!-- 6 -->\n",
       "<g id=\"node7\" class=\"node\">\n",
       "<title>6</title>\n",
       "<polygon fill=\"#fefbf9\" stroke=\"black\" points=\"456.5,-425 337.5,-425 337.5,-342 456.5,-342 456.5,-425\"/>\n",
       "<text text-anchor=\"start\" x=\"374\" y=\"-409.8\" font-family=\"Times,serif\" font-size=\"14.00\">y ≤ 0.56</text>\n",
       "<text text-anchor=\"start\" x=\"369.5\" y=\"-394.8\" font-family=\"Times,serif\" font-size=\"14.00\">gini = 0.5</text>\n",
       "<text text-anchor=\"start\" x=\"356.5\" y=\"-379.8\" font-family=\"Times,serif\" font-size=\"14.00\">samples = 282</text>\n",
       "<text text-anchor=\"start\" x=\"345.5\" y=\"-364.8\" font-family=\"Times,serif\" font-size=\"14.00\">value = [143, 139]</text>\n",
       "<text text-anchor=\"start\" x=\"365\" y=\"-349.8\" font-family=\"Times,serif\" font-size=\"14.00\">class = true</text>\n",
       "</g>\n",
       "<!-- 4&#45;&gt;6 -->\n",
       "<g id=\"edge6\" class=\"edge\">\n",
       "<title>4&#45;&gt;6</title>\n",
       "<path fill=\"none\" stroke=\"black\" d=\"M317.98,-460.91C327.55,-451.65 337.81,-441.73 347.66,-432.21\"/>\n",
       "<polygon fill=\"black\" stroke=\"black\" points=\"350.34,-434.49 355.09,-425.02 345.47,-429.46 350.34,-434.49\"/>\n",
       "</g>\n",
       "<!-- 7 -->\n",
       "<g id=\"node8\" class=\"node\">\n",
       "<title>7</title>\n",
       "<polygon fill=\"#fceee4\" stroke=\"black\" points=\"390,-306 278,-306 278,-223 390,-223 390,-306\"/>\n",
       "<text text-anchor=\"start\" x=\"312\" y=\"-290.8\" font-family=\"Times,serif\" font-size=\"14.00\">x ≤ &#45;0.0</text>\n",
       "<text text-anchor=\"start\" x=\"300\" y=\"-275.8\" font-family=\"Times,serif\" font-size=\"14.00\">gini = 0.497</text>\n",
       "<text text-anchor=\"start\" x=\"293.5\" y=\"-260.8\" font-family=\"Times,serif\" font-size=\"14.00\">samples = 209</text>\n",
       "<text text-anchor=\"start\" x=\"286\" y=\"-245.8\" font-family=\"Times,serif\" font-size=\"14.00\">value = [112, 97]</text>\n",
       "<text text-anchor=\"start\" x=\"302\" y=\"-230.8\" font-family=\"Times,serif\" font-size=\"14.00\">class = true</text>\n",
       "</g>\n",
       "<!-- 6&#45;&gt;7 -->\n",
       "<g id=\"edge7\" class=\"edge\">\n",
       "<title>6&#45;&gt;7</title>\n",
       "<path fill=\"none\" stroke=\"black\" d=\"M375.14,-341.91C370.45,-333.2 365.44,-323.9 360.6,-314.89\"/>\n",
       "<polygon fill=\"black\" stroke=\"black\" points=\"363.64,-313.17 355.82,-306.02 357.48,-316.48 363.64,-313.17\"/>\n",
       "</g>\n",
       "<!-- 14 -->\n",
       "<g id=\"node15\" class=\"node\">\n",
       "<title>14</title>\n",
       "<polygon fill=\"#cbe5f8\" stroke=\"black\" points=\"513.5,-306 408.5,-306 408.5,-223 513.5,-223 513.5,-306\"/>\n",
       "<text text-anchor=\"start\" x=\"434.5\" y=\"-290.8\" font-family=\"Times,serif\" font-size=\"14.00\">x ≤ 0.021</text>\n",
       "<text text-anchor=\"start\" x=\"427\" y=\"-275.8\" font-family=\"Times,serif\" font-size=\"14.00\">gini = 0.489</text>\n",
       "<text text-anchor=\"start\" x=\"424\" y=\"-260.8\" font-family=\"Times,serif\" font-size=\"14.00\">samples = 73</text>\n",
       "<text text-anchor=\"start\" x=\"416.5\" y=\"-245.8\" font-family=\"Times,serif\" font-size=\"14.00\">value = [31, 42]</text>\n",
       "<text text-anchor=\"start\" x=\"427\" y=\"-230.8\" font-family=\"Times,serif\" font-size=\"14.00\">class = false</text>\n",
       "</g>\n",
       "<!-- 6&#45;&gt;14 -->\n",
       "<g id=\"edge14\" class=\"edge\">\n",
       "<title>6&#45;&gt;14</title>\n",
       "<path fill=\"none\" stroke=\"black\" d=\"M419.2,-341.91C423.97,-333.2 429.06,-323.9 433.98,-314.89\"/>\n",
       "<polygon fill=\"black\" stroke=\"black\" points=\"437.11,-316.47 438.83,-306.02 430.97,-313.11 437.11,-316.47\"/>\n",
       "</g>\n",
       "<!-- 8 -->\n",
       "<g id=\"node9\" class=\"node\">\n",
       "<title>8</title>\n",
       "<polygon fill=\"#aad5f4\" stroke=\"black\" points=\"265.5,-187 160.5,-187 160.5,-104 265.5,-104 265.5,-187\"/>\n",
       "<text text-anchor=\"start\" x=\"184\" y=\"-171.8\" font-family=\"Times,serif\" font-size=\"14.00\">y ≤ &#45;0.012</text>\n",
       "<text text-anchor=\"start\" x=\"179\" y=\"-156.8\" font-family=\"Times,serif\" font-size=\"14.00\">gini = 0.462</text>\n",
       "<text text-anchor=\"start\" x=\"172.5\" y=\"-141.8\" font-family=\"Times,serif\" font-size=\"14.00\">samples = 102</text>\n",
       "<text text-anchor=\"start\" x=\"168.5\" y=\"-126.8\" font-family=\"Times,serif\" font-size=\"14.00\">value = [37, 65]</text>\n",
       "<text text-anchor=\"start\" x=\"179\" y=\"-111.8\" font-family=\"Times,serif\" font-size=\"14.00\">class = false</text>\n",
       "</g>\n",
       "<!-- 7&#45;&gt;8 -->\n",
       "<g id=\"edge8\" class=\"edge\">\n",
       "<title>7&#45;&gt;8</title>\n",
       "<path fill=\"none\" stroke=\"black\" d=\"M292.02,-222.91C282.45,-213.65 272.19,-203.73 262.34,-194.21\"/>\n",
       "<polygon fill=\"black\" stroke=\"black\" points=\"264.53,-191.46 254.91,-187.02 259.66,-196.49 264.53,-191.46\"/>\n",
       "</g>\n",
       "<!-- 11 -->\n",
       "<g id=\"node12\" class=\"node\">\n",
       "<title>11</title>\n",
       "<polygon fill=\"#f0b78d\" stroke=\"black\" points=\"388.5,-187 283.5,-187 283.5,-104 388.5,-104 388.5,-187\"/>\n",
       "<text text-anchor=\"start\" x=\"309.5\" y=\"-171.8\" font-family=\"Times,serif\" font-size=\"14.00\">y ≤ 0.013</text>\n",
       "<text text-anchor=\"start\" x=\"302\" y=\"-156.8\" font-family=\"Times,serif\" font-size=\"14.00\">gini = 0.419</text>\n",
       "<text text-anchor=\"start\" x=\"295.5\" y=\"-141.8\" font-family=\"Times,serif\" font-size=\"14.00\">samples = 107</text>\n",
       "<text text-anchor=\"start\" x=\"291.5\" y=\"-126.8\" font-family=\"Times,serif\" font-size=\"14.00\">value = [75, 32]</text>\n",
       "<text text-anchor=\"start\" x=\"304\" y=\"-111.8\" font-family=\"Times,serif\" font-size=\"14.00\">class = true</text>\n",
       "</g>\n",
       "<!-- 7&#45;&gt;11 -->\n",
       "<g id=\"edge11\" class=\"edge\">\n",
       "<title>7&#45;&gt;11</title>\n",
       "<path fill=\"none\" stroke=\"black\" d=\"M334.69,-222.91C334.84,-214.56 334.99,-205.67 335.14,-197.02\"/>\n",
       "<polygon fill=\"black\" stroke=\"black\" points=\"338.64,-197.08 335.31,-187.02 331.64,-196.96 338.64,-197.08\"/>\n",
       "</g>\n",
       "<!-- 9 -->\n",
       "<g id=\"node10\" class=\"node\">\n",
       "<title>9</title>\n",
       "<polygon fill=\"#399de5\" stroke=\"black\" points=\"148,-68 50,-68 50,0 148,0 148,-68\"/>\n",
       "<text text-anchor=\"start\" x=\"71.5\" y=\"-52.8\" font-family=\"Times,serif\" font-size=\"14.00\">gini = 0.0</text>\n",
       "<text text-anchor=\"start\" x=\"62\" y=\"-37.8\" font-family=\"Times,serif\" font-size=\"14.00\">samples = 65</text>\n",
       "<text text-anchor=\"start\" x=\"58\" y=\"-22.8\" font-family=\"Times,serif\" font-size=\"14.00\">value = [0, 65]</text>\n",
       "<text text-anchor=\"start\" x=\"65\" y=\"-7.8\" font-family=\"Times,serif\" font-size=\"14.00\">class = false</text>\n",
       "</g>\n",
       "<!-- 8&#45;&gt;9 -->\n",
       "<g id=\"edge9\" class=\"edge\">\n",
       "<title>8&#45;&gt;9</title>\n",
       "<path fill=\"none\" stroke=\"black\" d=\"M170.55,-103.73C160.87,-94.42 150.58,-84.54 140.92,-75.26\"/>\n",
       "<polygon fill=\"black\" stroke=\"black\" points=\"143.3,-72.7 133.67,-68.3 138.46,-77.75 143.3,-72.7\"/>\n",
       "</g>\n",
       "<!-- 10 -->\n",
       "<g id=\"node11\" class=\"node\">\n",
       "<title>10</title>\n",
       "<polygon fill=\"#e58139\" stroke=\"black\" points=\"264,-68 166,-68 166,0 264,0 264,-68\"/>\n",
       "<text text-anchor=\"start\" x=\"187.5\" y=\"-52.8\" font-family=\"Times,serif\" font-size=\"14.00\">gini = 0.0</text>\n",
       "<text text-anchor=\"start\" x=\"178\" y=\"-37.8\" font-family=\"Times,serif\" font-size=\"14.00\">samples = 37</text>\n",
       "<text text-anchor=\"start\" x=\"174\" y=\"-22.8\" font-family=\"Times,serif\" font-size=\"14.00\">value = [37, 0]</text>\n",
       "<text text-anchor=\"start\" x=\"183\" y=\"-7.8\" font-family=\"Times,serif\" font-size=\"14.00\">class = true</text>\n",
       "</g>\n",
       "<!-- 8&#45;&gt;10 -->\n",
       "<g id=\"edge10\" class=\"edge\">\n",
       "<title>8&#45;&gt;10</title>\n",
       "<path fill=\"none\" stroke=\"black\" d=\"M213.74,-103.73C213.89,-95.52 214.05,-86.86 214.2,-78.56\"/>\n",
       "<polygon fill=\"black\" stroke=\"black\" points=\"217.71,-78.36 214.39,-68.3 210.71,-78.23 217.71,-78.36\"/>\n",
       "</g>\n",
       "<!-- 12 -->\n",
       "<g id=\"node13\" class=\"node\">\n",
       "<title>12</title>\n",
       "<polygon fill=\"#e58139\" stroke=\"black\" points=\"383,-68 285,-68 285,0 383,0 383,-68\"/>\n",
       "<text text-anchor=\"start\" x=\"306.5\" y=\"-52.8\" font-family=\"Times,serif\" font-size=\"14.00\">gini = 0.0</text>\n",
       "<text text-anchor=\"start\" x=\"297\" y=\"-37.8\" font-family=\"Times,serif\" font-size=\"14.00\">samples = 75</text>\n",
       "<text text-anchor=\"start\" x=\"293\" y=\"-22.8\" font-family=\"Times,serif\" font-size=\"14.00\">value = [75, 0]</text>\n",
       "<text text-anchor=\"start\" x=\"302\" y=\"-7.8\" font-family=\"Times,serif\" font-size=\"14.00\">class = true</text>\n",
       "</g>\n",
       "<!-- 11&#45;&gt;12 -->\n",
       "<g id=\"edge12\" class=\"edge\">\n",
       "<title>11&#45;&gt;12</title>\n",
       "<path fill=\"none\" stroke=\"black\" d=\"M335.26,-103.73C335.11,-95.52 334.95,-86.86 334.8,-78.56\"/>\n",
       "<polygon fill=\"black\" stroke=\"black\" points=\"338.29,-78.23 334.61,-68.3 331.29,-78.36 338.29,-78.23\"/>\n",
       "</g>\n",
       "<!-- 13 -->\n",
       "<g id=\"node14\" class=\"node\">\n",
       "<title>13</title>\n",
       "<polygon fill=\"#399de5\" stroke=\"black\" points=\"499,-68 401,-68 401,0 499,0 499,-68\"/>\n",
       "<text text-anchor=\"start\" x=\"422.5\" y=\"-52.8\" font-family=\"Times,serif\" font-size=\"14.00\">gini = 0.0</text>\n",
       "<text text-anchor=\"start\" x=\"413\" y=\"-37.8\" font-family=\"Times,serif\" font-size=\"14.00\">samples = 32</text>\n",
       "<text text-anchor=\"start\" x=\"409\" y=\"-22.8\" font-family=\"Times,serif\" font-size=\"14.00\">value = [0, 32]</text>\n",
       "<text text-anchor=\"start\" x=\"416\" y=\"-7.8\" font-family=\"Times,serif\" font-size=\"14.00\">class = false</text>\n",
       "</g>\n",
       "<!-- 11&#45;&gt;13 -->\n",
       "<g id=\"edge13\" class=\"edge\">\n",
       "<title>11&#45;&gt;13</title>\n",
       "<path fill=\"none\" stroke=\"black\" d=\"M378.45,-103.73C388.13,-94.42 398.42,-84.54 408.08,-75.26\"/>\n",
       "<polygon fill=\"black\" stroke=\"black\" points=\"410.54,-77.75 415.33,-68.3 405.7,-72.7 410.54,-77.75\"/>\n",
       "</g>\n",
       "<!-- 15 -->\n",
       "<g id=\"node16\" class=\"node\">\n",
       "<title>15</title>\n",
       "<polygon fill=\"#e58139\" stroke=\"black\" points=\"508,-179.5 410,-179.5 410,-111.5 508,-111.5 508,-179.5\"/>\n",
       "<text text-anchor=\"start\" x=\"431.5\" y=\"-164.3\" font-family=\"Times,serif\" font-size=\"14.00\">gini = 0.0</text>\n",
       "<text text-anchor=\"start\" x=\"422\" y=\"-149.3\" font-family=\"Times,serif\" font-size=\"14.00\">samples = 31</text>\n",
       "<text text-anchor=\"start\" x=\"418\" y=\"-134.3\" font-family=\"Times,serif\" font-size=\"14.00\">value = [31, 0]</text>\n",
       "<text text-anchor=\"start\" x=\"427\" y=\"-119.3\" font-family=\"Times,serif\" font-size=\"14.00\">class = true</text>\n",
       "</g>\n",
       "<!-- 14&#45;&gt;15 -->\n",
       "<g id=\"edge15\" class=\"edge\">\n",
       "<title>14&#45;&gt;15</title>\n",
       "<path fill=\"none\" stroke=\"black\" d=\"M460.31,-222.91C460.12,-212.2 459.93,-200.62 459.74,-189.78\"/>\n",
       "<polygon fill=\"black\" stroke=\"black\" points=\"463.24,-189.61 459.57,-179.67 456.24,-189.73 463.24,-189.61\"/>\n",
       "</g>\n",
       "<!-- 16 -->\n",
       "<g id=\"node17\" class=\"node\">\n",
       "<title>16</title>\n",
       "<polygon fill=\"#399de5\" stroke=\"black\" points=\"624,-179.5 526,-179.5 526,-111.5 624,-111.5 624,-179.5\"/>\n",
       "<text text-anchor=\"start\" x=\"547.5\" y=\"-164.3\" font-family=\"Times,serif\" font-size=\"14.00\">gini = 0.0</text>\n",
       "<text text-anchor=\"start\" x=\"538\" y=\"-149.3\" font-family=\"Times,serif\" font-size=\"14.00\">samples = 42</text>\n",
       "<text text-anchor=\"start\" x=\"534\" y=\"-134.3\" font-family=\"Times,serif\" font-size=\"14.00\">value = [0, 42]</text>\n",
       "<text text-anchor=\"start\" x=\"541\" y=\"-119.3\" font-family=\"Times,serif\" font-size=\"14.00\">class = false</text>\n",
       "</g>\n",
       "<!-- 14&#45;&gt;16 -->\n",
       "<g id=\"edge16\" class=\"edge\">\n",
       "<title>14&#45;&gt;16</title>\n",
       "<path fill=\"none\" stroke=\"black\" d=\"M500.55,-222.91C511.84,-211.32 524.14,-198.7 535.43,-187.11\"/>\n",
       "<polygon fill=\"black\" stroke=\"black\" points=\"538.21,-189.27 542.68,-179.67 533.2,-184.39 538.21,-189.27\"/>\n",
       "</g>\n",
       "</g>\n",
       "</svg>\n"
      ],
      "text/plain": [
       "<graphviz.sources.Source at 0x7faebc2d5430>"
      ]
     },
     "execution_count": 42,
     "metadata": {},
     "output_type": "execute_result"
    }
   ],
   "source": [
    "features = [\"x\", \"y\"]\n",
    "target = [\"true\", \"false\"]\n",
    "\n",
    "dat = export_graphviz(tree.best_estimator_, filled=True, special_characters=True, feature_names=features, class_names=target)\n",
    "\n",
    "graph = graphviz.Source(dat)\n",
    "graph"
   ]
  },
  {
   "cell_type": "markdown",
   "id": "9cdc2b24",
   "metadata": {},
   "source": [
    "## Decision Tree Regressor"
   ]
  },
  {
   "cell_type": "markdown",
   "id": "9a8a2957",
   "metadata": {},
   "source": [
    "In Decision Trees for Classification, we saw how the tree asks right questions at the right node in order to give accurate and efficient classifications. The way this is done in Classification Trees is by using 2 measures , namely Entropy and Information Gain. \n",
    "\n",
    "But since we are predicting continuous variables, we cannot calculate the entropy and go through the same process. We need a different measure now. A measure that tells us how much our predictions deviate from the original target and that’s the entry-point of mean square error.\n",
    "\n",
    "In the Regression Tree algorithm, we do the same thing as the Classification trees. But, we try to reduce the Mean Square Error at each child rather than the entropy.\n",
    "\n",
    "The basic idea behind the algorithm is to find the point in the independent variable to split the data-set into 2 parts, so that the mean squared error is the minimised at that point. The algorithm does this in a repetitive fashion and forms a tree-like structure."
   ]
  },
  {
   "cell_type": "code",
   "execution_count": 15,
   "id": "ef85e18c",
   "metadata": {
    "scrolled": false
   },
   "outputs": [],
   "source": [
    "x = np.linspace(0, 4 * 3.14159, 1000)\n",
    "y = np.sin(x) + np.random.randn(1000)/5\n",
    "\n",
    "x = x.reshape(-1, 1)\n",
    "y = y.reshape(-1, 1)"
   ]
  },
  {
   "cell_type": "code",
   "execution_count": 16,
   "id": "ab0dd4f9",
   "metadata": {},
   "outputs": [
    {
     "data": {
      "text/plain": [
       "Text(0, 0.5, 'target')"
      ]
     },
     "execution_count": 16,
     "metadata": {},
     "output_type": "execute_result"
    },
    {
     "data": {
      "image/png": "[encoded data removed]",
      "text/plain": [
       "<Figure size 432x288 with 1 Axes>"
      ]
     },
     "metadata": {
      "needs_background": "light"
     },
     "output_type": "display_data"
    }
   ],
   "source": [
    "# clear old visualizations\n",
    "plt.close('all')\n",
    "\n",
    "# visualize the points\n",
    "fig, ax = plt.subplots()\n",
    "plt.scatter(x, y, s=0.2)\n",
    "ax.set_xlabel(\"data\")\n",
    "ax.set_ylabel(\"target\")"
   ]
  },
  {
   "cell_type": "code",
   "execution_count": 17,
   "id": "705bfd84",
   "metadata": {
    "scrolled": false
   },
   "outputs": [
    {
     "data": {
      "text/plain": [
       "0.3201248885725335"
      ]
     },
     "execution_count": 17,
     "metadata": {},
     "output_type": "execute_result"
    }
   ],
   "source": [
    "from sklearn.tree import DecisionTreeRegressor\n",
    "from sklearn.metrics import mean_squared_error\n",
    "\n",
    "m2 = DecisionTreeRegressor(max_depth=2, min_samples_leaf=5) \n",
    "m2.fit(x, y)\n",
    "ŷ = m2.predict(x)\n",
    "\n",
    "mean_squared_error(y, ŷ)"
   ]
  },
  {
   "cell_type": "code",
   "execution_count": 18,
   "id": "660a5e6f",
   "metadata": {},
   "outputs": [
    {
     "data": {
      "text/plain": [
       "[<matplotlib.lines.Line2D at 0x7faec83ec160>]"
      ]
     },
     "execution_count": 18,
     "metadata": {},
     "output_type": "execute_result"
    },
    {
     "data": {
      "image/png": "[encoded data removed]",
      "text/plain": [
       "<Figure size 432x288 with 1 Axes>"
      ]
     },
     "metadata": {
      "needs_background": "light"
     },
     "output_type": "display_data"
    }
   ],
   "source": [
    "# clear old visualizations\n",
    "plt.close('all')\n",
    "\n",
    "# visualize the points\n",
    "fig, ax = plt.subplots()\n",
    "plt.scatter(x, y, s=0.2)\n",
    "ax.set_xlabel(\"data\")\n",
    "ax.set_ylabel(\"target\")\n",
    "plt.plot(x, ŷ)"
   ]
  },
  {
   "cell_type": "code",
   "execution_count": 19,
   "id": "aae3002c",
   "metadata": {
    "scrolled": true
   },
   "outputs": [
    {
     "data": {
      "image/svg+xml": [
       "<?xml version=\"1.0\" encoding=\"UTF-8\" standalone=\"no\"?>\n",
       "<!DOCTYPE svg PUBLIC \"-//W3C//DTD SVG 1.1//EN\"\n",
       " \"http://www.w3.org/Graphics/SVG/1.1/DTD/svg11.dtd\">\n",
       "<!-- Generated by graphviz version 3.0.0 (20220226.1711)\n",
       " -->\n",
       "<!-- Title: Tree Pages: 1 -->\n",
       "<svg width=\"450pt\" height=\"261pt\"\n",
       " viewBox=\"0.00 0.00 450.00 261.00\" xmlns=\"http://www.w3.org/2000/svg\" xmlns:xlink=\"http://www.w3.org/1999/xlink\">\n",
       "<g id=\"graph0\" class=\"graph\" transform=\"scale(1 1) rotate(0) translate(4 257)\">\n",
       "<title>Tree</title>\n",
       "<polygon fill=\"white\" stroke=\"transparent\" points=\"-4,4 -4,-257 446,-257 446,4 -4,4\"/>\n",
       "<!-- 0 -->\n",
       "<g id=\"node1\" class=\"node\">\n",
       "<title>0</title>\n",
       "<polygon fill=\"#f1bb94\" stroke=\"black\" points=\"272.5,-253 168.5,-253 168.5,-189 272.5,-189 272.5,-253\"/>\n",
       "<text text-anchor=\"start\" x=\"189\" y=\"-238.8\" font-family=\"Times,serif\" font-size=\"14.00\">X</text>\n",
       "<text text-anchor=\"start\" x=\"199\" y=\"-238.8\" font-family=\"Times,serif\" baseline-shift=\"sub\" font-size=\"14.00\">0</text>\n",
       "<text text-anchor=\"start\" x=\"206\" y=\"-238.8\" font-family=\"Times,serif\" font-size=\"14.00\"> ≤ 9.705</text>\n",
       "<text text-anchor=\"start\" x=\"185.5\" y=\"-224.8\" font-family=\"Times,serif\" font-size=\"14.00\">mse = 0.551</text>\n",
       "<text text-anchor=\"start\" x=\"176.5\" y=\"-210.8\" font-family=\"Times,serif\" font-size=\"14.00\">samples = 1000</text>\n",
       "<text text-anchor=\"start\" x=\"180\" y=\"-196.8\" font-family=\"Times,serif\" font-size=\"14.00\">value = &#45;0.002</text>\n",
       "</g>\n",
       "<!-- 1 -->\n",
       "<g id=\"node2\" class=\"node\">\n",
       "<title>1</title>\n",
       "<polygon fill=\"#eda978\" stroke=\"black\" points=\"212,-153 115,-153 115,-89 212,-89 212,-153\"/>\n",
       "<text text-anchor=\"start\" x=\"132\" y=\"-138.8\" font-family=\"Times,serif\" font-size=\"14.00\">X</text>\n",
       "<text text-anchor=\"start\" x=\"142\" y=\"-138.8\" font-family=\"Times,serif\" baseline-shift=\"sub\" font-size=\"14.00\">0</text>\n",
       "<text text-anchor=\"start\" x=\"149\" y=\"-138.8\" font-family=\"Times,serif\" font-size=\"14.00\"> ≤ 2.786</text>\n",
       "<text text-anchor=\"start\" x=\"128.5\" y=\"-124.8\" font-family=\"Times,serif\" font-size=\"14.00\">mse = 0.487</text>\n",
       "<text text-anchor=\"start\" x=\"123\" y=\"-110.8\" font-family=\"Times,serif\" font-size=\"14.00\">samples = 772</text>\n",
       "<text text-anchor=\"start\" x=\"125.5\" y=\"-96.8\" font-family=\"Times,serif\" font-size=\"14.00\">value = 0.209</text>\n",
       "</g>\n",
       "<!-- 0&#45;&gt;1 -->\n",
       "<g id=\"edge1\" class=\"edge\">\n",
       "<title>0&#45;&gt;1</title>\n",
       "<path fill=\"none\" stroke=\"black\" d=\"M202.46,-188.99C197.47,-180.41 191.99,-170.98 186.75,-161.97\"/>\n",
       "<polygon fill=\"black\" stroke=\"black\" points=\"189.67,-160.03 181.61,-153.14 183.62,-163.55 189.67,-160.03\"/>\n",
       "<text text-anchor=\"middle\" x=\"175.22\" y=\"-173.61\" font-family=\"Times,serif\" font-size=\"14.00\">True</text>\n",
       "</g>\n",
       "<!-- 4 -->\n",
       "<g id=\"node5\" class=\"node\">\n",
       "<title>4</title>\n",
       "<polygon fill=\"#fdf7f3\" stroke=\"black\" points=\"327,-153 230,-153 230,-89 327,-89 327,-153\"/>\n",
       "<text text-anchor=\"start\" x=\"243.5\" y=\"-138.8\" font-family=\"Times,serif\" font-size=\"14.00\">X</text>\n",
       "<text text-anchor=\"start\" x=\"253.5\" y=\"-138.8\" font-family=\"Times,serif\" baseline-shift=\"sub\" font-size=\"14.00\">0</text>\n",
       "<text text-anchor=\"start\" x=\"260.5\" y=\"-138.8\" font-family=\"Times,serif\" font-size=\"14.00\"> ≤ 12.095</text>\n",
       "<text text-anchor=\"start\" x=\"243.5\" y=\"-124.8\" font-family=\"Times,serif\" font-size=\"14.00\">mse = 0.112</text>\n",
       "<text text-anchor=\"start\" x=\"238\" y=\"-110.8\" font-family=\"Times,serif\" font-size=\"14.00\">samples = 228</text>\n",
       "<text text-anchor=\"start\" x=\"238\" y=\"-96.8\" font-family=\"Times,serif\" font-size=\"14.00\">value = &#45;0.715</text>\n",
       "</g>\n",
       "<!-- 0&#45;&gt;4 -->\n",
       "<g id=\"edge4\" class=\"edge\">\n",
       "<title>0&#45;&gt;4</title>\n",
       "<path fill=\"none\" stroke=\"black\" d=\"M238.85,-188.99C243.93,-180.41 249.51,-170.98 254.85,-161.97\"/>\n",
       "<polygon fill=\"black\" stroke=\"black\" points=\"257.99,-163.53 260.07,-153.14 251.96,-159.97 257.99,-163.53\"/>\n",
       "<text text-anchor=\"middle\" x=\"266.28\" y=\"-173.66\" font-family=\"Times,serif\" font-size=\"14.00\">False</text>\n",
       "</g>\n",
       "<!-- 2 -->\n",
       "<g id=\"node3\" class=\"node\">\n",
       "<title>2</title>\n",
       "<polygon fill=\"#e58139\" stroke=\"black\" points=\"97,-53 0,-53 0,0 97,0 97,-53\"/>\n",
       "<text text-anchor=\"start\" x=\"13.5\" y=\"-37.8\" font-family=\"Times,serif\" font-size=\"14.00\">mse = 0.111</text>\n",
       "<text text-anchor=\"start\" x=\"8\" y=\"-22.8\" font-family=\"Times,serif\" font-size=\"14.00\">samples = 222</text>\n",
       "<text text-anchor=\"start\" x=\"10.5\" y=\"-7.8\" font-family=\"Times,serif\" font-size=\"14.00\">value = 0.687</text>\n",
       "</g>\n",
       "<!-- 1&#45;&gt;2 -->\n",
       "<g id=\"edge2\" class=\"edge\">\n",
       "<title>1&#45;&gt;2</title>\n",
       "<path fill=\"none\" stroke=\"black\" d=\"M124.89,-88.94C113.12,-79.47 100.16,-69.05 88.31,-59.52\"/>\n",
       "<polygon fill=\"black\" stroke=\"black\" points=\"90.3,-56.63 80.32,-53.09 85.91,-62.09 90.3,-56.63\"/>\n",
       "</g>\n",
       "<!-- 3 -->\n",
       "<g id=\"node4\" class=\"node\">\n",
       "<title>3</title>\n",
       "<polygon fill=\"#f1ba92\" stroke=\"black\" points=\"212,-53 115,-53 115,0 212,0 212,-53\"/>\n",
       "<text text-anchor=\"start\" x=\"128.5\" y=\"-37.8\" font-family=\"Times,serif\" font-size=\"14.00\">mse = 0.509</text>\n",
       "<text text-anchor=\"start\" x=\"123\" y=\"-22.8\" font-family=\"Times,serif\" font-size=\"14.00\">samples = 550</text>\n",
       "<text text-anchor=\"start\" x=\"125.5\" y=\"-7.8\" font-family=\"Times,serif\" font-size=\"14.00\">value = 0.015</text>\n",
       "</g>\n",
       "<!-- 1&#45;&gt;3 -->\n",
       "<g id=\"edge3\" class=\"edge\">\n",
       "<title>1&#45;&gt;3</title>\n",
       "<path fill=\"none\" stroke=\"black\" d=\"M163.5,-88.94C163.5,-80.66 163.5,-71.64 163.5,-63.13\"/>\n",
       "<polygon fill=\"black\" stroke=\"black\" points=\"167,-63.09 163.5,-53.09 160,-63.09 167,-63.09\"/>\n",
       "</g>\n",
       "<!-- 5 -->\n",
       "<g id=\"node6\" class=\"node\">\n",
       "<title>5</title>\n",
       "<polygon fill=\"#ffffff\" stroke=\"black\" points=\"327,-53 230,-53 230,0 327,0 327,-53\"/>\n",
       "<text text-anchor=\"start\" x=\"243.5\" y=\"-37.8\" font-family=\"Times,serif\" font-size=\"14.00\">mse = 0.072</text>\n",
       "<text text-anchor=\"start\" x=\"238\" y=\"-22.8\" font-family=\"Times,serif\" font-size=\"14.00\">samples = 190</text>\n",
       "<text text-anchor=\"start\" x=\"238\" y=\"-7.8\" font-family=\"Times,serif\" font-size=\"14.00\">value = &#45;0.808</text>\n",
       "</g>\n",
       "<!-- 4&#45;&gt;5 -->\n",
       "<g id=\"edge5\" class=\"edge\">\n",
       "<title>4&#45;&gt;5</title>\n",
       "<path fill=\"none\" stroke=\"black\" d=\"M278.5,-88.94C278.5,-80.66 278.5,-71.64 278.5,-63.13\"/>\n",
       "<polygon fill=\"black\" stroke=\"black\" points=\"282,-63.09 278.5,-53.09 275,-63.09 282,-63.09\"/>\n",
       "</g>\n",
       "<!-- 6 -->\n",
       "<g id=\"node7\" class=\"node\">\n",
       "<title>6</title>\n",
       "<polygon fill=\"#f5d0b5\" stroke=\"black\" points=\"442,-53 345,-53 345,0 442,0 442,-53\"/>\n",
       "<text text-anchor=\"start\" x=\"358.5\" y=\"-37.8\" font-family=\"Times,serif\" font-size=\"14.00\">mse = 0.051</text>\n",
       "<text text-anchor=\"start\" x=\"356.5\" y=\"-22.8\" font-family=\"Times,serif\" font-size=\"14.00\">samples = 38</text>\n",
       "<text text-anchor=\"start\" x=\"353\" y=\"-7.8\" font-family=\"Times,serif\" font-size=\"14.00\">value = &#45;0.251</text>\n",
       "</g>\n",
       "<!-- 4&#45;&gt;6 -->\n",
       "<g id=\"edge6\" class=\"edge\">\n",
       "<title>4&#45;&gt;6</title>\n",
       "<path fill=\"none\" stroke=\"black\" d=\"M317.11,-88.94C328.88,-79.47 341.84,-69.05 353.69,-59.52\"/>\n",
       "<polygon fill=\"black\" stroke=\"black\" points=\"356.09,-62.09 361.68,-53.09 351.7,-56.63 356.09,-62.09\"/>\n",
       "</g>\n",
       "</g>\n",
       "</svg>\n"
      ],
      "text/plain": [
       "<graphviz.sources.Source at 0x7faec8412b20>"
      ]
     },
     "execution_count": 19,
     "metadata": {},
     "output_type": "execute_result"
    }
   ],
   "source": [
    "dat = export_graphviz(m2, filled=True, special_characters=True)\n",
    "graph = graphviz.Source(dat)\n",
    "graph"
   ]
  },
  {
   "cell_type": "code",
   "execution_count": 20,
   "id": "f9113d68",
   "metadata": {
    "scrolled": true
   },
   "outputs": [
    {
     "data": {
      "text/plain": [
       "0.044606236556876386"
      ]
     },
     "execution_count": 20,
     "metadata": {},
     "output_type": "execute_result"
    }
   ],
   "source": [
    "m5 = DecisionTreeRegressor(max_depth=5, min_samples_leaf=5) \n",
    "m5.fit(x, y)\n",
    "\n",
    "mean_squared_error(y, m5.predict(x))"
   ]
  },
  {
   "cell_type": "code",
   "execution_count": 21,
   "id": "57962bb2",
   "metadata": {},
   "outputs": [
    {
     "data": {
      "text/plain": [
       "[<matplotlib.lines.Line2D at 0x7faea896feb0>]"
      ]
     },
     "execution_count": 21,
     "metadata": {},
     "output_type": "execute_result"
    },
    {
     "data": {
      "image/png": "[encoded data removed]",
      "text/plain": [
       "<Figure size 432x288 with 1 Axes>"
      ]
     },
     "metadata": {
      "needs_background": "light"
     },
     "output_type": "display_data"
    }
   ],
   "source": [
    "# clear old visualizations\n",
    "plt.close('all')\n",
    "\n",
    "# visualize the points\n",
    "fig, ax = plt.subplots()\n",
    "plt.scatter(x, y, s=0.2)\n",
    "ax.set_xlabel(\"data\")\n",
    "ax.set_ylabel(\"target\")\n",
    "plt.plot(x, m5.predict(x))"
   ]
  },
  {
   "cell_type": "markdown",
   "id": "5989b036",
   "metadata": {},
   "source": [
    "# Working with real data"
   ]
  },
  {
   "cell_type": "code",
   "execution_count": 22,
   "id": "795218d8",
   "metadata": {},
   "outputs": [
    {
     "name": "stdout",
     "output_type": "stream",
     "text": [
      ".. _california_housing_dataset:\n",
      "\n",
      "California Housing dataset\n",
      "--------------------------\n",
      "\n",
      "**Data Set Characteristics:**\n",
      "\n",
      "    :Number of Instances: 20640\n",
      "\n",
      "    :Number of Attributes: 8 numeric, predictive attributes and the target\n",
      "\n",
      "    :Attribute Information:\n",
      "        - MedInc        median income in block\n",
      "        - HouseAge      median house age in block\n",
      "        - AveRooms      average number of rooms\n",
      "        - AveBedrms     average number of bedrooms\n",
      "        - Population    block population\n",
      "        - AveOccup      average house occupancy\n",
      "        - Latitude      house block latitude\n",
      "        - Longitude     house block longitude\n",
      "\n",
      "    :Missing Attribute Values: None\n",
      "\n",
      "This dataset was obtained from the StatLib repository.\n",
      "http://lib.stat.cmu.edu/datasets/\n",
      "\n",
      "The target variable is the median house value for California districts.\n",
      "\n",
      "This dataset was derived from the 1990 U.S. census, using one row per census\n",
      "block group. A block group is the smallest geographical unit for which the U.S.\n",
      "Census Bureau publishes sample data (a block group typically has a population\n",
      "of 600 to 3,000 people).\n",
      "\n",
      "It can be downloaded/loaded using the\n",
      ":func:`sklearn.datasets.fetch_california_housing` function.\n",
      "\n",
      ".. topic:: References\n",
      "\n",
      "    - Pace, R. Kelley and Ronald Barry, Sparse Spatial Autoregressions,\n",
      "      Statistics and Probability Letters, 33 (1997) 291-297\n",
      "\n"
     ]
    }
   ],
   "source": [
    "from sklearn.datasets import fetch_california_housing\n",
    "from sklearn.metrics import accuracy_score,classification_report,confusion_matrix\n",
    "from sklearn.model_selection import train_test_split\n",
    "\n",
    "housing = fetch_california_housing()\n",
    "print(housing.DESCR)"
   ]
  },
  {
   "cell_type": "code",
   "execution_count": 23,
   "id": "d6bd9fe3",
   "metadata": {},
   "outputs": [
    {
     "data": {
      "text/html": [
       "<div>\n",
       "<style scoped>\n",
       "    .dataframe tbody tr th:only-of-type {\n",
       "        vertical-align: middle;\n",
       "    }\n",
       "\n",
       "    .dataframe tbody tr th {\n",
       "        vertical-align: top;\n",
       "    }\n",
       "\n",
       "    .dataframe thead th {\n",
       "        text-align: right;\n",
       "    }\n",
       "</style>\n",
       "<table border=\"1\" class=\"dataframe\">\n",
       "  <thead>\n",
       "    <tr style=\"text-align: right;\">\n",
       "      <th></th>\n",
       "      <th>0</th>\n",
       "      <th>1</th>\n",
       "      <th>2</th>\n",
       "      <th>3</th>\n",
       "      <th>4</th>\n",
       "      <th>5</th>\n",
       "      <th>6</th>\n",
       "      <th>7</th>\n",
       "    </tr>\n",
       "  </thead>\n",
       "  <tbody>\n",
       "    <tr>\n",
       "      <th>3218</th>\n",
       "      <td>1.7596</td>\n",
       "      <td>26.0</td>\n",
       "      <td>5.103448</td>\n",
       "      <td>1.043103</td>\n",
       "      <td>268.0</td>\n",
       "      <td>2.310345</td>\n",
       "      <td>36.32</td>\n",
       "      <td>-119.68</td>\n",
       "    </tr>\n",
       "    <tr>\n",
       "      <th>1354</th>\n",
       "      <td>2.7907</td>\n",
       "      <td>29.0</td>\n",
       "      <td>5.097259</td>\n",
       "      <td>1.034483</td>\n",
       "      <td>3266.0</td>\n",
       "      <td>2.887710</td>\n",
       "      <td>38.02</td>\n",
       "      <td>-121.94</td>\n",
       "    </tr>\n",
       "    <tr>\n",
       "      <th>20405</th>\n",
       "      <td>6.5851</td>\n",
       "      <td>26.0</td>\n",
       "      <td>7.989950</td>\n",
       "      <td>0.984925</td>\n",
       "      <td>654.0</td>\n",
       "      <td>3.286432</td>\n",
       "      <td>34.21</td>\n",
       "      <td>-118.88</td>\n",
       "    </tr>\n",
       "    <tr>\n",
       "      <th>14566</th>\n",
       "      <td>4.5402</td>\n",
       "      <td>34.0</td>\n",
       "      <td>6.441791</td>\n",
       "      <td>1.092537</td>\n",
       "      <td>1046.0</td>\n",
       "      <td>3.122388</td>\n",
       "      <td>32.84</td>\n",
       "      <td>-117.21</td>\n",
       "    </tr>\n",
       "    <tr>\n",
       "      <th>18312</th>\n",
       "      <td>5.2114</td>\n",
       "      <td>40.0</td>\n",
       "      <td>5.338485</td>\n",
       "      <td>1.001546</td>\n",
       "      <td>1498.0</td>\n",
       "      <td>2.315301</td>\n",
       "      <td>37.43</td>\n",
       "      <td>-122.13</td>\n",
       "    </tr>\n",
       "    <tr>\n",
       "      <th>...</th>\n",
       "      <td>...</td>\n",
       "      <td>...</td>\n",
       "      <td>...</td>\n",
       "      <td>...</td>\n",
       "      <td>...</td>\n",
       "      <td>...</td>\n",
       "      <td>...</td>\n",
       "      <td>...</td>\n",
       "    </tr>\n",
       "    <tr>\n",
       "      <th>18993</th>\n",
       "      <td>3.4741</td>\n",
       "      <td>17.0</td>\n",
       "      <td>5.481149</td>\n",
       "      <td>1.068223</td>\n",
       "      <td>1434.0</td>\n",
       "      <td>2.574506</td>\n",
       "      <td>38.41</td>\n",
       "      <td>-122.07</td>\n",
       "    </tr>\n",
       "    <tr>\n",
       "      <th>14121</th>\n",
       "      <td>1.6747</td>\n",
       "      <td>20.0</td>\n",
       "      <td>3.989648</td>\n",
       "      <td>1.082816</td>\n",
       "      <td>3555.0</td>\n",
       "      <td>3.680124</td>\n",
       "      <td>32.74</td>\n",
       "      <td>-117.10</td>\n",
       "    </tr>\n",
       "    <tr>\n",
       "      <th>3029</th>\n",
       "      <td>2.9952</td>\n",
       "      <td>44.0</td>\n",
       "      <td>5.534296</td>\n",
       "      <td>1.055355</td>\n",
       "      <td>2140.0</td>\n",
       "      <td>2.575211</td>\n",
       "      <td>35.13</td>\n",
       "      <td>-119.47</td>\n",
       "    </tr>\n",
       "    <tr>\n",
       "      <th>20152</th>\n",
       "      <td>4.0074</td>\n",
       "      <td>30.0</td>\n",
       "      <td>5.823440</td>\n",
       "      <td>1.051750</td>\n",
       "      <td>1656.0</td>\n",
       "      <td>2.520548</td>\n",
       "      <td>34.46</td>\n",
       "      <td>-119.26</td>\n",
       "    </tr>\n",
       "    <tr>\n",
       "      <th>8447</th>\n",
       "      <td>3.3409</td>\n",
       "      <td>32.0</td>\n",
       "      <td>3.254902</td>\n",
       "      <td>1.009804</td>\n",
       "      <td>177.0</td>\n",
       "      <td>1.735294</td>\n",
       "      <td>33.90</td>\n",
       "      <td>-118.37</td>\n",
       "    </tr>\n",
       "  </tbody>\n",
       "</table>\n",
       "<p>16512 rows × 8 columns</p>\n",
       "</div>"
      ],
      "text/plain": [
       "            0     1         2         3       4         5      6       7\n",
       "3218   1.7596  26.0  5.103448  1.043103   268.0  2.310345  36.32 -119.68\n",
       "1354   2.7907  29.0  5.097259  1.034483  3266.0  2.887710  38.02 -121.94\n",
       "20405  6.5851  26.0  7.989950  0.984925   654.0  3.286432  34.21 -118.88\n",
       "14566  4.5402  34.0  6.441791  1.092537  1046.0  3.122388  32.84 -117.21\n",
       "18312  5.2114  40.0  5.338485  1.001546  1498.0  2.315301  37.43 -122.13\n",
       "...       ...   ...       ...       ...     ...       ...    ...     ...\n",
       "18993  3.4741  17.0  5.481149  1.068223  1434.0  2.574506  38.41 -122.07\n",
       "14121  1.6747  20.0  3.989648  1.082816  3555.0  3.680124  32.74 -117.10\n",
       "3029   2.9952  44.0  5.534296  1.055355  2140.0  2.575211  35.13 -119.47\n",
       "20152  4.0074  30.0  5.823440  1.051750  1656.0  2.520548  34.46 -119.26\n",
       "8447   3.3409  32.0  3.254902  1.009804   177.0  1.735294  33.90 -118.37\n",
       "\n",
       "[16512 rows x 8 columns]"
      ]
     },
     "execution_count": 23,
     "metadata": {},
     "output_type": "execute_result"
    }
   ],
   "source": [
    "x, xt, y, yt = train_test_split(pd.DataFrame(housing.data), pd.DataFrame(housing.target), test_size = 0.2)\n",
    "x"
   ]
  },
  {
   "cell_type": "code",
   "execution_count": 24,
   "id": "69708290",
   "metadata": {},
   "outputs": [
    {
     "data": {
      "text/html": [
       "<div>\n",
       "<style scoped>\n",
       "    .dataframe tbody tr th:only-of-type {\n",
       "        vertical-align: middle;\n",
       "    }\n",
       "\n",
       "    .dataframe tbody tr th {\n",
       "        vertical-align: top;\n",
       "    }\n",
       "\n",
       "    .dataframe thead th {\n",
       "        text-align: right;\n",
       "    }\n",
       "</style>\n",
       "<table border=\"1\" class=\"dataframe\">\n",
       "  <thead>\n",
       "    <tr style=\"text-align: right;\">\n",
       "      <th></th>\n",
       "      <th>0</th>\n",
       "    </tr>\n",
       "  </thead>\n",
       "  <tbody>\n",
       "    <tr>\n",
       "      <th>3218</th>\n",
       "      <td>1.208</td>\n",
       "    </tr>\n",
       "    <tr>\n",
       "      <th>1354</th>\n",
       "      <td>1.139</td>\n",
       "    </tr>\n",
       "    <tr>\n",
       "      <th>20405</th>\n",
       "      <td>3.000</td>\n",
       "    </tr>\n",
       "    <tr>\n",
       "      <th>14566</th>\n",
       "      <td>1.821</td>\n",
       "    </tr>\n",
       "    <tr>\n",
       "      <th>18312</th>\n",
       "      <td>4.384</td>\n",
       "    </tr>\n",
       "    <tr>\n",
       "      <th>...</th>\n",
       "      <td>...</td>\n",
       "    </tr>\n",
       "    <tr>\n",
       "      <th>18993</th>\n",
       "      <td>2.458</td>\n",
       "    </tr>\n",
       "    <tr>\n",
       "      <th>14121</th>\n",
       "      <td>1.000</td>\n",
       "    </tr>\n",
       "    <tr>\n",
       "      <th>3029</th>\n",
       "      <td>0.638</td>\n",
       "    </tr>\n",
       "    <tr>\n",
       "      <th>20152</th>\n",
       "      <td>4.347</td>\n",
       "    </tr>\n",
       "    <tr>\n",
       "      <th>8447</th>\n",
       "      <td>2.563</td>\n",
       "    </tr>\n",
       "  </tbody>\n",
       "</table>\n",
       "<p>16512 rows × 1 columns</p>\n",
       "</div>"
      ],
      "text/plain": [
       "           0\n",
       "3218   1.208\n",
       "1354   1.139\n",
       "20405  3.000\n",
       "14566  1.821\n",
       "18312  4.384\n",
       "...      ...\n",
       "18993  2.458\n",
       "14121  1.000\n",
       "3029   0.638\n",
       "20152  4.347\n",
       "8447   2.563\n",
       "\n",
       "[16512 rows x 1 columns]"
      ]
     },
     "execution_count": 24,
     "metadata": {},
     "output_type": "execute_result"
    }
   ],
   "source": [
    "y"
   ]
  },
  {
   "cell_type": "code",
   "execution_count": 25,
   "id": "3d715435",
   "metadata": {},
   "outputs": [
    {
     "data": {
      "text/plain": [
       "0.7367543944310958"
      ]
     },
     "execution_count": 25,
     "metadata": {},
     "output_type": "execute_result"
    }
   ],
   "source": [
    "m2r = DecisionTreeRegressor(max_depth=2, min_samples_leaf=5) \n",
    "m2r.fit(x, y)\n",
    "\n",
    "mean_squared_error(y, m2r.predict(x))"
   ]
  },
  {
   "cell_type": "code",
   "execution_count": 26,
   "id": "1460d6d0",
   "metadata": {},
   "outputs": [
    {
     "data": {
      "text/plain": [
       "0.48204573753488944"
      ]
     },
     "execution_count": 26,
     "metadata": {},
     "output_type": "execute_result"
    }
   ],
   "source": [
    "m5r = DecisionTreeRegressor(max_depth=5, min_samples_leaf=5) \n",
    "m5r.fit(x, y)\n",
    "\n",
    "mean_squared_error(y, m5r.predict(x))"
   ]
  },
  {
   "cell_type": "code",
   "execution_count": 27,
   "id": "b24148a6",
   "metadata": {},
   "outputs": [
    {
     "data": {
      "text/plain": [
       "0.11687325553019769"
      ]
     },
     "execution_count": 27,
     "metadata": {},
     "output_type": "execute_result"
    }
   ],
   "source": [
    "m20r = DecisionTreeRegressor(max_depth=20, min_samples_leaf=5) \n",
    "m20r.fit(x, y)\n",
    "\n",
    "mean_squared_error(y, m20r.predict(x))"
   ]
  },
  {
   "cell_type": "code",
   "execution_count": 28,
   "id": "025c345f",
   "metadata": {},
   "outputs": [
    {
     "data": {
      "text/plain": [
       "0.11664171017449433"
      ]
     },
     "execution_count": 28,
     "metadata": {},
     "output_type": "execute_result"
    }
   ],
   "source": [
    "mr200 = DecisionTreeRegressor(max_depth=150, min_samples_leaf=5) \n",
    "mr200.fit(x, y)\n",
    "\n",
    "mean_squared_error(y, mr200.predict(x))"
   ]
  },
  {
   "cell_type": "code",
   "execution_count": 29,
   "id": "c6db0092",
   "metadata": {},
   "outputs": [],
   "source": [
    "fi = m20r.tree_.compute_feature_importances(normalize=False)"
   ]
  },
  {
   "cell_type": "code",
   "execution_count": 30,
   "id": "7ab19de4",
   "metadata": {},
   "outputs": [
    {
     "data": {
      "text/plain": [
       "([0, 1, 2, 3, 4, 5, 6, 7],\n",
       " [Text(0, 0, ''),\n",
       "  Text(0, 0, ''),\n",
       "  Text(0, 0, ''),\n",
       "  Text(0, 0, ''),\n",
       "  Text(0, 0, ''),\n",
       "  Text(0, 0, ''),\n",
       "  Text(0, 0, ''),\n",
       "  Text(0, 0, '')])"
      ]
     },
     "execution_count": 30,
     "metadata": {},
     "output_type": "execute_result"
    },
    {
     "data": {
      "image/png": "[encoded data removed]",
      "text/plain": [
       "<Figure size 432x288 with 1 Axes>"
      ]
     },
     "metadata": {
      "needs_background": "light"
     },
     "output_type": "display_data"
    }
   ],
   "source": [
    "# clear old visualizations\n",
    "plt.close('all')\n",
    "\n",
    "# visualize the points\n",
    "fig, ax = plt.subplots()\n",
    "plt.bar(housing.feature_names, fi)\n",
    "plt.xticks(rotation=45)"
   ]
  },
  {
   "cell_type": "code",
   "execution_count": 31,
   "id": "045d4907",
   "metadata": {
    "scrolled": false
   },
   "outputs": [
    {
     "data": {
      "image/svg+xml": [
       "<?xml version=\"1.0\" encoding=\"UTF-8\" standalone=\"no\"?>\n",
       "<!DOCTYPE svg PUBLIC \"-//W3C//DTD SVG 1.1//EN\"\n",
       " \"http://www.w3.org/Graphics/SVG/1.1/DTD/svg11.dtd\">\n",
       "<!-- Generated by graphviz version 3.0.0 (20220226.1711)\n",
       " -->\n",
       "<!-- Title: Tree Pages: 1 -->\n",
       "<svg width=\"3461pt\" height=\"581pt\"\n",
       " viewBox=\"0.00 0.00 3460.50 581.00\" xmlns=\"http://www.w3.org/2000/svg\" xmlns:xlink=\"http://www.w3.org/1999/xlink\">\n",
       "<g id=\"graph0\" class=\"graph\" transform=\"scale(1 1) rotate(0) translate(4 577)\">\n",
       "<title>Tree</title>\n",
       "<polygon fill=\"white\" stroke=\"transparent\" points=\"-4,4 -4,-577 3456.5,-577 3456.5,4 -4,4\"/>\n",
       "<!-- 0 -->\n",
       "<g id=\"node1\" class=\"node\">\n",
       "<title>0</title>\n",
       "<polygon fill=\"#f7d9c3\" stroke=\"black\" points=\"1779.5,-573 1669.5,-573 1669.5,-505 1779.5,-505 1779.5,-573\"/>\n",
       "<text text-anchor=\"start\" x=\"1680\" y=\"-557.8\" font-family=\"Times,serif\" font-size=\"14.00\">MedInc ≤ 5.076</text>\n",
       "<text text-anchor=\"start\" x=\"1689.5\" y=\"-542.8\" font-family=\"Times,serif\" font-size=\"14.00\">mse = 1.324</text>\n",
       "<text text-anchor=\"start\" x=\"1677.5\" y=\"-527.8\" font-family=\"Times,serif\" font-size=\"14.00\">samples = 16512</text>\n",
       "<text text-anchor=\"start\" x=\"1686.5\" y=\"-512.8\" font-family=\"Times,serif\" font-size=\"14.00\">value = 2.066</text>\n",
       "</g>\n",
       "<!-- 1 -->\n",
       "<g id=\"node2\" class=\"node\">\n",
       "<title>1</title>\n",
       "<polygon fill=\"#f9e3d3\" stroke=\"black\" points=\"1472.5,-469 1362.5,-469 1362.5,-401 1472.5,-401 1472.5,-469\"/>\n",
       "<text text-anchor=\"start\" x=\"1373\" y=\"-453.8\" font-family=\"Times,serif\" font-size=\"14.00\">MedInc ≤ 3.106</text>\n",
       "<text text-anchor=\"start\" x=\"1382.5\" y=\"-438.8\" font-family=\"Times,serif\" font-size=\"14.00\">mse = 0.843</text>\n",
       "<text text-anchor=\"start\" x=\"1370.5\" y=\"-423.8\" font-family=\"Times,serif\" font-size=\"14.00\">samples = 13149</text>\n",
       "<text text-anchor=\"start\" x=\"1379.5\" y=\"-408.8\" font-family=\"Times,serif\" font-size=\"14.00\">value = 1.743</text>\n",
       "</g>\n",
       "<!-- 0&#45;&gt;1 -->\n",
       "<g id=\"edge1\" class=\"edge\">\n",
       "<title>0&#45;&gt;1</title>\n",
       "<path fill=\"none\" stroke=\"black\" d=\"M1669.26,-519.65C1616.74,-502.2 1537.74,-475.95 1482.28,-457.52\"/>\n",
       "<polygon fill=\"black\" stroke=\"black\" points=\"1483.15,-454.12 1472.55,-454.29 1480.94,-460.77 1483.15,-454.12\"/>\n",
       "<text text-anchor=\"middle\" x=\"1483.76\" y=\"-472.94\" font-family=\"Times,serif\" font-size=\"14.00\">True</text>\n",
       "</g>\n",
       "<!-- 32 -->\n",
       "<g id=\"node33\" class=\"node\">\n",
       "<title>32</title>\n",
       "<polygon fill=\"#efb082\" stroke=\"black\" points=\"2395,-469 2290,-469 2290,-401 2395,-401 2395,-469\"/>\n",
       "<text text-anchor=\"start\" x=\"2298\" y=\"-453.8\" font-family=\"Times,serif\" font-size=\"14.00\">MedInc ≤ 6.877</text>\n",
       "<text text-anchor=\"start\" x=\"2311\" y=\"-438.8\" font-family=\"Times,serif\" font-size=\"14.00\">mse = 1.21</text>\n",
       "<text text-anchor=\"start\" x=\"2298.5\" y=\"-423.8\" font-family=\"Times,serif\" font-size=\"14.00\">samples = 3363</text>\n",
       "<text text-anchor=\"start\" x=\"2304.5\" y=\"-408.8\" font-family=\"Times,serif\" font-size=\"14.00\">value = 3.326</text>\n",
       "</g>\n",
       "<!-- 0&#45;&gt;32 -->\n",
       "<g id=\"edge32\" class=\"edge\">\n",
       "<title>0&#45;&gt;32</title>\n",
       "<path fill=\"none\" stroke=\"black\" d=\"M1779.62,-528.9C1894.43,-509.95 2158.59,-466.35 2279.73,-446.36\"/>\n",
       "<polygon fill=\"black\" stroke=\"black\" points=\"2280.3,-449.81 2289.6,-444.73 2279.16,-442.91 2280.3,-449.81\"/>\n",
       "<text text-anchor=\"middle\" x=\"2275.03\" y=\"-461.35\" font-family=\"Times,serif\" font-size=\"14.00\">False</text>\n",
       "</g>\n",
       "<!-- 2 -->\n",
       "<g id=\"node3\" class=\"node\">\n",
       "<title>2</title>\n",
       "<polygon fill=\"#fcefe7\" stroke=\"black\" points=\"747,-365 628,-365 628,-297 747,-297 747,-365\"/>\n",
       "<text text-anchor=\"start\" x=\"636\" y=\"-349.8\" font-family=\"Times,serif\" font-size=\"14.00\">AveOccup ≤ 2.161</text>\n",
       "<text text-anchor=\"start\" x=\"652.5\" y=\"-334.8\" font-family=\"Times,serif\" font-size=\"14.00\">mse = 0.569</text>\n",
       "<text text-anchor=\"start\" x=\"643.5\" y=\"-319.8\" font-family=\"Times,serif\" font-size=\"14.00\">samples = 6458</text>\n",
       "<text text-anchor=\"start\" x=\"649.5\" y=\"-304.8\" font-family=\"Times,serif\" font-size=\"14.00\">value = 1.366</text>\n",
       "</g>\n",
       "<!-- 1&#45;&gt;2 -->\n",
       "<g id=\"edge2\" class=\"edge\">\n",
       "<title>1&#45;&gt;2</title>\n",
       "<path fill=\"none\" stroke=\"black\" d=\"M1362.33,-426.29C1231.37,-407.99 901.91,-361.96 757.34,-341.76\"/>\n",
       "<polygon fill=\"black\" stroke=\"black\" points=\"757.65,-338.27 747.26,-340.35 756.68,-345.2 757.65,-338.27\"/>\n",
       "</g>\n",
       "<!-- 17 -->\n",
       "<g id=\"node18\" class=\"node\">\n",
       "<title>17</title>\n",
       "<polygon fill=\"#f7d7c1\" stroke=\"black\" points=\"1474,-365 1361,-365 1361,-297 1474,-297 1474,-365\"/>\n",
       "<text text-anchor=\"start\" x=\"1369\" y=\"-349.8\" font-family=\"Times,serif\" font-size=\"14.00\">AveOccup ≤ 2.35</text>\n",
       "<text text-anchor=\"start\" x=\"1382.5\" y=\"-334.8\" font-family=\"Times,serif\" font-size=\"14.00\">mse = 0.837</text>\n",
       "<text text-anchor=\"start\" x=\"1373.5\" y=\"-319.8\" font-family=\"Times,serif\" font-size=\"14.00\">samples = 6691</text>\n",
       "<text text-anchor=\"start\" x=\"1379.5\" y=\"-304.8\" font-family=\"Times,serif\" font-size=\"14.00\">value = 2.108</text>\n",
       "</g>\n",
       "<!-- 1&#45;&gt;17 -->\n",
       "<g id=\"edge17\" class=\"edge\">\n",
       "<title>1&#45;&gt;17</title>\n",
       "<path fill=\"none\" stroke=\"black\" d=\"M1417.5,-400.88C1417.5,-392.78 1417.5,-383.98 1417.5,-375.47\"/>\n",
       "<polygon fill=\"black\" stroke=\"black\" points=\"1421,-375.3 1417.5,-365.3 1414,-375.3 1421,-375.3\"/>\n",
       "</g>\n",
       "<!-- 3 -->\n",
       "<g id=\"node4\" class=\"node\">\n",
       "<title>3</title>\n",
       "<polygon fill=\"#f8decb\" stroke=\"black\" points=\"402,-261 295,-261 295,-193 402,-193 402,-261\"/>\n",
       "<text text-anchor=\"start\" x=\"303\" y=\"-245.8\" font-family=\"Times,serif\" font-size=\"14.00\">Latitude ≤ 37.93</text>\n",
       "<text text-anchor=\"start\" x=\"313.5\" y=\"-230.8\" font-family=\"Times,serif\" font-size=\"14.00\">mse = 1.126</text>\n",
       "<text text-anchor=\"start\" x=\"308\" y=\"-215.8\" font-family=\"Times,serif\" font-size=\"14.00\">samples = 965</text>\n",
       "<text text-anchor=\"start\" x=\"310.5\" y=\"-200.8\" font-family=\"Times,serif\" font-size=\"14.00\">value = 1.913</text>\n",
       "</g>\n",
       "<!-- 2&#45;&gt;3 -->\n",
       "<g id=\"edge3\" class=\"edge\">\n",
       "<title>2&#45;&gt;3</title>\n",
       "<path fill=\"none\" stroke=\"black\" d=\"M627.67,-312C567.05,-293.76 473.63,-265.65 411.79,-247.04\"/>\n",
       "<polygon fill=\"black\" stroke=\"black\" points=\"412.73,-243.67 402.15,-244.14 410.71,-250.37 412.73,-243.67\"/>\n",
       "</g>\n",
       "<!-- 10 -->\n",
       "<g id=\"node11\" class=\"node\">\n",
       "<title>10</title>\n",
       "<polygon fill=\"#fcf3eb\" stroke=\"black\" points=\"744.5,-261 630.5,-261 630.5,-193 744.5,-193 744.5,-261\"/>\n",
       "<text text-anchor=\"start\" x=\"638.5\" y=\"-245.8\" font-family=\"Times,serif\" font-size=\"14.00\">Latitude ≤ 34.455</text>\n",
       "<text text-anchor=\"start\" x=\"652.5\" y=\"-230.8\" font-family=\"Times,serif\" font-size=\"14.00\">mse = 0.409</text>\n",
       "<text text-anchor=\"start\" x=\"643.5\" y=\"-215.8\" font-family=\"Times,serif\" font-size=\"14.00\">samples = 5493</text>\n",
       "<text text-anchor=\"start\" x=\"652.5\" y=\"-200.8\" font-family=\"Times,serif\" font-size=\"14.00\">value = 1.27</text>\n",
       "</g>\n",
       "<!-- 2&#45;&gt;10 -->\n",
       "<g id=\"edge10\" class=\"edge\">\n",
       "<title>2&#45;&gt;10</title>\n",
       "<path fill=\"none\" stroke=\"black\" d=\"M687.5,-296.88C687.5,-288.78 687.5,-279.98 687.5,-271.47\"/>\n",
       "<polygon fill=\"black\" stroke=\"black\" points=\"691,-271.3 687.5,-261.3 684,-271.3 691,-271.3\"/>\n",
       "</g>\n",
       "<!-- 4 -->\n",
       "<g id=\"node5\" class=\"node\">\n",
       "<title>4</title>\n",
       "<polygon fill=\"#f7d7c0\" stroke=\"black\" points=\"231.5,-157 95.5,-157 95.5,-89 231.5,-89 231.5,-157\"/>\n",
       "<text text-anchor=\"start\" x=\"103.5\" y=\"-141.8\" font-family=\"Times,serif\" font-size=\"14.00\">Longitude ≤ &#45;118.245</text>\n",
       "<text text-anchor=\"start\" x=\"128.5\" y=\"-126.8\" font-family=\"Times,serif\" font-size=\"14.00\">mse = 1.232</text>\n",
       "<text text-anchor=\"start\" x=\"123\" y=\"-111.8\" font-family=\"Times,serif\" font-size=\"14.00\">samples = 732</text>\n",
       "<text text-anchor=\"start\" x=\"125.5\" y=\"-96.8\" font-family=\"Times,serif\" font-size=\"14.00\">value = 2.117</text>\n",
       "</g>\n",
       "<!-- 3&#45;&gt;4 -->\n",
       "<g id=\"edge4\" class=\"edge\">\n",
       "<title>3&#45;&gt;4</title>\n",
       "<path fill=\"none\" stroke=\"black\" d=\"M294.99,-196.5C275.38,-185.69 252.91,-173.3 232.16,-161.86\"/>\n",
       "<polygon fill=\"black\" stroke=\"black\" points=\"233.83,-158.78 223.38,-157.02 230.45,-164.91 233.83,-158.78\"/>\n",
       "</g>\n",
       "<!-- 7 -->\n",
       "<g id=\"node8\" class=\"node\">\n",
       "<title>7</title>\n",
       "<polygon fill=\"#fcf3eb\" stroke=\"black\" points=\"405.5,-157 291.5,-157 291.5,-89 405.5,-89 405.5,-157\"/>\n",
       "<text text-anchor=\"start\" x=\"299.5\" y=\"-141.8\" font-family=\"Times,serif\" font-size=\"14.00\">Latitude ≤ 38.525</text>\n",
       "<text text-anchor=\"start\" x=\"317\" y=\"-126.8\" font-family=\"Times,serif\" font-size=\"14.00\">mse = 0.25</text>\n",
       "<text text-anchor=\"start\" x=\"308\" y=\"-111.8\" font-family=\"Times,serif\" font-size=\"14.00\">samples = 233</text>\n",
       "<text text-anchor=\"start\" x=\"310.5\" y=\"-96.8\" font-family=\"Times,serif\" font-size=\"14.00\">value = 1.271</text>\n",
       "</g>\n",
       "<!-- 3&#45;&gt;7 -->\n",
       "<g id=\"edge7\" class=\"edge\">\n",
       "<title>3&#45;&gt;7</title>\n",
       "<path fill=\"none\" stroke=\"black\" d=\"M348.5,-192.88C348.5,-184.78 348.5,-175.98 348.5,-167.47\"/>\n",
       "<polygon fill=\"black\" stroke=\"black\" points=\"352,-167.3 348.5,-157.3 345,-167.3 352,-167.3\"/>\n",
       "</g>\n",
       "<!-- 5 -->\n",
       "<g id=\"node6\" class=\"node\">\n",
       "<title>5</title>\n",
       "<polygon fill=\"#f4ccae\" stroke=\"black\" points=\"97,-53 0,-53 0,0 97,0 97,-53\"/>\n",
       "<text text-anchor=\"start\" x=\"17\" y=\"-37.8\" font-family=\"Times,serif\" font-size=\"14.00\">mse = 1.39</text>\n",
       "<text text-anchor=\"start\" x=\"8\" y=\"-22.8\" font-family=\"Times,serif\" font-size=\"14.00\">samples = 415</text>\n",
       "<text text-anchor=\"start\" x=\"10.5\" y=\"-7.8\" font-family=\"Times,serif\" font-size=\"14.00\">value = 2.468</text>\n",
       "</g>\n",
       "<!-- 4&#45;&gt;5 -->\n",
       "<g id=\"edge5\" class=\"edge\">\n",
       "<title>4&#45;&gt;5</title>\n",
       "<path fill=\"none\" stroke=\"black\" d=\"M123.28,-88.95C111.7,-79.43 99.09,-69.07 87.58,-59.62\"/>\n",
       "<polygon fill=\"black\" stroke=\"black\" points=\"89.77,-56.88 79.82,-53.24 85.32,-62.29 89.77,-56.88\"/>\n",
       "</g>\n",
       "<!-- 6 -->\n",
       "<g id=\"node7\" class=\"node\">\n",
       "<title>6</title>\n",
       "<polygon fill=\"#fae6d8\" stroke=\"black\" points=\"212,-53 115,-53 115,0 212,0 212,-53\"/>\n",
       "<text text-anchor=\"start\" x=\"128.5\" y=\"-37.8\" font-family=\"Times,serif\" font-size=\"14.00\">mse = 0.654</text>\n",
       "<text text-anchor=\"start\" x=\"123\" y=\"-22.8\" font-family=\"Times,serif\" font-size=\"14.00\">samples = 317</text>\n",
       "<text text-anchor=\"start\" x=\"125.5\" y=\"-7.8\" font-family=\"Times,serif\" font-size=\"14.00\">value = 1.657</text>\n",
       "</g>\n",
       "<!-- 4&#45;&gt;6 -->\n",
       "<g id=\"edge6\" class=\"edge\">\n",
       "<title>4&#45;&gt;6</title>\n",
       "<path fill=\"none\" stroke=\"black\" d=\"M163.5,-88.95C163.5,-80.72 163.5,-71.85 163.5,-63.48\"/>\n",
       "<polygon fill=\"black\" stroke=\"black\" points=\"167,-63.24 163.5,-53.24 160,-63.24 167,-63.24\"/>\n",
       "</g>\n",
       "<!-- 8 -->\n",
       "<g id=\"node9\" class=\"node\">\n",
       "<title>8</title>\n",
       "<polygon fill=\"#fbebdf\" stroke=\"black\" points=\"322.5,-53 230.5,-53 230.5,0 322.5,0 322.5,-53\"/>\n",
       "<text text-anchor=\"start\" x=\"241.5\" y=\"-37.8\" font-family=\"Times,serif\" font-size=\"14.00\">mse = 0.336</text>\n",
       "<text text-anchor=\"start\" x=\"239.5\" y=\"-22.8\" font-family=\"Times,serif\" font-size=\"14.00\">samples = 88</text>\n",
       "<text text-anchor=\"start\" x=\"238.5\" y=\"-7.8\" font-family=\"Times,serif\" font-size=\"14.00\">value = 1.514</text>\n",
       "</g>\n",
       "<!-- 7&#45;&gt;8 -->\n",
       "<g id=\"edge8\" class=\"edge\">\n",
       "<title>7&#45;&gt;8</title>\n",
       "<path fill=\"none\" stroke=\"black\" d=\"M323.32,-88.95C316.49,-79.98 309.08,-70.27 302.22,-61.26\"/>\n",
       "<polygon fill=\"black\" stroke=\"black\" points=\"304.95,-59.07 296.11,-53.24 299.39,-63.31 304.95,-59.07\"/>\n",
       "</g>\n",
       "<!-- 9 -->\n",
       "<g id=\"node10\" class=\"node\">\n",
       "<title>9</title>\n",
       "<polygon fill=\"#fdf7f3\" stroke=\"black\" points=\"438,-53 341,-53 341,0 438,0 438,-53\"/>\n",
       "<text text-anchor=\"start\" x=\"358\" y=\"-37.8\" font-family=\"Times,serif\" font-size=\"14.00\">mse = 0.14</text>\n",
       "<text text-anchor=\"start\" x=\"349\" y=\"-22.8\" font-family=\"Times,serif\" font-size=\"14.00\">samples = 145</text>\n",
       "<text text-anchor=\"start\" x=\"351.5\" y=\"-7.8\" font-family=\"Times,serif\" font-size=\"14.00\">value = 1.123</text>\n",
       "</g>\n",
       "<!-- 7&#45;&gt;9 -->\n",
       "<g id=\"edge9\" class=\"edge\">\n",
       "<title>7&#45;&gt;9</title>\n",
       "<path fill=\"none\" stroke=\"black\" d=\"M362.84,-88.95C366.53,-80.44 370.52,-71.26 374.25,-62.65\"/>\n",
       "<polygon fill=\"black\" stroke=\"black\" points=\"377.56,-63.8 378.33,-53.24 371.14,-61.02 377.56,-63.8\"/>\n",
       "</g>\n",
       "<!-- 11 -->\n",
       "<g id=\"node12\" class=\"node\">\n",
       "<title>11</title>\n",
       "<polygon fill=\"#fbebe0\" stroke=\"black\" points=\"678.5,-157 542.5,-157 542.5,-89 678.5,-89 678.5,-157\"/>\n",
       "<text text-anchor=\"start\" x=\"550.5\" y=\"-141.8\" font-family=\"Times,serif\" font-size=\"14.00\">Longitude ≤ &#45;117.775</text>\n",
       "<text text-anchor=\"start\" x=\"575.5\" y=\"-126.8\" font-family=\"Times,serif\" font-size=\"14.00\">mse = 0.393</text>\n",
       "<text text-anchor=\"start\" x=\"566.5\" y=\"-111.8\" font-family=\"Times,serif\" font-size=\"14.00\">samples = 2674</text>\n",
       "<text text-anchor=\"start\" x=\"572.5\" y=\"-96.8\" font-family=\"Times,serif\" font-size=\"14.00\">value = 1.494</text>\n",
       "</g>\n",
       "<!-- 10&#45;&gt;11 -->\n",
       "<g id=\"edge11\" class=\"edge\">\n",
       "<title>10&#45;&gt;11</title>\n",
       "<path fill=\"none\" stroke=\"black\" d=\"M662.5,-192.88C655.91,-184.15 648.72,-174.62 641.84,-165.51\"/>\n",
       "<polygon fill=\"black\" stroke=\"black\" points=\"644.46,-163.17 635.64,-157.3 638.87,-167.39 644.46,-163.17\"/>\n",
       "</g>\n",
       "<!-- 14 -->\n",
       "<g id=\"node15\" class=\"node\">\n",
       "<title>14</title>\n",
       "<polygon fill=\"#fefaf6\" stroke=\"black\" points=\"832.5,-157 696.5,-157 696.5,-89 832.5,-89 832.5,-157\"/>\n",
       "<text text-anchor=\"start\" x=\"704.5\" y=\"-141.8\" font-family=\"Times,serif\" font-size=\"14.00\">Longitude ≤ &#45;121.695</text>\n",
       "<text text-anchor=\"start\" x=\"729.5\" y=\"-126.8\" font-family=\"Times,serif\" font-size=\"14.00\">mse = 0.331</text>\n",
       "<text text-anchor=\"start\" x=\"720.5\" y=\"-111.8\" font-family=\"Times,serif\" font-size=\"14.00\">samples = 2819</text>\n",
       "<text text-anchor=\"start\" x=\"726.5\" y=\"-96.8\" font-family=\"Times,serif\" font-size=\"14.00\">value = 1.056</text>\n",
       "</g>\n",
       "<!-- 10&#45;&gt;14 -->\n",
       "<g id=\"edge14\" class=\"edge\">\n",
       "<title>10&#45;&gt;14</title>\n",
       "<path fill=\"none\" stroke=\"black\" d=\"M712.5,-192.88C719.09,-184.15 726.28,-174.62 733.16,-165.51\"/>\n",
       "<polygon fill=\"black\" stroke=\"black\" points=\"736.13,-167.39 739.36,-157.3 730.54,-163.17 736.13,-167.39\"/>\n",
       "</g>\n",
       "<!-- 12 -->\n",
       "<g id=\"node13\" class=\"node\">\n",
       "<title>12</title>\n",
       "<polygon fill=\"#fae5d6\" stroke=\"black\" points=\"560.5,-53 456.5,-53 456.5,0 560.5,0 560.5,-53\"/>\n",
       "<text text-anchor=\"start\" x=\"473.5\" y=\"-37.8\" font-family=\"Times,serif\" font-size=\"14.00\">mse = 0.376</text>\n",
       "<text text-anchor=\"start\" x=\"464.5\" y=\"-22.8\" font-family=\"Times,serif\" font-size=\"14.00\">samples = 1783</text>\n",
       "<text text-anchor=\"start\" x=\"470.5\" y=\"-7.8\" font-family=\"Times,serif\" font-size=\"14.00\">value = 1.683</text>\n",
       "</g>\n",
       "<!-- 11&#45;&gt;12 -->\n",
       "<g id=\"edge12\" class=\"edge\">\n",
       "<title>11&#45;&gt;12</title>\n",
       "<path fill=\"none\" stroke=\"black\" d=\"M574.83,-88.95C564.75,-79.62 553.8,-69.47 543.76,-60.16\"/>\n",
       "<polygon fill=\"black\" stroke=\"black\" points=\"545.99,-57.47 536.28,-53.24 541.24,-62.6 545.99,-57.47\"/>\n",
       "</g>\n",
       "<!-- 13 -->\n",
       "<g id=\"node14\" class=\"node\">\n",
       "<title>13</title>\n",
       "<polygon fill=\"#fdf8f3\" stroke=\"black\" points=\"676,-53 579,-53 579,0 676,0 676,-53\"/>\n",
       "<text text-anchor=\"start\" x=\"592.5\" y=\"-37.8\" font-family=\"Times,serif\" font-size=\"14.00\">mse = 0.213</text>\n",
       "<text text-anchor=\"start\" x=\"587\" y=\"-22.8\" font-family=\"Times,serif\" font-size=\"14.00\">samples = 891</text>\n",
       "<text text-anchor=\"start\" x=\"589.5\" y=\"-7.8\" font-family=\"Times,serif\" font-size=\"14.00\">value = 1.117</text>\n",
       "</g>\n",
       "<!-- 11&#45;&gt;13 -->\n",
       "<g id=\"edge13\" class=\"edge\">\n",
       "<title>11&#45;&gt;13</title>\n",
       "<path fill=\"none\" stroke=\"black\" d=\"M616.45,-88.95C617.94,-80.62 619.56,-71.65 621.08,-63.2\"/>\n",
       "<polygon fill=\"black\" stroke=\"black\" points=\"624.54,-63.7 622.87,-53.24 617.65,-62.46 624.54,-63.7\"/>\n",
       "</g>\n",
       "<!-- 15 -->\n",
       "<g id=\"node16\" class=\"node\">\n",
       "<title>15</title>\n",
       "<polygon fill=\"#fcf0e8\" stroke=\"black\" points=\"798.5,-53 694.5,-53 694.5,0 798.5,0 798.5,-53\"/>\n",
       "<text text-anchor=\"start\" x=\"711.5\" y=\"-37.8\" font-family=\"Times,serif\" font-size=\"14.00\">mse = 0.498</text>\n",
       "<text text-anchor=\"start\" x=\"702.5\" y=\"-22.8\" font-family=\"Times,serif\" font-size=\"14.00\">samples = 1048</text>\n",
       "<text text-anchor=\"start\" x=\"711.5\" y=\"-7.8\" font-family=\"Times,serif\" font-size=\"14.00\">value = 1.34</text>\n",
       "</g>\n",
       "<!-- 14&#45;&gt;15 -->\n",
       "<g id=\"edge15\" class=\"edge\">\n",
       "<title>14&#45;&gt;15</title>\n",
       "<path fill=\"none\" stroke=\"black\" d=\"M758.2,-88.95C756.62,-80.62 754.91,-71.65 753.3,-63.2\"/>\n",
       "<polygon fill=\"black\" stroke=\"black\" points=\"756.71,-62.41 751.4,-53.24 749.84,-63.72 756.71,-62.41\"/>\n",
       "</g>\n",
       "<!-- 16 -->\n",
       "<g id=\"node17\" class=\"node\">\n",
       "<title>16</title>\n",
       "<polygon fill=\"#ffffff\" stroke=\"black\" points=\"920.5,-53 816.5,-53 816.5,0 920.5,0 920.5,-53\"/>\n",
       "<text text-anchor=\"start\" x=\"833.5\" y=\"-37.8\" font-family=\"Times,serif\" font-size=\"14.00\">mse = 0.157</text>\n",
       "<text text-anchor=\"start\" x=\"824.5\" y=\"-22.8\" font-family=\"Times,serif\" font-size=\"14.00\">samples = 1771</text>\n",
       "<text text-anchor=\"start\" x=\"830.5\" y=\"-7.8\" font-family=\"Times,serif\" font-size=\"14.00\">value = 0.889</text>\n",
       "</g>\n",
       "<!-- 14&#45;&gt;16 -->\n",
       "<g id=\"edge16\" class=\"edge\">\n",
       "<title>14&#45;&gt;16</title>\n",
       "<path fill=\"none\" stroke=\"black\" d=\"M800.87,-88.95C811.14,-79.62 822.31,-69.47 832.55,-60.16\"/>\n",
       "<polygon fill=\"black\" stroke=\"black\" points=\"835.13,-62.55 840.18,-53.24 830.42,-57.37 835.13,-62.55\"/>\n",
       "</g>\n",
       "<!-- 18 -->\n",
       "<g id=\"node19\" class=\"node\">\n",
       "<title>18</title>\n",
       "<polygon fill=\"#f2bf9a\" stroke=\"black\" points=\"1339,-261 1226,-261 1226,-193 1339,-193 1339,-261\"/>\n",
       "<text text-anchor=\"start\" x=\"1234\" y=\"-245.8\" font-family=\"Times,serif\" font-size=\"14.00\">HouseAge ≤ 24.5</text>\n",
       "<text text-anchor=\"start\" x=\"1247.5\" y=\"-230.8\" font-family=\"Times,serif\" font-size=\"14.00\">mse = 1.264</text>\n",
       "<text text-anchor=\"start\" x=\"1238.5\" y=\"-215.8\" font-family=\"Times,serif\" font-size=\"14.00\">samples = 1453</text>\n",
       "<text text-anchor=\"start\" x=\"1244.5\" y=\"-200.8\" font-family=\"Times,serif\" font-size=\"14.00\">value = 2.854</text>\n",
       "</g>\n",
       "<!-- 17&#45;&gt;18 -->\n",
       "<g id=\"edge18\" class=\"edge\">\n",
       "<title>17&#45;&gt;18</title>\n",
       "<path fill=\"none\" stroke=\"black\" d=\"M1373.67,-296.88C1361.29,-287.53 1347.7,-277.26 1334.87,-267.57\"/>\n",
       "<polygon fill=\"black\" stroke=\"black\" points=\"1336.66,-264.54 1326.57,-261.3 1332.44,-270.12 1336.66,-264.54\"/>\n",
       "</g>\n",
       "<!-- 25 -->\n",
       "<g id=\"node26\" class=\"node\">\n",
       "<title>25</title>\n",
       "<polygon fill=\"#f8decb\" stroke=\"black\" points=\"1558,-261 1453,-261 1453,-193 1558,-193 1558,-261\"/>\n",
       "<text text-anchor=\"start\" x=\"1461\" y=\"-245.8\" font-family=\"Times,serif\" font-size=\"14.00\">MedInc ≤ 4.071</text>\n",
       "<text text-anchor=\"start\" x=\"1470.5\" y=\"-230.8\" font-family=\"Times,serif\" font-size=\"14.00\">mse = 0.521</text>\n",
       "<text text-anchor=\"start\" x=\"1461.5\" y=\"-215.8\" font-family=\"Times,serif\" font-size=\"14.00\">samples = 5238</text>\n",
       "<text text-anchor=\"start\" x=\"1467.5\" y=\"-200.8\" font-family=\"Times,serif\" font-size=\"14.00\">value = 1.901</text>\n",
       "</g>\n",
       "<!-- 17&#45;&gt;25 -->\n",
       "<g id=\"edge25\" class=\"edge\">\n",
       "<title>17&#45;&gt;25</title>\n",
       "<path fill=\"none\" stroke=\"black\" d=\"M1446.07,-296.88C1453.76,-287.98 1462.16,-278.24 1470.16,-268.96\"/>\n",
       "<polygon fill=\"black\" stroke=\"black\" points=\"1472.89,-271.16 1476.77,-261.3 1467.59,-266.58 1472.89,-271.16\"/>\n",
       "</g>\n",
       "<!-- 19 -->\n",
       "<g id=\"node20\" class=\"node\">\n",
       "<title>19</title>\n",
       "<polygon fill=\"#f5d0b5\" stroke=\"black\" points=\"1157.5,-157 1043.5,-157 1043.5,-89 1157.5,-89 1157.5,-157\"/>\n",
       "<text text-anchor=\"start\" x=\"1051.5\" y=\"-141.8\" font-family=\"Times,serif\" font-size=\"14.00\">Latitude ≤ 37.955</text>\n",
       "<text text-anchor=\"start\" x=\"1065.5\" y=\"-126.8\" font-family=\"Times,serif\" font-size=\"14.00\">mse = 0.882</text>\n",
       "<text text-anchor=\"start\" x=\"1060\" y=\"-111.8\" font-family=\"Times,serif\" font-size=\"14.00\">samples = 548</text>\n",
       "<text text-anchor=\"start\" x=\"1062.5\" y=\"-96.8\" font-family=\"Times,serif\" font-size=\"14.00\">value = 2.332</text>\n",
       "</g>\n",
       "<!-- 18&#45;&gt;19 -->\n",
       "<g id=\"edge19\" class=\"edge\">\n",
       "<title>18&#45;&gt;19</title>\n",
       "<path fill=\"none\" stroke=\"black\" d=\"M1225.91,-194.29C1207.09,-183.74 1185.96,-171.9 1166.49,-160.99\"/>\n",
       "<polygon fill=\"black\" stroke=\"black\" points=\"1168.11,-157.88 1157.68,-156.05 1164.69,-163.99 1168.11,-157.88\"/>\n",
       "</g>\n",
       "<!-- 22 -->\n",
       "<g id=\"node23\" class=\"node\">\n",
       "<title>22</title>\n",
       "<polygon fill=\"#f0b58a\" stroke=\"black\" points=\"1342,-157 1223,-157 1223,-89 1342,-89 1342,-157\"/>\n",
       "<text text-anchor=\"start\" x=\"1231\" y=\"-141.8\" font-family=\"Times,serif\" font-size=\"14.00\">AveOccup ≤ 1.962</text>\n",
       "<text text-anchor=\"start\" x=\"1247.5\" y=\"-126.8\" font-family=\"Times,serif\" font-size=\"14.00\">mse = 1.231</text>\n",
       "<text text-anchor=\"start\" x=\"1242\" y=\"-111.8\" font-family=\"Times,serif\" font-size=\"14.00\">samples = 905</text>\n",
       "<text text-anchor=\"start\" x=\"1247.5\" y=\"-96.8\" font-family=\"Times,serif\" font-size=\"14.00\">value = 3.17</text>\n",
       "</g>\n",
       "<!-- 18&#45;&gt;22 -->\n",
       "<g id=\"edge22\" class=\"edge\">\n",
       "<title>18&#45;&gt;22</title>\n",
       "<path fill=\"none\" stroke=\"black\" d=\"M1282.5,-192.88C1282.5,-184.78 1282.5,-175.98 1282.5,-167.47\"/>\n",
       "<polygon fill=\"black\" stroke=\"black\" points=\"1286,-167.3 1282.5,-157.3 1279,-167.3 1286,-167.3\"/>\n",
       "</g>\n",
       "<!-- 20 -->\n",
       "<g id=\"node21\" class=\"node\">\n",
       "<title>20</title>\n",
       "<polygon fill=\"#f5cdb0\" stroke=\"black\" points=\"1036,-53 939,-53 939,0 1036,0 1036,-53\"/>\n",
       "<text text-anchor=\"start\" x=\"952.5\" y=\"-37.8\" font-family=\"Times,serif\" font-size=\"14.00\">mse = 0.901</text>\n",
       "<text text-anchor=\"start\" x=\"947\" y=\"-22.8\" font-family=\"Times,serif\" font-size=\"14.00\">samples = 471</text>\n",
       "<text text-anchor=\"start\" x=\"949.5\" y=\"-7.8\" font-family=\"Times,serif\" font-size=\"14.00\">value = 2.425</text>\n",
       "</g>\n",
       "<!-- 19&#45;&gt;20 -->\n",
       "<g id=\"edge20\" class=\"edge\">\n",
       "<title>19&#45;&gt;20</title>\n",
       "<path fill=\"none\" stroke=\"black\" d=\"M1060.98,-88.95C1049.71,-79.53 1037.45,-69.27 1026.23,-59.89\"/>\n",
       "<polygon fill=\"black\" stroke=\"black\" points=\"1028.19,-56.97 1018.28,-53.24 1023.7,-62.34 1028.19,-56.97\"/>\n",
       "</g>\n",
       "<!-- 21 -->\n",
       "<g id=\"node22\" class=\"node\">\n",
       "<title>21</title>\n",
       "<polygon fill=\"#f9e2d2\" stroke=\"black\" points=\"1146.5,-53 1054.5,-53 1054.5,0 1146.5,0 1146.5,-53\"/>\n",
       "<text text-anchor=\"start\" x=\"1065.5\" y=\"-37.8\" font-family=\"Times,serif\" font-size=\"14.00\">mse = 0.391</text>\n",
       "<text text-anchor=\"start\" x=\"1063.5\" y=\"-22.8\" font-family=\"Times,serif\" font-size=\"14.00\">samples = 77</text>\n",
       "<text text-anchor=\"start\" x=\"1062.5\" y=\"-7.8\" font-family=\"Times,serif\" font-size=\"14.00\">value = 1.765</text>\n",
       "</g>\n",
       "<!-- 19&#45;&gt;21 -->\n",
       "<g id=\"edge21\" class=\"edge\">\n",
       "<title>19&#45;&gt;21</title>\n",
       "<path fill=\"none\" stroke=\"black\" d=\"M1100.5,-88.95C1100.5,-80.72 1100.5,-71.85 1100.5,-63.48\"/>\n",
       "<polygon fill=\"black\" stroke=\"black\" points=\"1104,-63.24 1100.5,-53.24 1097,-63.24 1104,-63.24\"/>\n",
       "</g>\n",
       "<!-- 23 -->\n",
       "<g id=\"node24\" class=\"node\">\n",
       "<title>23</title>\n",
       "<polygon fill=\"#eb9f68\" stroke=\"black\" points=\"1262,-53 1165,-53 1165,0 1262,0 1262,-53\"/>\n",
       "<text text-anchor=\"start\" x=\"1178.5\" y=\"-37.8\" font-family=\"Times,serif\" font-size=\"14.00\">mse = 1.086</text>\n",
       "<text text-anchor=\"start\" x=\"1173\" y=\"-22.8\" font-family=\"Times,serif\" font-size=\"14.00\">samples = 285</text>\n",
       "<text text-anchor=\"start\" x=\"1175.5\" y=\"-7.8\" font-family=\"Times,serif\" font-size=\"14.00\">value = 3.837</text>\n",
       "</g>\n",
       "<!-- 22&#45;&gt;23 -->\n",
       "<g id=\"edge23\" class=\"edge\">\n",
       "<title>22&#45;&gt;23</title>\n",
       "<path fill=\"none\" stroke=\"black\" d=\"M1258.37,-88.95C1251.89,-80.07 1244.87,-70.46 1238.35,-61.54\"/>\n",
       "<polygon fill=\"black\" stroke=\"black\" points=\"1241.02,-59.25 1232.29,-53.24 1235.36,-63.38 1241.02,-59.25\"/>\n",
       "</g>\n",
       "<!-- 24 -->\n",
       "<g id=\"node25\" class=\"node\">\n",
       "<title>24</title>\n",
       "<polygon fill=\"#f2bf9a\" stroke=\"black\" points=\"1377,-53 1280,-53 1280,0 1377,0 1377,-53\"/>\n",
       "<text text-anchor=\"start\" x=\"1293.5\" y=\"-37.8\" font-family=\"Times,serif\" font-size=\"14.00\">mse = 0.999</text>\n",
       "<text text-anchor=\"start\" x=\"1288\" y=\"-22.8\" font-family=\"Times,serif\" font-size=\"14.00\">samples = 620</text>\n",
       "<text text-anchor=\"start\" x=\"1290.5\" y=\"-7.8\" font-family=\"Times,serif\" font-size=\"14.00\">value = 2.863</text>\n",
       "</g>\n",
       "<!-- 22&#45;&gt;24 -->\n",
       "<g id=\"edge24\" class=\"edge\">\n",
       "<title>22&#45;&gt;24</title>\n",
       "<path fill=\"none\" stroke=\"black\" d=\"M1298.59,-88.95C1302.77,-80.35 1307.3,-71.06 1311.53,-62.37\"/>\n",
       "<polygon fill=\"black\" stroke=\"black\" points=\"1314.74,-63.76 1315.97,-53.24 1308.45,-60.7 1314.74,-63.76\"/>\n",
       "</g>\n",
       "<!-- 26 -->\n",
       "<g id=\"node27\" class=\"node\">\n",
       "<title>26</title>\n",
       "<polygon fill=\"#f9e4d4\" stroke=\"black\" points=\"1562,-157 1449,-157 1449,-89 1562,-89 1562,-157\"/>\n",
       "<text text-anchor=\"start\" x=\"1457\" y=\"-141.8\" font-family=\"Times,serif\" font-size=\"14.00\">HouseAge ≤ 43.5</text>\n",
       "<text text-anchor=\"start\" x=\"1470.5\" y=\"-126.8\" font-family=\"Times,serif\" font-size=\"14.00\">mse = 0.444</text>\n",
       "<text text-anchor=\"start\" x=\"1461.5\" y=\"-111.8\" font-family=\"Times,serif\" font-size=\"14.00\">samples = 2943</text>\n",
       "<text text-anchor=\"start\" x=\"1467.5\" y=\"-96.8\" font-family=\"Times,serif\" font-size=\"14.00\">value = 1.724</text>\n",
       "</g>\n",
       "<!-- 25&#45;&gt;26 -->\n",
       "<g id=\"edge26\" class=\"edge\">\n",
       "<title>25&#45;&gt;26</title>\n",
       "<path fill=\"none\" stroke=\"black\" d=\"M1505.5,-192.88C1505.5,-184.78 1505.5,-175.98 1505.5,-167.47\"/>\n",
       "<polygon fill=\"black\" stroke=\"black\" points=\"1509,-167.3 1505.5,-157.3 1502,-167.3 1509,-167.3\"/>\n",
       "</g>\n",
       "<!-- 29 -->\n",
       "<g id=\"node30\" class=\"node\">\n",
       "<title>29</title>\n",
       "<polygon fill=\"#f7d7c0\" stroke=\"black\" points=\"1741,-157 1622,-157 1622,-89 1741,-89 1741,-157\"/>\n",
       "<text text-anchor=\"start\" x=\"1630\" y=\"-141.8\" font-family=\"Times,serif\" font-size=\"14.00\">AveOccup ≤ 2.833</text>\n",
       "<text text-anchor=\"start\" x=\"1646.5\" y=\"-126.8\" font-family=\"Times,serif\" font-size=\"14.00\">mse = 0.529</text>\n",
       "<text text-anchor=\"start\" x=\"1637.5\" y=\"-111.8\" font-family=\"Times,serif\" font-size=\"14.00\">samples = 2295</text>\n",
       "<text text-anchor=\"start\" x=\"1643.5\" y=\"-96.8\" font-family=\"Times,serif\" font-size=\"14.00\">value = 2.127</text>\n",
       "</g>\n",
       "<!-- 25&#45;&gt;29 -->\n",
       "<g id=\"edge29\" class=\"edge\">\n",
       "<title>25&#45;&gt;29</title>\n",
       "<path fill=\"none\" stroke=\"black\" d=\"M1558.31,-195.4C1576.31,-184.96 1596.67,-173.16 1615.58,-162.2\"/>\n",
       "<polygon fill=\"black\" stroke=\"black\" points=\"1617.54,-165.11 1624.44,-157.07 1614.03,-159.06 1617.54,-165.11\"/>\n",
       "</g>\n",
       "<!-- 27 -->\n",
       "<g id=\"node28\" class=\"node\">\n",
       "<title>27</title>\n",
       "<polygon fill=\"#fae6d7\" stroke=\"black\" points=\"1499.5,-53 1395.5,-53 1395.5,0 1499.5,0 1499.5,-53\"/>\n",
       "<text text-anchor=\"start\" x=\"1412.5\" y=\"-37.8\" font-family=\"Times,serif\" font-size=\"14.00\">mse = 0.382</text>\n",
       "<text text-anchor=\"start\" x=\"1403.5\" y=\"-22.8\" font-family=\"Times,serif\" font-size=\"14.00\">samples = 2599</text>\n",
       "<text text-anchor=\"start\" x=\"1409.5\" y=\"-7.8\" font-family=\"Times,serif\" font-size=\"14.00\">value = 1.662</text>\n",
       "</g>\n",
       "<!-- 26&#45;&gt;27 -->\n",
       "<g id=\"edge27\" class=\"edge\">\n",
       "<title>26&#45;&gt;27</title>\n",
       "<path fill=\"none\" stroke=\"black\" d=\"M1485.21,-88.95C1479.82,-80.17 1473.99,-70.66 1468.56,-61.82\"/>\n",
       "<polygon fill=\"black\" stroke=\"black\" points=\"1471.51,-59.93 1463.3,-53.24 1465.54,-63.59 1471.51,-59.93\"/>\n",
       "</g>\n",
       "<!-- 28 -->\n",
       "<g id=\"node29\" class=\"node\">\n",
       "<title>28</title>\n",
       "<polygon fill=\"#f6d4bc\" stroke=\"black\" points=\"1615,-53 1518,-53 1518,0 1615,0 1615,-53\"/>\n",
       "<text text-anchor=\"start\" x=\"1531.5\" y=\"-37.8\" font-family=\"Times,serif\" font-size=\"14.00\">mse = 0.661</text>\n",
       "<text text-anchor=\"start\" x=\"1526\" y=\"-22.8\" font-family=\"Times,serif\" font-size=\"14.00\">samples = 344</text>\n",
       "<text text-anchor=\"start\" x=\"1528.5\" y=\"-7.8\" font-family=\"Times,serif\" font-size=\"14.00\">value = 2.193</text>\n",
       "</g>\n",
       "<!-- 26&#45;&gt;28 -->\n",
       "<g id=\"edge28\" class=\"edge\">\n",
       "<title>26&#45;&gt;28</title>\n",
       "<path fill=\"none\" stroke=\"black\" d=\"M1526.83,-88.95C1532.5,-80.17 1538.64,-70.66 1544.35,-61.82\"/>\n",
       "<polygon fill=\"black\" stroke=\"black\" points=\"1547.4,-63.54 1549.89,-53.24 1541.52,-59.74 1547.4,-63.54\"/>\n",
       "</g>\n",
       "<!-- 30 -->\n",
       "<g id=\"node31\" class=\"node\">\n",
       "<title>30</title>\n",
       "<polygon fill=\"#f5ceb2\" stroke=\"black\" points=\"1730,-53 1633,-53 1633,0 1730,0 1730,-53\"/>\n",
       "<text text-anchor=\"start\" x=\"1646.5\" y=\"-37.8\" font-family=\"Times,serif\" font-size=\"14.00\">mse = 0.646</text>\n",
       "<text text-anchor=\"start\" x=\"1641\" y=\"-22.8\" font-family=\"Times,serif\" font-size=\"14.00\">samples = 952</text>\n",
       "<text text-anchor=\"start\" x=\"1643.5\" y=\"-7.8\" font-family=\"Times,serif\" font-size=\"14.00\">value = 2.394</text>\n",
       "</g>\n",
       "<!-- 29&#45;&gt;30 -->\n",
       "<g id=\"edge30\" class=\"edge\">\n",
       "<title>29&#45;&gt;30</title>\n",
       "<path fill=\"none\" stroke=\"black\" d=\"M1681.5,-88.95C1681.5,-80.72 1681.5,-71.85 1681.5,-63.48\"/>\n",
       "<polygon fill=\"black\" stroke=\"black\" points=\"1685,-63.24 1681.5,-53.24 1678,-63.24 1685,-63.24\"/>\n",
       "</g>\n",
       "<!-- 31 -->\n",
       "<g id=\"node32\" class=\"node\">\n",
       "<title>31</title>\n",
       "<polygon fill=\"#f8ddc9\" stroke=\"black\" points=\"1852.5,-53 1748.5,-53 1748.5,0 1852.5,0 1852.5,-53\"/>\n",
       "<text text-anchor=\"start\" x=\"1769\" y=\"-37.8\" font-family=\"Times,serif\" font-size=\"14.00\">mse = 0.36</text>\n",
       "<text text-anchor=\"start\" x=\"1756.5\" y=\"-22.8\" font-family=\"Times,serif\" font-size=\"14.00\">samples = 1343</text>\n",
       "<text text-anchor=\"start\" x=\"1762.5\" y=\"-7.8\" font-family=\"Times,serif\" font-size=\"14.00\">value = 1.937</text>\n",
       "</g>\n",
       "<!-- 29&#45;&gt;31 -->\n",
       "<g id=\"edge31\" class=\"edge\">\n",
       "<title>29&#45;&gt;31</title>\n",
       "<path fill=\"none\" stroke=\"black\" d=\"M1723.12,-88.95C1735.1,-79.43 1748.15,-69.07 1760.06,-59.62\"/>\n",
       "<polygon fill=\"black\" stroke=\"black\" points=\"1762.44,-62.2 1768.09,-53.24 1758.08,-56.71 1762.44,-62.2\"/>\n",
       "</g>\n",
       "<!-- 33 -->\n",
       "<g id=\"node34\" class=\"node\">\n",
       "<title>33</title>\n",
       "<polygon fill=\"#f1bc96\" stroke=\"black\" points=\"2402,-365 2283,-365 2283,-297 2402,-297 2402,-365\"/>\n",
       "<text text-anchor=\"start\" x=\"2291\" y=\"-349.8\" font-family=\"Times,serif\" font-size=\"14.00\">AveOccup ≤ 2.746</text>\n",
       "<text text-anchor=\"start\" x=\"2307.5\" y=\"-334.8\" font-family=\"Times,serif\" font-size=\"14.00\">mse = 0.898</text>\n",
       "<text text-anchor=\"start\" x=\"2298.5\" y=\"-319.8\" font-family=\"Times,serif\" font-size=\"14.00\">samples = 2368</text>\n",
       "<text text-anchor=\"start\" x=\"2304.5\" y=\"-304.8\" font-family=\"Times,serif\" font-size=\"14.00\">value = 2.942</text>\n",
       "</g>\n",
       "<!-- 32&#45;&gt;33 -->\n",
       "<g id=\"edge33\" class=\"edge\">\n",
       "<title>32&#45;&gt;33</title>\n",
       "<path fill=\"none\" stroke=\"black\" d=\"M2342.5,-400.88C2342.5,-392.78 2342.5,-383.98 2342.5,-375.47\"/>\n",
       "<polygon fill=\"black\" stroke=\"black\" points=\"2346,-375.3 2342.5,-365.3 2339,-375.3 2346,-375.3\"/>\n",
       "</g>\n",
       "<!-- 48 -->\n",
       "<g id=\"node49\" class=\"node\">\n",
       "<title>48</title>\n",
       "<polygon fill=\"#e89253\" stroke=\"black\" points=\"3043,-365 2938,-365 2938,-297 3043,-297 3043,-365\"/>\n",
       "<text text-anchor=\"start\" x=\"2946\" y=\"-349.8\" font-family=\"Times,serif\" font-size=\"14.00\">MedInc ≤ 8.331</text>\n",
       "<text text-anchor=\"start\" x=\"2955.5\" y=\"-334.8\" font-family=\"Times,serif\" font-size=\"14.00\">mse = 0.768</text>\n",
       "<text text-anchor=\"start\" x=\"2950\" y=\"-319.8\" font-family=\"Times,serif\" font-size=\"14.00\">samples = 995</text>\n",
       "<text text-anchor=\"start\" x=\"2952.5\" y=\"-304.8\" font-family=\"Times,serif\" font-size=\"14.00\">value = 4.239</text>\n",
       "</g>\n",
       "<!-- 32&#45;&gt;48 -->\n",
       "<g id=\"edge48\" class=\"edge\">\n",
       "<title>32&#45;&gt;48</title>\n",
       "<path fill=\"none\" stroke=\"black\" d=\"M2395.25,-425.7C2513.67,-407.06 2800.18,-361.96 2927.59,-341.9\"/>\n",
       "<polygon fill=\"black\" stroke=\"black\" points=\"2928.25,-345.34 2937.59,-340.33 2927.17,-338.43 2928.25,-345.34\"/>\n",
       "</g>\n",
       "<!-- 34 -->\n",
       "<g id=\"node35\" class=\"node\">\n",
       "<title>34</title>\n",
       "<polygon fill=\"#eeac7d\" stroke=\"black\" points=\"2267,-261 2154,-261 2154,-193 2267,-193 2267,-261\"/>\n",
       "<text text-anchor=\"start\" x=\"2162\" y=\"-245.8\" font-family=\"Times,serif\" font-size=\"14.00\">HouseAge ≤ 20.5</text>\n",
       "<text text-anchor=\"start\" x=\"2175.5\" y=\"-230.8\" font-family=\"Times,serif\" font-size=\"14.00\">mse = 1.019</text>\n",
       "<text text-anchor=\"start\" x=\"2170\" y=\"-215.8\" font-family=\"Times,serif\" font-size=\"14.00\">samples = 984</text>\n",
       "<text text-anchor=\"start\" x=\"2172.5\" y=\"-200.8\" font-family=\"Times,serif\" font-size=\"14.00\">value = 3.423</text>\n",
       "</g>\n",
       "<!-- 33&#45;&gt;34 -->\n",
       "<g id=\"edge34\" class=\"edge\">\n",
       "<title>33&#45;&gt;34</title>\n",
       "<path fill=\"none\" stroke=\"black\" d=\"M2299.64,-296.88C2287.54,-287.53 2274.25,-277.26 2261.71,-267.57\"/>\n",
       "<polygon fill=\"black\" stroke=\"black\" points=\"2263.65,-264.64 2253.59,-261.3 2259.37,-270.18 2263.65,-264.64\"/>\n",
       "</g>\n",
       "<!-- 41 -->\n",
       "<g id=\"node42\" class=\"node\">\n",
       "<title>41</title>\n",
       "<polygon fill=\"#f3c7a7\" stroke=\"black\" points=\"2478,-261 2373,-261 2373,-193 2478,-193 2478,-261\"/>\n",
       "<text text-anchor=\"start\" x=\"2381\" y=\"-245.8\" font-family=\"Times,serif\" font-size=\"14.00\">MedInc ≤ 5.739</text>\n",
       "<text text-anchor=\"start\" x=\"2390.5\" y=\"-230.8\" font-family=\"Times,serif\" font-size=\"14.00\">mse = 0.531</text>\n",
       "<text text-anchor=\"start\" x=\"2381.5\" y=\"-215.8\" font-family=\"Times,serif\" font-size=\"14.00\">samples = 1384</text>\n",
       "<text text-anchor=\"start\" x=\"2387.5\" y=\"-200.8\" font-family=\"Times,serif\" font-size=\"14.00\">value = 2.601</text>\n",
       "</g>\n",
       "<!-- 33&#45;&gt;41 -->\n",
       "<g id=\"edge41\" class=\"edge\">\n",
       "<title>33&#45;&gt;41</title>\n",
       "<path fill=\"none\" stroke=\"black\" d=\"M2369.45,-296.88C2376.62,-288.07 2384.46,-278.43 2391.95,-269.24\"/>\n",
       "<polygon fill=\"black\" stroke=\"black\" points=\"2394.81,-271.26 2398.4,-261.3 2389.38,-266.85 2394.81,-271.26\"/>\n",
       "</g>\n",
       "<!-- 35 -->\n",
       "<g id=\"node36\" class=\"node\">\n",
       "<title>35</title>\n",
       "<polygon fill=\"#f2be99\" stroke=\"black\" points=\"2087,-157 1982,-157 1982,-89 2087,-89 2087,-157\"/>\n",
       "<text text-anchor=\"start\" x=\"1990\" y=\"-141.8\" font-family=\"Times,serif\" font-size=\"14.00\">MedInc ≤ 5.794</text>\n",
       "<text text-anchor=\"start\" x=\"1999.5\" y=\"-126.8\" font-family=\"Times,serif\" font-size=\"14.00\">mse = 0.893</text>\n",
       "<text text-anchor=\"start\" x=\"1994\" y=\"-111.8\" font-family=\"Times,serif\" font-size=\"14.00\">samples = 285</text>\n",
       "<text text-anchor=\"start\" x=\"1996.5\" y=\"-96.8\" font-family=\"Times,serif\" font-size=\"14.00\">value = 2.888</text>\n",
       "</g>\n",
       "<!-- 34&#45;&gt;35 -->\n",
       "<g id=\"edge35\" class=\"edge\">\n",
       "<title>34&#45;&gt;35</title>\n",
       "<path fill=\"none\" stroke=\"black\" d=\"M2153.84,-193.17C2135.37,-182.46 2114.77,-170.52 2095.95,-159.62\"/>\n",
       "<polygon fill=\"black\" stroke=\"black\" points=\"2097.57,-156.51 2087.17,-154.52 2094.06,-162.56 2097.57,-156.51\"/>\n",
       "</g>\n",
       "<!-- 38 -->\n",
       "<g id=\"node39\" class=\"node\">\n",
       "<title>38</title>\n",
       "<polygon fill=\"#eca572\" stroke=\"black\" points=\"2267,-157 2154,-157 2154,-89 2267,-89 2267,-157\"/>\n",
       "<text text-anchor=\"start\" x=\"2162\" y=\"-141.8\" font-family=\"Times,serif\" font-size=\"14.00\">AveOccup ≤ 2.15</text>\n",
       "<text text-anchor=\"start\" x=\"2175.5\" y=\"-126.8\" font-family=\"Times,serif\" font-size=\"14.00\">mse = 0.905</text>\n",
       "<text text-anchor=\"start\" x=\"2170\" y=\"-111.8\" font-family=\"Times,serif\" font-size=\"14.00\">samples = 699</text>\n",
       "<text text-anchor=\"start\" x=\"2172.5\" y=\"-96.8\" font-family=\"Times,serif\" font-size=\"14.00\">value = 3.641</text>\n",
       "</g>\n",
       "<!-- 34&#45;&gt;38 -->\n",
       "<g id=\"edge38\" class=\"edge\">\n",
       "<title>34&#45;&gt;38</title>\n",
       "<path fill=\"none\" stroke=\"black\" d=\"M2210.5,-192.88C2210.5,-184.78 2210.5,-175.98 2210.5,-167.47\"/>\n",
       "<polygon fill=\"black\" stroke=\"black\" points=\"2214,-167.3 2210.5,-157.3 2207,-167.3 2214,-167.3\"/>\n",
       "</g>\n",
       "<!-- 36 -->\n",
       "<g id=\"node37\" class=\"node\">\n",
       "<title>36</title>\n",
       "<polygon fill=\"#f3c6a6\" stroke=\"black\" points=\"1968,-53 1871,-53 1871,0 1968,0 1968,-53\"/>\n",
       "<text text-anchor=\"start\" x=\"1884.5\" y=\"-37.8\" font-family=\"Times,serif\" font-size=\"14.00\">mse = 0.693</text>\n",
       "<text text-anchor=\"start\" x=\"1879\" y=\"-22.8\" font-family=\"Times,serif\" font-size=\"14.00\">samples = 158</text>\n",
       "<text text-anchor=\"start\" x=\"1881.5\" y=\"-7.8\" font-family=\"Times,serif\" font-size=\"14.00\">value = 2.632</text>\n",
       "</g>\n",
       "<!-- 35&#45;&gt;36 -->\n",
       "<g id=\"edge36\" class=\"edge\">\n",
       "<title>35&#45;&gt;36</title>\n",
       "<path fill=\"none\" stroke=\"black\" d=\"M1994.28,-88.95C1982.7,-79.43 1970.09,-69.07 1958.58,-59.62\"/>\n",
       "<polygon fill=\"black\" stroke=\"black\" points=\"1960.77,-56.88 1950.82,-53.24 1956.32,-62.29 1960.77,-56.88\"/>\n",
       "</g>\n",
       "<!-- 37 -->\n",
       "<g id=\"node38\" class=\"node\">\n",
       "<title>37</title>\n",
       "<polygon fill=\"#efb388\" stroke=\"black\" points=\"2083,-53 1986,-53 1986,0 2083,0 2083,-53\"/>\n",
       "<text text-anchor=\"start\" x=\"2003\" y=\"-37.8\" font-family=\"Times,serif\" font-size=\"14.00\">mse = 0.96</text>\n",
       "<text text-anchor=\"start\" x=\"1994\" y=\"-22.8\" font-family=\"Times,serif\" font-size=\"14.00\">samples = 127</text>\n",
       "<text text-anchor=\"start\" x=\"1996.5\" y=\"-7.8\" font-family=\"Times,serif\" font-size=\"14.00\">value = 3.206</text>\n",
       "</g>\n",
       "<!-- 35&#45;&gt;37 -->\n",
       "<g id=\"edge37\" class=\"edge\">\n",
       "<title>35&#45;&gt;37</title>\n",
       "<path fill=\"none\" stroke=\"black\" d=\"M2034.5,-88.95C2034.5,-80.72 2034.5,-71.85 2034.5,-63.48\"/>\n",
       "<polygon fill=\"black\" stroke=\"black\" points=\"2038,-63.24 2034.5,-53.24 2031,-63.24 2038,-63.24\"/>\n",
       "</g>\n",
       "<!-- 39 -->\n",
       "<g id=\"node40\" class=\"node\">\n",
       "<title>39</title>\n",
       "<polygon fill=\"#e68844\" stroke=\"black\" points=\"2193.5,-53 2101.5,-53 2101.5,0 2193.5,0 2193.5,-53\"/>\n",
       "<text text-anchor=\"start\" x=\"2112.5\" y=\"-37.8\" font-family=\"Times,serif\" font-size=\"14.00\">mse = 0.538</text>\n",
       "<text text-anchor=\"start\" x=\"2110.5\" y=\"-22.8\" font-family=\"Times,serif\" font-size=\"14.00\">samples = 97</text>\n",
       "<text text-anchor=\"start\" x=\"2109.5\" y=\"-7.8\" font-family=\"Times,serif\" font-size=\"14.00\">value = 4.538</text>\n",
       "</g>\n",
       "<!-- 38&#45;&gt;39 -->\n",
       "<g id=\"edge39\" class=\"edge\">\n",
       "<title>38&#45;&gt;39</title>\n",
       "<path fill=\"none\" stroke=\"black\" d=\"M2188.47,-88.95C2182.61,-80.17 2176.28,-70.66 2170.38,-61.82\"/>\n",
       "<polygon fill=\"black\" stroke=\"black\" points=\"2173.12,-59.62 2164.66,-53.24 2167.29,-63.5 2173.12,-59.62\"/>\n",
       "</g>\n",
       "<!-- 40 -->\n",
       "<g id=\"node41\" class=\"node\">\n",
       "<title>40</title>\n",
       "<polygon fill=\"#edaa79\" stroke=\"black\" points=\"2309,-53 2212,-53 2212,0 2309,0 2309,-53\"/>\n",
       "<text text-anchor=\"start\" x=\"2225.5\" y=\"-37.8\" font-family=\"Times,serif\" font-size=\"14.00\">mse = 0.814</text>\n",
       "<text text-anchor=\"start\" x=\"2220\" y=\"-22.8\" font-family=\"Times,serif\" font-size=\"14.00\">samples = 602</text>\n",
       "<text text-anchor=\"start\" x=\"2222.5\" y=\"-7.8\" font-family=\"Times,serif\" font-size=\"14.00\">value = 3.497</text>\n",
       "</g>\n",
       "<!-- 38&#45;&gt;40 -->\n",
       "<g id=\"edge40\" class=\"edge\">\n",
       "<title>38&#45;&gt;40</title>\n",
       "<path fill=\"none\" stroke=\"black\" d=\"M2227.99,-88.95C2232.59,-80.26 2237.56,-70.86 2242.2,-62.09\"/>\n",
       "<polygon fill=\"black\" stroke=\"black\" points=\"2245.3,-63.71 2246.88,-53.24 2239.11,-60.44 2245.3,-63.71\"/>\n",
       "</g>\n",
       "<!-- 42 -->\n",
       "<g id=\"node43\" class=\"node\">\n",
       "<title>42</title>\n",
       "<polygon fill=\"#f5d1b6\" stroke=\"black\" points=\"2482,-157 2369,-157 2369,-89 2482,-89 2482,-157\"/>\n",
       "<text text-anchor=\"start\" x=\"2377\" y=\"-141.8\" font-family=\"Times,serif\" font-size=\"14.00\">HouseAge ≤ 17.5</text>\n",
       "<text text-anchor=\"start\" x=\"2390.5\" y=\"-126.8\" font-family=\"Times,serif\" font-size=\"14.00\">mse = 0.406</text>\n",
       "<text text-anchor=\"start\" x=\"2385\" y=\"-111.8\" font-family=\"Times,serif\" font-size=\"14.00\">samples = 689</text>\n",
       "<text text-anchor=\"start\" x=\"2387.5\" y=\"-96.8\" font-family=\"Times,serif\" font-size=\"14.00\">value = 2.315</text>\n",
       "</g>\n",
       "<!-- 41&#45;&gt;42 -->\n",
       "<g id=\"edge42\" class=\"edge\">\n",
       "<title>41&#45;&gt;42</title>\n",
       "<path fill=\"none\" stroke=\"black\" d=\"M2425.5,-192.88C2425.5,-184.78 2425.5,-175.98 2425.5,-167.47\"/>\n",
       "<polygon fill=\"black\" stroke=\"black\" points=\"2429,-167.3 2425.5,-157.3 2422,-167.3 2429,-167.3\"/>\n",
       "</g>\n",
       "<!-- 45 -->\n",
       "<g id=\"node46\" class=\"node\">\n",
       "<title>45</title>\n",
       "<polygon fill=\"#f2be99\" stroke=\"black\" points=\"2662,-157 2549,-157 2549,-89 2662,-89 2662,-157\"/>\n",
       "<text text-anchor=\"start\" x=\"2557\" y=\"-141.8\" font-family=\"Times,serif\" font-size=\"14.00\">HouseAge ≤ 40.5</text>\n",
       "<text text-anchor=\"start\" x=\"2570.5\" y=\"-126.8\" font-family=\"Times,serif\" font-size=\"14.00\">mse = 0.495</text>\n",
       "<text text-anchor=\"start\" x=\"2565\" y=\"-111.8\" font-family=\"Times,serif\" font-size=\"14.00\">samples = 695</text>\n",
       "<text text-anchor=\"start\" x=\"2567.5\" y=\"-96.8\" font-family=\"Times,serif\" font-size=\"14.00\">value = 2.884</text>\n",
       "</g>\n",
       "<!-- 41&#45;&gt;45 -->\n",
       "<g id=\"edge45\" class=\"edge\">\n",
       "<title>41&#45;&gt;45</title>\n",
       "<path fill=\"none\" stroke=\"black\" d=\"M2478.05,-196.22C2497.39,-185.26 2519.54,-172.71 2539.9,-161.17\"/>\n",
       "<polygon fill=\"black\" stroke=\"black\" points=\"2541.83,-164.11 2548.8,-156.13 2538.37,-158.02 2541.83,-164.11\"/>\n",
       "</g>\n",
       "<!-- 43 -->\n",
       "<g id=\"node44\" class=\"node\">\n",
       "<title>43</title>\n",
       "<polygon fill=\"#f7d7c0\" stroke=\"black\" points=\"2424,-53 2327,-53 2327,0 2424,0 2424,-53\"/>\n",
       "<text text-anchor=\"start\" x=\"2340.5\" y=\"-37.8\" font-family=\"Times,serif\" font-size=\"14.00\">mse = 0.344</text>\n",
       "<text text-anchor=\"start\" x=\"2335\" y=\"-22.8\" font-family=\"Times,serif\" font-size=\"14.00\">samples = 253</text>\n",
       "<text text-anchor=\"start\" x=\"2337.5\" y=\"-7.8\" font-family=\"Times,serif\" font-size=\"14.00\">value = 2.122</text>\n",
       "</g>\n",
       "<!-- 42&#45;&gt;43 -->\n",
       "<g id=\"edge43\" class=\"edge\">\n",
       "<title>42&#45;&gt;43</title>\n",
       "<path fill=\"none\" stroke=\"black\" d=\"M2408.01,-88.95C2403.41,-80.26 2398.44,-70.86 2393.8,-62.09\"/>\n",
       "<polygon fill=\"black\" stroke=\"black\" points=\"2396.89,-60.44 2389.12,-53.24 2390.7,-63.71 2396.89,-60.44\"/>\n",
       "</g>\n",
       "<!-- 44 -->\n",
       "<g id=\"node45\" class=\"node\">\n",
       "<title>44</title>\n",
       "<polygon fill=\"#f5cdb0\" stroke=\"black\" points=\"2539,-53 2442,-53 2442,0 2539,0 2539,-53\"/>\n",
       "<text text-anchor=\"start\" x=\"2455.5\" y=\"-37.8\" font-family=\"Times,serif\" font-size=\"14.00\">mse = 0.407</text>\n",
       "<text text-anchor=\"start\" x=\"2450\" y=\"-22.8\" font-family=\"Times,serif\" font-size=\"14.00\">samples = 436</text>\n",
       "<text text-anchor=\"start\" x=\"2452.5\" y=\"-7.8\" font-family=\"Times,serif\" font-size=\"14.00\">value = 2.427</text>\n",
       "</g>\n",
       "<!-- 42&#45;&gt;44 -->\n",
       "<g id=\"edge44\" class=\"edge\">\n",
       "<title>42&#45;&gt;44</title>\n",
       "<path fill=\"none\" stroke=\"black\" d=\"M2448.23,-88.95C2454.34,-80.07 2460.95,-70.46 2467.09,-61.54\"/>\n",
       "<polygon fill=\"black\" stroke=\"black\" points=\"2470.01,-63.46 2472.8,-53.24 2464.25,-59.49 2470.01,-63.46\"/>\n",
       "</g>\n",
       "<!-- 46 -->\n",
       "<g id=\"node47\" class=\"node\">\n",
       "<title>46</title>\n",
       "<polygon fill=\"#f2bf9b\" stroke=\"black\" points=\"2654,-53 2557,-53 2557,0 2654,0 2654,-53\"/>\n",
       "<text text-anchor=\"start\" x=\"2570.5\" y=\"-37.8\" font-family=\"Times,serif\" font-size=\"14.00\">mse = 0.424</text>\n",
       "<text text-anchor=\"start\" x=\"2565\" y=\"-22.8\" font-family=\"Times,serif\" font-size=\"14.00\">samples = 670</text>\n",
       "<text text-anchor=\"start\" x=\"2567.5\" y=\"-7.8\" font-family=\"Times,serif\" font-size=\"14.00\">value = 2.839</text>\n",
       "</g>\n",
       "<!-- 45&#45;&gt;46 -->\n",
       "<g id=\"edge46\" class=\"edge\">\n",
       "<title>45&#45;&gt;46</title>\n",
       "<path fill=\"none\" stroke=\"black\" d=\"M2605.5,-88.95C2605.5,-80.72 2605.5,-71.85 2605.5,-63.48\"/>\n",
       "<polygon fill=\"black\" stroke=\"black\" points=\"2609,-63.24 2605.5,-53.24 2602,-63.24 2609,-63.24\"/>\n",
       "</g>\n",
       "<!-- 47 -->\n",
       "<g id=\"node48\" class=\"node\">\n",
       "<title>47</title>\n",
       "<polygon fill=\"#e9975b\" stroke=\"black\" points=\"2764.5,-53 2672.5,-53 2672.5,0 2764.5,0 2764.5,-53\"/>\n",
       "<text text-anchor=\"start\" x=\"2683.5\" y=\"-37.8\" font-family=\"Times,serif\" font-size=\"14.00\">mse = 0.911</text>\n",
       "<text text-anchor=\"start\" x=\"2681.5\" y=\"-22.8\" font-family=\"Times,serif\" font-size=\"14.00\">samples = 25</text>\n",
       "<text text-anchor=\"start\" x=\"2680.5\" y=\"-7.8\" font-family=\"Times,serif\" font-size=\"14.00\">value = 4.086</text>\n",
       "</g>\n",
       "<!-- 45&#45;&gt;47 -->\n",
       "<g id=\"edge47\" class=\"edge\">\n",
       "<title>45&#45;&gt;47</title>\n",
       "<path fill=\"none\" stroke=\"black\" d=\"M2645.02,-88.95C2656.29,-79.53 2668.55,-69.27 2679.77,-59.89\"/>\n",
       "<polygon fill=\"black\" stroke=\"black\" points=\"2682.3,-62.34 2687.72,-53.24 2677.81,-56.97 2682.3,-62.34\"/>\n",
       "</g>\n",
       "<!-- 49 -->\n",
       "<g id=\"node50\" class=\"node\">\n",
       "<title>49</title>\n",
       "<polygon fill=\"#eb9d65\" stroke=\"black\" points=\"3047,-261 2934,-261 2934,-193 3047,-193 3047,-261\"/>\n",
       "<text text-anchor=\"start\" x=\"2942\" y=\"-245.8\" font-family=\"Times,serif\" font-size=\"14.00\">HouseAge ≤ 26.5</text>\n",
       "<text text-anchor=\"start\" x=\"2955.5\" y=\"-230.8\" font-family=\"Times,serif\" font-size=\"14.00\">mse = 0.739</text>\n",
       "<text text-anchor=\"start\" x=\"2950\" y=\"-215.8\" font-family=\"Times,serif\" font-size=\"14.00\">samples = 563</text>\n",
       "<text text-anchor=\"start\" x=\"2952.5\" y=\"-200.8\" font-family=\"Times,serif\" font-size=\"14.00\">value = 3.902</text>\n",
       "</g>\n",
       "<!-- 48&#45;&gt;49 -->\n",
       "<g id=\"edge49\" class=\"edge\">\n",
       "<title>48&#45;&gt;49</title>\n",
       "<path fill=\"none\" stroke=\"black\" d=\"M2990.5,-296.88C2990.5,-288.78 2990.5,-279.98 2990.5,-271.47\"/>\n",
       "<polygon fill=\"black\" stroke=\"black\" points=\"2994,-271.3 2990.5,-261.3 2987,-271.3 2994,-271.3\"/>\n",
       "</g>\n",
       "<!-- 56 -->\n",
       "<g id=\"node57\" class=\"node\">\n",
       "<title>56</title>\n",
       "<polygon fill=\"#e6833d\" stroke=\"black\" points=\"3238.5,-261 3124.5,-261 3124.5,-193 3238.5,-193 3238.5,-261\"/>\n",
       "<text text-anchor=\"start\" x=\"3132.5\" y=\"-245.8\" font-family=\"Times,serif\" font-size=\"14.00\">Population ≤ 57.0</text>\n",
       "<text text-anchor=\"start\" x=\"3146.5\" y=\"-230.8\" font-family=\"Times,serif\" font-size=\"14.00\">mse = 0.464</text>\n",
       "<text text-anchor=\"start\" x=\"3141\" y=\"-215.8\" font-family=\"Times,serif\" font-size=\"14.00\">samples = 432</text>\n",
       "<text text-anchor=\"start\" x=\"3146.5\" y=\"-200.8\" font-family=\"Times,serif\" font-size=\"14.00\">value = 4.68</text>\n",
       "</g>\n",
       "<!-- 48&#45;&gt;56 -->\n",
       "<g id=\"edge56\" class=\"edge\">\n",
       "<title>48&#45;&gt;56</title>\n",
       "<path fill=\"none\" stroke=\"black\" d=\"M3043.2,-301.86C3065.52,-289.94 3091.78,-275.91 3115.38,-263.31\"/>\n",
       "<polygon fill=\"black\" stroke=\"black\" points=\"3117.11,-266.35 3124.29,-258.55 3113.82,-260.18 3117.11,-266.35\"/>\n",
       "</g>\n",
       "<!-- 50 -->\n",
       "<g id=\"node51\" class=\"node\">\n",
       "<title>50</title>\n",
       "<polygon fill=\"#eda877\" stroke=\"black\" points=\"2980.5,-157 2882.5,-157 2882.5,-89 2980.5,-89 2980.5,-157\"/>\n",
       "<text text-anchor=\"start\" x=\"2890.5\" y=\"-141.8\" font-family=\"Times,serif\" font-size=\"14.00\">MedInc ≤ 7.75</text>\n",
       "<text text-anchor=\"start\" x=\"2896.5\" y=\"-126.8\" font-family=\"Times,serif\" font-size=\"14.00\">mse = 0.555</text>\n",
       "<text text-anchor=\"start\" x=\"2891\" y=\"-111.8\" font-family=\"Times,serif\" font-size=\"14.00\">samples = 331</text>\n",
       "<text text-anchor=\"start\" x=\"2893.5\" y=\"-96.8\" font-family=\"Times,serif\" font-size=\"14.00\">value = 3.546</text>\n",
       "</g>\n",
       "<!-- 49&#45;&gt;50 -->\n",
       "<g id=\"edge50\" class=\"edge\">\n",
       "<title>49&#45;&gt;50</title>\n",
       "<path fill=\"none\" stroke=\"black\" d=\"M2971.34,-192.88C2966.4,-184.33 2961.01,-175.01 2955.84,-166.07\"/>\n",
       "<polygon fill=\"black\" stroke=\"black\" points=\"2958.8,-164.2 2950.76,-157.3 2952.74,-167.71 2958.8,-164.2\"/>\n",
       "</g>\n",
       "<!-- 53 -->\n",
       "<g id=\"node54\" class=\"node\">\n",
       "<title>53</title>\n",
       "<polygon fill=\"#e78c4b\" stroke=\"black\" points=\"3120,-157 2999,-157 2999,-89 3120,-89 3120,-157\"/>\n",
       "<text text-anchor=\"start\" x=\"3007\" y=\"-141.8\" font-family=\"Times,serif\" font-size=\"14.00\">Population ≤ 160.0</text>\n",
       "<text text-anchor=\"start\" x=\"3024.5\" y=\"-126.8\" font-family=\"Times,serif\" font-size=\"14.00\">mse = 0.563</text>\n",
       "<text text-anchor=\"start\" x=\"3019\" y=\"-111.8\" font-family=\"Times,serif\" font-size=\"14.00\">samples = 232</text>\n",
       "<text text-anchor=\"start\" x=\"3021.5\" y=\"-96.8\" font-family=\"Times,serif\" font-size=\"14.00\">value = 4.409</text>\n",
       "</g>\n",
       "<!-- 49&#45;&gt;53 -->\n",
       "<g id=\"edge53\" class=\"edge\">\n",
       "<title>49&#45;&gt;53</title>\n",
       "<path fill=\"none\" stroke=\"black\" d=\"M3012.9,-192.88C3018.75,-184.24 3025.12,-174.82 3031.23,-165.79\"/>\n",
       "<polygon fill=\"black\" stroke=\"black\" points=\"3034.27,-167.54 3036.97,-157.3 3028.47,-163.62 3034.27,-167.54\"/>\n",
       "</g>\n",
       "<!-- 51 -->\n",
       "<g id=\"node52\" class=\"node\">\n",
       "<title>51</title>\n",
       "<polygon fill=\"#eead7e\" stroke=\"black\" points=\"2880,-53 2783,-53 2783,0 2880,0 2880,-53\"/>\n",
       "<text text-anchor=\"start\" x=\"2796.5\" y=\"-37.8\" font-family=\"Times,serif\" font-size=\"14.00\">mse = 0.548</text>\n",
       "<text text-anchor=\"start\" x=\"2791\" y=\"-22.8\" font-family=\"Times,serif\" font-size=\"14.00\">samples = 221</text>\n",
       "<text text-anchor=\"start\" x=\"2800\" y=\"-7.8\" font-family=\"Times,serif\" font-size=\"14.00\">value = 3.4</text>\n",
       "</g>\n",
       "<!-- 50&#45;&gt;51 -->\n",
       "<g id=\"edge51\" class=\"edge\">\n",
       "<title>50&#45;&gt;51</title>\n",
       "<path fill=\"none\" stroke=\"black\" d=\"M2896.52,-88.95C2886.65,-79.62 2875.91,-69.47 2866.07,-60.16\"/>\n",
       "<polygon fill=\"black\" stroke=\"black\" points=\"2868.41,-57.56 2858.73,-53.24 2863.6,-62.65 2868.41,-57.56\"/>\n",
       "</g>\n",
       "<!-- 52 -->\n",
       "<g id=\"node53\" class=\"node\">\n",
       "<title>52</title>\n",
       "<polygon fill=\"#eb9f68\" stroke=\"black\" points=\"2995,-53 2898,-53 2898,0 2995,0 2995,-53\"/>\n",
       "<text text-anchor=\"start\" x=\"2911.5\" y=\"-37.8\" font-family=\"Times,serif\" font-size=\"14.00\">mse = 0.439</text>\n",
       "<text text-anchor=\"start\" x=\"2906\" y=\"-22.8\" font-family=\"Times,serif\" font-size=\"14.00\">samples = 110</text>\n",
       "<text text-anchor=\"start\" x=\"2908.5\" y=\"-7.8\" font-family=\"Times,serif\" font-size=\"14.00\">value = 3.839</text>\n",
       "</g>\n",
       "<!-- 50&#45;&gt;52 -->\n",
       "<g id=\"edge52\" class=\"edge\">\n",
       "<title>50&#45;&gt;52</title>\n",
       "<path fill=\"none\" stroke=\"black\" d=\"M2936.75,-88.95C2938.07,-80.62 2939.49,-71.65 2940.83,-63.2\"/>\n",
       "<polygon fill=\"black\" stroke=\"black\" points=\"2944.3,-63.66 2942.41,-53.24 2937.39,-62.56 2944.3,-63.66\"/>\n",
       "</g>\n",
       "<!-- 54 -->\n",
       "<g id=\"node55\" class=\"node\">\n",
       "<title>54</title>\n",
       "<polygon fill=\"#f2c2a0\" stroke=\"black\" points=\"3105.5,-53 3013.5,-53 3013.5,0 3105.5,0 3105.5,-53\"/>\n",
       "<text text-anchor=\"start\" x=\"3024.5\" y=\"-37.8\" font-family=\"Times,serif\" font-size=\"14.00\">mse = 0.989</text>\n",
       "<text text-anchor=\"start\" x=\"3026\" y=\"-22.8\" font-family=\"Times,serif\" font-size=\"14.00\">samples = 6</text>\n",
       "<text text-anchor=\"start\" x=\"3021.5\" y=\"-7.8\" font-family=\"Times,serif\" font-size=\"14.00\">value = 2.752</text>\n",
       "</g>\n",
       "<!-- 53&#45;&gt;54 -->\n",
       "<g id=\"edge54\" class=\"edge\">\n",
       "<title>53&#45;&gt;54</title>\n",
       "<path fill=\"none\" stroke=\"black\" d=\"M3059.5,-88.95C3059.5,-80.72 3059.5,-71.85 3059.5,-63.48\"/>\n",
       "<polygon fill=\"black\" stroke=\"black\" points=\"3063,-63.24 3059.5,-53.24 3056,-63.24 3063,-63.24\"/>\n",
       "</g>\n",
       "<!-- 55 -->\n",
       "<g id=\"node56\" class=\"node\">\n",
       "<title>55</title>\n",
       "<polygon fill=\"#e78b48\" stroke=\"black\" points=\"3221,-53 3124,-53 3124,0 3221,0 3221,-53\"/>\n",
       "<text text-anchor=\"start\" x=\"3137.5\" y=\"-37.8\" font-family=\"Times,serif\" font-size=\"14.00\">mse = 0.477</text>\n",
       "<text text-anchor=\"start\" x=\"3132\" y=\"-22.8\" font-family=\"Times,serif\" font-size=\"14.00\">samples = 226</text>\n",
       "<text text-anchor=\"start\" x=\"3134.5\" y=\"-7.8\" font-family=\"Times,serif\" font-size=\"14.00\">value = 4.453</text>\n",
       "</g>\n",
       "<!-- 53&#45;&gt;55 -->\n",
       "<g id=\"edge55\" class=\"edge\">\n",
       "<title>53&#45;&gt;55</title>\n",
       "<path fill=\"none\" stroke=\"black\" d=\"M3099.02,-88.95C3110.29,-79.53 3122.55,-69.27 3133.77,-59.89\"/>\n",
       "<polygon fill=\"black\" stroke=\"black\" points=\"3136.3,-62.34 3141.72,-53.24 3131.81,-56.97 3136.3,-62.34\"/>\n",
       "</g>\n",
       "<!-- 57 -->\n",
       "<g id=\"node58\" class=\"node\">\n",
       "<title>57</title>\n",
       "<polygon fill=\"#f5ceb2\" stroke=\"black\" points=\"3224.5,-149.5 3138.5,-149.5 3138.5,-96.5 3224.5,-96.5 3224.5,-149.5\"/>\n",
       "<text text-anchor=\"start\" x=\"3146.5\" y=\"-134.3\" font-family=\"Times,serif\" font-size=\"14.00\">mse = 1.594</text>\n",
       "<text text-anchor=\"start\" x=\"3148\" y=\"-119.3\" font-family=\"Times,serif\" font-size=\"14.00\">samples = 8</text>\n",
       "<text text-anchor=\"start\" x=\"3146.5\" y=\"-104.3\" font-family=\"Times,serif\" font-size=\"14.00\">value = 2.39</text>\n",
       "</g>\n",
       "<!-- 56&#45;&gt;57 -->\n",
       "<g id=\"edge57\" class=\"edge\">\n",
       "<title>56&#45;&gt;57</title>\n",
       "<path fill=\"none\" stroke=\"black\" d=\"M3181.5,-192.88C3181.5,-182.33 3181.5,-170.6 3181.5,-159.85\"/>\n",
       "<polygon fill=\"black\" stroke=\"black\" points=\"3185,-159.52 3181.5,-149.52 3178,-159.52 3185,-159.52\"/>\n",
       "</g>\n",
       "<!-- 58 -->\n",
       "<g id=\"node59\" class=\"node\">\n",
       "<title>58</title>\n",
       "<polygon fill=\"#e5823b\" stroke=\"black\" points=\"3356.5,-157 3242.5,-157 3242.5,-89 3356.5,-89 3356.5,-157\"/>\n",
       "<text text-anchor=\"start\" x=\"3250.5\" y=\"-141.8\" font-family=\"Times,serif\" font-size=\"14.00\">Latitude ≤ 37.995</text>\n",
       "<text text-anchor=\"start\" x=\"3264.5\" y=\"-126.8\" font-family=\"Times,serif\" font-size=\"14.00\">mse = 0.342</text>\n",
       "<text text-anchor=\"start\" x=\"3259\" y=\"-111.8\" font-family=\"Times,serif\" font-size=\"14.00\">samples = 424</text>\n",
       "<text text-anchor=\"start\" x=\"3261.5\" y=\"-96.8\" font-family=\"Times,serif\" font-size=\"14.00\">value = 4.723</text>\n",
       "</g>\n",
       "<!-- 56&#45;&gt;58 -->\n",
       "<g id=\"edge58\" class=\"edge\">\n",
       "<title>56&#45;&gt;58</title>\n",
       "<path fill=\"none\" stroke=\"black\" d=\"M3219.81,-192.88C3230.53,-183.62 3242.29,-173.45 3253.4,-163.85\"/>\n",
       "<polygon fill=\"black\" stroke=\"black\" points=\"3255.7,-166.49 3260.98,-157.3 3251.12,-161.19 3255.7,-166.49\"/>\n",
       "</g>\n",
       "<!-- 59 -->\n",
       "<g id=\"node60\" class=\"node\">\n",
       "<title>59</title>\n",
       "<polygon fill=\"#e58139\" stroke=\"black\" points=\"3342,-53 3245,-53 3245,0 3342,0 3342,-53\"/>\n",
       "<text text-anchor=\"start\" x=\"3262\" y=\"-37.8\" font-family=\"Times,serif\" font-size=\"14.00\">mse = 0.28</text>\n",
       "<text text-anchor=\"start\" x=\"3253\" y=\"-22.8\" font-family=\"Times,serif\" font-size=\"14.00\">samples = 416</text>\n",
       "<text text-anchor=\"start\" x=\"3255.5\" y=\"-7.8\" font-family=\"Times,serif\" font-size=\"14.00\">value = 4.755</text>\n",
       "</g>\n",
       "<!-- 58&#45;&gt;59 -->\n",
       "<g id=\"edge59\" class=\"edge\">\n",
       "<title>58&#45;&gt;59</title>\n",
       "<path fill=\"none\" stroke=\"black\" d=\"M3297.4,-88.95C3296.88,-80.72 3296.32,-71.85 3295.78,-63.48\"/>\n",
       "<polygon fill=\"black\" stroke=\"black\" points=\"3299.26,-62.99 3295.13,-53.24 3292.27,-63.44 3299.26,-62.99\"/>\n",
       "</g>\n",
       "<!-- 60 -->\n",
       "<g id=\"node61\" class=\"node\">\n",
       "<title>60</title>\n",
       "<polygon fill=\"#f1b991\" stroke=\"black\" points=\"3452.5,-53 3360.5,-53 3360.5,0 3452.5,0 3452.5,-53\"/>\n",
       "<text text-anchor=\"start\" x=\"3371.5\" y=\"-37.8\" font-family=\"Times,serif\" font-size=\"14.00\">mse = 0.666</text>\n",
       "<text text-anchor=\"start\" x=\"3373\" y=\"-22.8\" font-family=\"Times,serif\" font-size=\"14.00\">samples = 8</text>\n",
       "<text text-anchor=\"start\" x=\"3368.5\" y=\"-7.8\" font-family=\"Times,serif\" font-size=\"14.00\">value = 3.045</text>\n",
       "</g>\n",
       "<!-- 58&#45;&gt;60 -->\n",
       "<g id=\"edge60\" class=\"edge\">\n",
       "<title>58&#45;&gt;60</title>\n",
       "<path fill=\"none\" stroke=\"black\" d=\"M3336.92,-88.95C3347.59,-79.53 3359.2,-69.27 3369.82,-59.89\"/>\n",
       "<polygon fill=\"black\" stroke=\"black\" points=\"3372.18,-62.48 3377.36,-53.24 3367.55,-57.23 3372.18,-62.48\"/>\n",
       "</g>\n",
       "</g>\n",
       "</svg>\n"
      ],
      "text/plain": [
       "<graphviz.sources.Source at 0x7faebc2d2f40>"
      ]
     },
     "execution_count": 31,
     "metadata": {},
     "output_type": "execute_result"
    }
   ],
   "source": [
    "dat = export_graphviz(m5r, filled=True, \n",
    "                           special_characters=True,\n",
    "                           feature_names=housing.feature_names)\n",
    "graph = graphviz.Source(dat)\n",
    "graph"
   ]
  },
  {
   "cell_type": "markdown",
   "id": "c3ae556f",
   "metadata": {},
   "source": [
    "# Limitations - Complexity"
   ]
  },
  {
   "cell_type": "code",
   "execution_count": 32,
   "id": "e5395285",
   "metadata": {},
   "outputs": [],
   "source": [
    "v = np.linspace(0, 4 * 3.14159, 1000)\n",
    "xpos = np.sin(v) * v + np.random.randn(1000)\n",
    "ypos = np.cos(v) * v + np.random.randn(1000)\n",
    "x1 = [[x, y] for (x, y) in zip(xpos, ypos)]\n",
    "xpos = -np.sin(v) * v + np.random.randn(1000)\n",
    "ypos = -np.cos(v) * v + np.random.randn(1000)\n",
    "x2 = [[x, y] for (x, y) in zip(xpos, ypos)]\n",
    "\n",
    "\n",
    "x = np.array(x1+x2)\n",
    "x\n",
    "\n",
    "y = np.array([True for i in range(1000)] + [False for i in range(1000)])\n",
    "y = y.reshape(-1, 1)"
   ]
  },
  {
   "cell_type": "code",
   "execution_count": 33,
   "id": "33730e26",
   "metadata": {},
   "outputs": [
    {
     "data": {
      "text/plain": [
       "<matplotlib.collections.PathCollection at 0x7faebc4bd700>"
      ]
     },
     "execution_count": 33,
     "metadata": {},
     "output_type": "execute_result"
    },
    {
     "data": {
      "image/png": "[encoded data removed]",
      "text/plain": [
       "<Figure size 432x288 with 1 Axes>"
      ]
     },
     "metadata": {
      "needs_background": "light"
     },
     "output_type": "display_data"
    }
   ],
   "source": [
    "# clear old visualizations\n",
    "plt.close('all')\n",
    "\n",
    "# visualize the points\n",
    "fig, ax = plt.subplots()\n",
    "plt.scatter(list(zip(*x))[0], list(zip(*x))[1], c=y, cmap='bwr', s=0.5)"
   ]
  },
  {
   "cell_type": "code",
   "execution_count": 34,
   "id": "ee0c2001",
   "metadata": {},
   "outputs": [
    {
     "data": {
      "text/plain": [
       "0.606"
      ]
     },
     "execution_count": 34,
     "metadata": {},
     "output_type": "execute_result"
    }
   ],
   "source": [
    "ms = DecisionTreeClassifier(max_depth=5, min_samples_leaf=5) \n",
    "ms.fit(x, y)\n",
    "ŷ = ms.predict(x)\n",
    "\n",
    "accuracy_score(y, ŷ)"
   ]
  },
  {
   "cell_type": "code",
   "execution_count": 35,
   "id": "d98a4b60",
   "metadata": {},
   "outputs": [
    {
     "data": {
      "text/plain": [
       "<matplotlib.collections.PathCollection at 0x7faea8882f10>"
      ]
     },
     "execution_count": 35,
     "metadata": {},
     "output_type": "execute_result"
    },
    {
     "data": {
      "image/png": "[encoded data removed]",
      "text/plain": [
       "<Figure size 432x288 with 1 Axes>"
      ]
     },
     "metadata": {
      "needs_background": "light"
     },
     "output_type": "display_data"
    }
   ],
   "source": [
    "# Plotting decision regions\n",
    "xx, yy = np.meshgrid(np.arange(-15, 15, 0.1), np.arange(-15, 15, 0.1))\n",
    "Z = ms.predict(np.c_[xx.ravel(), yy.ravel()])\n",
    "Z = Z.reshape(xx.shape)\n",
    "plt.contourf(xx, yy, Z, alpha=0.4, cmap='bwr')\n",
    "plt.scatter(list(zip(*x))[0], list(zip(*x))[1], c=y, cmap='bwr', s=0.5)"
   ]
  },
  {
   "cell_type": "code",
   "execution_count": 36,
   "id": "aae4b3ed",
   "metadata": {},
   "outputs": [
    {
     "data": {
      "text/plain": [
       "0.9025"
      ]
     },
     "execution_count": 36,
     "metadata": {},
     "output_type": "execute_result"
    }
   ],
   "source": [
    "ms = DecisionTreeClassifier(max_depth=20, min_samples_leaf=5) \n",
    "ms.fit(x, y)\n",
    "ŷ = ms.predict(x)\n",
    "\n",
    "accuracy_score(y, ŷ)"
   ]
  },
  {
   "cell_type": "code",
   "execution_count": 37,
   "id": "15cb781a",
   "metadata": {},
   "outputs": [
    {
     "data": {
      "text/plain": [
       "<matplotlib.collections.PathCollection at 0x7faebc2d9850>"
      ]
     },
     "execution_count": 37,
     "metadata": {},
     "output_type": "execute_result"
    },
    {
     "data": {
      "image/png": "[encoded data removed]",
      "text/plain": [
       "<Figure size 432x288 with 1 Axes>"
      ]
     },
     "metadata": {
      "needs_background": "light"
     },
     "output_type": "display_data"
    }
   ],
   "source": [
    "# Plotting decision regions\n",
    "xx, yy = np.meshgrid(np.arange(-15, 15, 0.1), np.arange(-15, 15, 0.1))\n",
    "Z = ms.predict(np.c_[xx.ravel(), yy.ravel()])\n",
    "Z = Z.reshape(xx.shape)\n",
    "plt.contourf(xx, yy, Z, alpha=0.4, cmap='bwr')\n",
    "plt.scatter(list(zip(*x))[0], list(zip(*x))[1], c=y, cmap='bwr', s=0.5)"
   ]
  },
  {
   "cell_type": "markdown",
   "id": "a49cb472",
   "metadata": {},
   "source": [
    "# Limitations - Training Samples"
   ]
  },
  {
   "cell_type": "code",
   "execution_count": 38,
   "id": "9418d6c4",
   "metadata": {},
   "outputs": [
    {
     "data": {
      "text/plain": [
       "0.026334832437388107"
      ]
     },
     "execution_count": 38,
     "metadata": {},
     "output_type": "execute_result"
    }
   ],
   "source": [
    "x = np.linspace(0, 4 * 3.14159, 1000)\n",
    "y = np.sin(x) + np.random.randn(1000)/5\n",
    "\n",
    "x = x.reshape(-1, 1)\n",
    "y = y.reshape(-1, 1)\n",
    "\n",
    "mts = DecisionTreeRegressor(max_depth=20, min_samples_leaf=5) \n",
    "mts.fit(x, y)\n",
    "\n",
    "mean_squared_error(y, mts.predict(x))"
   ]
  },
  {
   "cell_type": "code",
   "execution_count": 39,
   "id": "e24f585e",
   "metadata": {},
   "outputs": [],
   "source": [
    "x = np.linspace(0, 8 * 3.14159, 1000)\n",
    "y = np.sin(x) + np.random.randn(1000)/5\n",
    "\n",
    "x = x.reshape(-1, 1)\n",
    "y = y.reshape(-1, 1)"
   ]
  },
  {
   "cell_type": "code",
   "execution_count": 40,
   "id": "9212a678",
   "metadata": {},
   "outputs": [
    {
     "data": {
      "text/plain": [
       "[<matplotlib.lines.Line2D at 0x7faea8bd3820>]"
      ]
     },
     "execution_count": 40,
     "metadata": {},
     "output_type": "execute_result"
    },
    {
     "data": {
      "image/png": "[encoded data removed]",
      "text/plain": [
       "<Figure size 432x288 with 1 Axes>"
      ]
     },
     "metadata": {
      "needs_background": "light"
     },
     "output_type": "display_data"
    }
   ],
   "source": [
    "# clear old visualizations\n",
    "plt.close('all')\n",
    "\n",
    "# visualize the points\n",
    "fig, ax = plt.subplots()\n",
    "plt.scatter(x, y, s=0.2)\n",
    "ax.set_xlabel(\"data\")\n",
    "ax.set_ylabel(\"target\")\n",
    "plt.plot(x, mts.predict(x))"
   ]
  }
 ],
 "metadata": {
  "kernelspec": {
   "display_name": "Python 3 (ipykernel)",
   "language": "python",
   "name": "python3"
  },
  "language_info": {
   "codemirror_mode": {
    "name": "ipython",
    "version": 3
   },
   "file_extension": ".py",
   "mimetype": "text/x-python",
   "name": "python",
   "nbconvert_exporter": "python",
   "pygments_lexer": "ipython3",
   "version": "3.9.7"
  }
 },
 "nbformat": 4,
 "nbformat_minor": 5
}
