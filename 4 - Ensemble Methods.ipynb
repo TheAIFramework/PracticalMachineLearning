{
 "cells": [
  {
   "cell_type": "markdown",
   "id": "27640b15",
   "metadata": {},
   "source": [
    "# Introduction\n",
    "\n",
    "In the class of machine learning approaches that are based on tree-like decision makers, many improved algorithms have been developed over the past two decades. We will go through three noteworthy designs that build on the idea of ensembles. The general idea is to train multiple models and combine them in various ways to improve performance.\n",
    "\n",
    "There are two primary ways of doing this when it comes to decision trees. The first is to average the output of multiple trees which limits the variance of the output given the central limit theorem. The second way is to build trees in sequence and use the output of each one to reduce the bias in the next one."
   ]
  },
  {
   "cell_type": "markdown",
   "id": "d9b34ca5",
   "metadata": {},
   "source": [
    "# Bagging Regressor\n",
    "A Bagging model works by dividing a dataset, training one tree per subset, and averaging the results. There are variants of the Bagging approach with distinct names determined by how the data is divided (i.e. Pasting, Bagging, Random Subspaces, Random Patches, etc...)."
   ]
  },
  {
   "cell_type": "code",
   "execution_count": 1,
   "id": "9db40c4f",
   "metadata": {},
   "outputs": [],
   "source": [
    "import pandas as pd\n",
    "import numpy as np\n",
    "import matplotlib.pyplot as plt\n",
    "\n",
    "from sklearn.tree import DecisionTreeClassifier\n",
    "from sklearn.ensemble import BaggingClassifier\n",
    "from sklearn.ensemble import RandomForestClassifier\n",
    "\n",
    "from sklearn.preprocessing import label_binarize\n",
    "from sklearn.metrics import accuracy_score, confusion_matrix, roc_curve, auc\n",
    "from sklearn.model_selection import train_test_split\n",
    "\n",
    "from sklearn.datasets import fetch_covtype"
   ]
  },
  {
   "cell_type": "code",
   "execution_count": 2,
   "id": "0ff8de72",
   "metadata": {},
   "outputs": [
    {
     "name": "stdout",
     "output_type": "stream",
     "text": [
      ".. _covtype_dataset:\n",
      "\n",
      "Forest covertypes\n",
      "-----------------\n",
      "\n",
      "The samples in this dataset correspond to 30×30m patches of forest in the US,\n",
      "collected for the task of predicting each patch's cover type,\n",
      "i.e. the dominant species of tree.\n",
      "There are seven covertypes, making this a multiclass classification problem.\n",
      "Each sample has 54 features, described on the\n",
      "`dataset's homepage <https://archive.ics.uci.edu/ml/datasets/Covertype>`__.\n",
      "Some of the features are boolean indicators,\n",
      "while others are discrete or continuous measurements.\n",
      "\n",
      "**Data Set Characteristics:**\n",
      "\n",
      "    =================   ============\n",
      "    Classes                        7\n",
      "    Samples total             581012\n",
      "    Dimensionality                54\n",
      "    Features                     int\n",
      "    =================   ============\n",
      "\n",
      ":func:`sklearn.datasets.fetch_covtype` will load the covertype dataset;\n",
      "it returns a dictionary-like 'Bunch' object\n",
      "with the feature matrix in the ``data`` member\n",
      "and the target values in ``target``. If optional argument 'as_frame' is\n",
      "set to 'True', it will return ``data`` and ``target`` as pandas\n",
      "data frame, and there will be an additional member ``frame`` as well.\n",
      "The dataset will be downloaded from the web if necessary.\n",
      "\n"
     ]
    }
   ],
   "source": [
    "# covtype is a moderately complex \"real world\" dataset\n",
    "# it might take a minute to download the dataset\n",
    "\n",
    "covtype = fetch_covtype()\n",
    "\n",
    "x, xt, y, yt = train_test_split(covtype.data, covtype.target, test_size = 0.20)\n",
    "\n",
    "print(covtype.DESCR)"
   ]
  },
  {
   "cell_type": "code",
   "execution_count": 3,
   "id": "0714a622",
   "metadata": {
    "scrolled": false
   },
   "outputs": [
    {
     "data": {
      "text/plain": [
       "0.8500382950526234"
      ]
     },
     "execution_count": 3,
     "metadata": {},
     "output_type": "execute_result"
    }
   ],
   "source": [
    "# now that datasets are bigger, training takes marginally longer\n",
    "# we will intentionally restrict depth to make differences more apparent\n",
    "\n",
    "m = DecisionTreeClassifier(max_depth=15)\n",
    "\n",
    "m.fit(x, y)\n",
    "\n",
    "ŷ = m.predict(xt)\n",
    "accuracy_score(yt, ŷ)"
   ]
  },
  {
   "cell_type": "code",
   "execution_count": 4,
   "id": "a260d369",
   "metadata": {},
   "outputs": [
    {
     "data": {
      "text/plain": [
       "array([[34814,  7358,     1,     0,    30,     7,   194],\n",
       "       [ 4792, 51182,   164,     2,   103,   250,    22],\n",
       "       [    4,   443,  6038,    38,     6,   639,     0],\n",
       "       [    0,     1,   146,   390,     0,    13,     0],\n",
       "       [   46,  1136,    24,     0,   759,     7,     0],\n",
       "       [    9,   673,   666,    21,     3,  2094,     0],\n",
       "       [  581,    47,     0,     0,     0,     0,  3500]], dtype=int64)"
      ]
     },
     "execution_count": 4,
     "metadata": {},
     "output_type": "execute_result"
    }
   ],
   "source": [
    "confusion_matrix(yt, ŷ)"
   ]
  },
  {
   "cell_type": "code",
   "execution_count": 5,
   "id": "3a6453a3",
   "metadata": {},
   "outputs": [
    {
     "data": {
      "text/plain": [
       "Text(0.5, 1.0, 'Mean AUC 0.85')"
      ]
     },
     "execution_count": 5,
     "metadata": {},
     "output_type": "execute_result"
    },
    {
     "data": {
      "image/png": "[encoded data removed]",
      "text/plain": [
       "<Figure size 432x288 with 1 Axes>"
      ]
     },
     "metadata": {
      "needs_background": "light"
     },
     "output_type": "display_data"
    }
   ],
   "source": [
    "# compute ROC curves for each class and plot them\n",
    "\n",
    "plt.close('all')\n",
    "\n",
    "ytb = label_binarize(yt, classes=np.union1d(y, yt))\n",
    "ŷb = label_binarize(ŷ, classes=np.union1d(y, yt))\n",
    "\n",
    "fig, ax = plt.subplots()\n",
    "area = []\n",
    "for i in range(len(np.union1d(y, yt))):\n",
    "    fpr, tpr, _ = roc_curve(ytb[:,i], ŷb[:,i])\n",
    "    a = auc(fpr, tpr)\n",
    "    area.append(a)\n",
    "    plt.plot(fpr, tpr, label='AUC %0.2f' % a)\n",
    "\n",
    "plt.legend(loc=\"lower right\")\n",
    "plt.title(\"Mean AUC %0.2f\" % np.mean(area))"
   ]
  },
  {
   "cell_type": "code",
   "execution_count": 6,
   "id": "ffcc4bad",
   "metadata": {},
   "outputs": [
    {
     "name": "stderr",
     "output_type": "stream",
     "text": [
      "[Parallel(n_jobs=32)]: Using backend LokyBackend with 32 concurrent workers.\n",
      "[Parallel(n_jobs=32)]: Done   2 out of  32 | elapsed:   12.0s remaining:  3.0min\n",
      "[Parallel(n_jobs=32)]: Done  32 out of  32 | elapsed:   13.4s finished\n",
      "[Parallel(n_jobs=32)]: Using backend LokyBackend with 32 concurrent workers.\n",
      "[Parallel(n_jobs=32)]: Done   2 out of  32 | elapsed:    0.4s remaining:    7.1s\n",
      "[Parallel(n_jobs=32)]: Done  32 out of  32 | elapsed:    0.6s finished\n"
     ]
    },
    {
     "data": {
      "text/plain": [
       "0.8806227033725463"
      ]
     },
     "execution_count": 6,
     "metadata": {},
     "output_type": "execute_result"
    }
   ],
   "source": [
    "# we are training the same tree but using bagging\n",
    "# set the number of estimators to the number of CPUs on your computer\n",
    "\n",
    "mb = BaggingClassifier(base_estimator=DecisionTreeClassifier(max_depth=15),\n",
    "                       n_estimators=32,\n",
    "                       verbose=1,\n",
    "                       n_jobs=-1)\n",
    "\n",
    "mb.fit(x, y)\n",
    "\n",
    "ŷ = mb.predict(xt)\n",
    "accuracy_score(yt, ŷ)"
   ]
  },
  {
   "cell_type": "code",
   "execution_count": 7,
   "id": "55a6ed29",
   "metadata": {},
   "outputs": [
    {
     "data": {
      "text/plain": [
       "Text(0.5, 1.0, 'Mean AUC 0.87')"
      ]
     },
     "execution_count": 7,
     "metadata": {},
     "output_type": "execute_result"
    },
    {
     "data": {
      "image/png": "[encoded data removed]",
      "text/plain": [
       "<Figure size 432x288 with 1 Axes>"
      ]
     },
     "metadata": {
      "needs_background": "light"
     },
     "output_type": "display_data"
    }
   ],
   "source": [
    "# compute ROC curves for each class and plot them\n",
    "\n",
    "plt.close('all')\n",
    "\n",
    "ytb = label_binarize(yt, classes=np.union1d(y, yt))\n",
    "ŷb = label_binarize(ŷ, classes=np.union1d(y, yt))\n",
    "\n",
    "fig, ax = plt.subplots()\n",
    "area = []\n",
    "for i in range(len(np.union1d(y, yt))):\n",
    "    fpr, tpr, _ = roc_curve(ytb[:,i], ŷb[:,i])\n",
    "    a = auc(fpr, tpr)\n",
    "    area.append(a)\n",
    "    plt.plot(fpr, tpr, label='AUC %0.2f' % a)\n",
    "\n",
    "plt.legend(loc=\"lower right\")\n",
    "plt.title(\"Mean AUC %0.2f\" % np.mean(area))"
   ]
  },
  {
   "cell_type": "markdown",
   "id": "d0f95a29",
   "metadata": {},
   "source": [
    "# Random Forest\n",
    "In random forests (see RandomForestClassifier and RandomForestRegressor classes), each tree in the ensemble is built from a sample drawn with replacement (i.e., a bootstrap sample) from the training set.\n",
    "\n",
    "Furthermore, when splitting each node during the construction of a tree, the best split is found either from all input features or a random subset of size max_features. (See the parameter tuning guidelines for more details).\n",
    "\n",
    "The purpose of these two sources of randomness is to decrease the variance of the forest estimator. Indeed, individual decision trees typically exhibit high variance and tend to overfit. The injected randomness in forests yield decision trees with somewhat decoupled prediction errors. By taking an average of those predictions, some errors can cancel out. Random forests achieve a reduced variance by combining diverse trees, sometimes at the cost of a slight increase in bias. In practice the variance reduction is often significant hence yielding an overall better model.\n",
    "\n",
    "In contrast to the original publication [B2001], the scikit-learn implementation combines classifiers by averaging their probabilistic prediction, instead of letting each classifier vote for a single class."
   ]
  },
  {
   "cell_type": "markdown",
   "id": "58ffe722",
   "metadata": {},
   "source": [
    "The main parameters to adjust when using these methods is n_estimators and max_features. The former is the number of trees in the forest. The larger the better, but also the longer it will take to compute. In addition, note that results will stop getting significantly better beyond a critical number of trees. The latter is the size of the random subsets of features to consider when splitting a node. The lower the greater the reduction of variance, but also the greater the increase in bias. Empirical good default values are max_features=None (always considering all features instead of a random subset) for regression problems, and max_features=\"sqrt\" (using a random subset of size sqrt(n_features)) for classification tasks (where n_features is the number of features in the data). Good results are often achieved when setting max_depth=None in combination with min_samples_split=2 (i.e., when fully developing the trees). Bear in mind though that these values are usually not optimal, and might result in models that consume a lot of RAM. The best parameter values should always be cross-validated. In addition, note that in random forests, bootstrap samples are used by default (bootstrap=True) while the default strategy for extra-trees is to use the whole dataset (bootstrap=False). When using bootstrap sampling the generalization accuracy can be estimated on the left out or out-of-bag samples. This can be enabled by setting oob_score=True."
   ]
  },
  {
   "cell_type": "markdown",
   "id": "17301549",
   "metadata": {},
   "source": [
    "Finally, this module also features the parallel construction of the trees and the parallel computation of the predictions through the n_jobs parameter. If n_jobs=k then computations are partitioned into k jobs, and run on k cores of the machine. If n_jobs=-1 then all cores available on the machine are used. Note that because of inter-process communication overhead, the speedup might not be linear (i.e., using k jobs will unfortunately not be k times as fast). Significant speedup can still be achieved though when building a large number of trees, or when building a single tree requires a fair amount of time (e.g., on large datasets)."
   ]
  },
  {
   "cell_type": "code",
   "execution_count": 8,
   "id": "50314aa5",
   "metadata": {},
   "outputs": [
    {
     "name": "stderr",
     "output_type": "stream",
     "text": [
      "[Parallel(n_jobs=-1)]: Using backend ThreadingBackend with 32 concurrent workers.\n",
      "[Parallel(n_jobs=-1)]: Done   2 out of  32 | elapsed:    9.6s remaining:  2.4min\n",
      "[Parallel(n_jobs=-1)]: Done  32 out of  32 | elapsed:   10.3s finished\n",
      "[Parallel(n_jobs=32)]: Using backend ThreadingBackend with 32 concurrent workers.\n",
      "[Parallel(n_jobs=32)]: Done   2 out of  32 | elapsed:    0.0s remaining:    0.8s\n",
      "[Parallel(n_jobs=32)]: Done  32 out of  32 | elapsed:    0.0s finished\n"
     ]
    },
    {
     "data": {
      "text/plain": [
       "0.881466055093242"
      ]
     },
     "execution_count": 8,
     "metadata": {},
     "output_type": "execute_result"
    }
   ],
   "source": [
    "# we need to set the maximum number of features explicitly \n",
    "# for a 1:1 comparison with DecisionTreeClassifier\n",
    "\n",
    "mrf = RandomForestClassifier(max_depth=15, max_features=54, n_estimators=32, verbose=1, n_jobs=-1)\n",
    "\n",
    "mrf.fit(x, y)\n",
    "\n",
    "ŷ = mrf.predict(xt)\n",
    "accuracy_score(yt, ŷ)"
   ]
  },
  {
   "cell_type": "code",
   "execution_count": 9,
   "id": "e38d745b",
   "metadata": {},
   "outputs": [],
   "source": [
    "# we can use the inefficient grid search to find good parameters\n",
    "\n",
    "from sklearn.model_selection import GridSearchCV"
   ]
  },
  {
   "cell_type": "code",
   "execution_count": null,
   "id": "21f99d93",
   "metadata": {
    "scrolled": true
   },
   "outputs": [],
   "source": [
    "# WARNING grid search is tremendously inefficient\n",
    "# each additional test will increase runtime by O(n!)\n",
    "\n",
    "parameters = {'max_depth':[15], 'max_features':[30, 54], 'max_depth':[15, 20]}\n",
    "              \n",
    "mrfgs = GridSearchCV(RandomForestClassifier(), parameters)\n",
    "mrfgs.fit(x, y)"
   ]
  },
  {
   "cell_type": "code",
   "execution_count": null,
   "id": "c5c819e0",
   "metadata": {},
   "outputs": [],
   "source": [
    "ŷ = mrfgs.best_estimator_.predict(xt)\n",
    "accuracy_score(yt, ŷ)\n",
    "mrfgs.best_estimator_"
   ]
  },
  {
   "cell_type": "markdown",
   "id": "5da0b1e9",
   "metadata": {},
   "source": [
    "# Gradient Tree Boosting"
   ]
  },
  {
   "cell_type": "code",
   "execution_count": null,
   "id": "cab1bcf5",
   "metadata": {},
   "outputs": [],
   "source": [
    "import xgboost as xgb"
   ]
  },
  {
   "cell_type": "code",
   "execution_count": null,
   "id": "5f92bd87",
   "metadata": {},
   "outputs": [],
   "source": []
  },
  {
   "cell_type": "code",
   "execution_count": null,
   "id": "cca25079",
   "metadata": {},
   "outputs": [],
   "source": []
  }
 ],
 "metadata": {
  "kernelspec": {
   "display_name": "Python 3 (ipykernel)",
   "language": "python",
   "name": "python3"
  },
  "language_info": {
   "codemirror_mode": {
    "name": "ipython",
    "version": 3
   },
   "file_extension": ".py",
   "mimetype": "text/x-python",
   "name": "python",
   "nbconvert_exporter": "python",
   "pygments_lexer": "ipython3",
   "version": "3.10.1"
  }
 },
 "nbformat": 4,
 "nbformat_minor": 5
}
