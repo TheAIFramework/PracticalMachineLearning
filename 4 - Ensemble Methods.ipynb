{
 "cells": [
  {
   "cell_type": "markdown",
   "id": "8734e08e",
   "metadata": {},
   "source": [
    "# Introduction\n",
    "\n",
    "In the class of machine learning approaches that are based on tree-like decision makers, many improved algorithms have been developed over the past two decades. We will go through three noteworthy designs that build on the idea of ensembles. The general idea is to train multiple models and combine them in various ways to improve performance.\n",
    "\n",
    "There are two primary ways of doing this when it comes to decision trees. The first is to average the output of multiple trees which limits the variance of the output given the central limit theorem. The second way is to build trees in sequence and use the output of each one to reduce the bias in the next one."
   ]
  },
  {
   "cell_type": "markdown",
   "id": "0c34bfe5",
   "metadata": {},
   "source": [
    "# Bagging Regressor\n",
    "A Bagging model works by dividing a dataset, training one tree per subset, and averaging the results. There are variants of the Bagging approach with distinct names determined by how the data is divided (i.e. Pasting, Bagging, Random Subspaces, Random Patches, etc...)."
   ]
  },
  {
   "cell_type": "code",
   "execution_count": 1,
   "id": "417df68a",
   "metadata": {},
   "outputs": [],
   "source": [
    "import pandas as pd\n",
    "import numpy as np\n",
    "import matplotlib.pyplot as plt\n",
    "\n",
    "from sklearn.tree import DecisionTreeClassifier\n",
    "from sklearn.ensemble import BaggingClassifier\n",
    "from sklearn.ensemble import RandomForestClassifier\n",
    "\n",
    "from sklearn.preprocessing import label_binarize\n",
    "from sklearn.metrics import accuracy_score, confusion_matrix, roc_curve, auc\n",
    "from sklearn.model_selection import train_test_split\n",
    "\n",
    "from sklearn.datasets import fetch_covtype"
   ]
  },
  {
   "cell_type": "code",
   "execution_count": 2,
   "id": "935cf2fb",
   "metadata": {},
   "outputs": [
    {
     "name": "stdout",
     "output_type": "stream",
     "text": [
      ".. _covtype_dataset:\n",
      "\n",
      "Forest covertypes\n",
      "-----------------\n",
      "\n",
      "The samples in this dataset correspond to 30×30m patches of forest in the US,\n",
      "collected for the task of predicting each patch's cover type,\n",
      "i.e. the dominant species of tree.\n",
      "There are seven covertypes, making this a multiclass classification problem.\n",
      "Each sample has 54 features, described on the\n",
      "`dataset's homepage <https://archive.ics.uci.edu/ml/datasets/Covertype>`__.\n",
      "Some of the features are boolean indicators,\n",
      "while others are discrete or continuous measurements.\n",
      "\n",
      "**Data Set Characteristics:**\n",
      "\n",
      "    =================   ============\n",
      "    Classes                        7\n",
      "    Samples total             581012\n",
      "    Dimensionality                54\n",
      "    Features                     int\n",
      "    =================   ============\n",
      "\n",
      ":func:`sklearn.datasets.fetch_covtype` will load the covertype dataset;\n",
      "it returns a dictionary-like 'Bunch' object\n",
      "with the feature matrix in the ``data`` member\n",
      "and the target values in ``target``. If optional argument 'as_frame' is\n",
      "set to 'True', it will return ``data`` and ``target`` as pandas\n",
      "data frame, and there will be an additional member ``frame`` as well.\n",
      "The dataset will be downloaded from the web if necessary.\n",
      "\n"
     ]
    }
   ],
   "source": [
    "# covtype is a moderately complex \"real world\" dataset\n",
    "# it might take a minute to download the dataset\n",
    "\n",
    "covtype = fetch_covtype()\n",
    "\n",
    "x, xt, y, yt = train_test_split(covtype.data, covtype.target, test_size = 0.20)\n",
    "\n",
    "print(covtype.DESCR)"
   ]
  },
  {
   "cell_type": "code",
   "execution_count": 3,
   "id": "65b7bc0b",
   "metadata": {
    "scrolled": false
   },
   "outputs": [
    {
     "data": {
      "text/plain": [
       "0.8522843644312109"
      ]
     },
     "execution_count": 3,
     "metadata": {},
     "output_type": "execute_result"
    }
   ],
   "source": [
    "# now that datasets are bigger, training takes marginally longer\n",
    "# we will intentionally restrict depth to make differences more apparent\n",
    "\n",
    "m = DecisionTreeClassifier(max_depth=15)\n",
    "\n",
    "m.fit(x, y)\n",
    "\n",
    "ŷ = m.predict(xt)\n",
    "accuracy_score(yt, ŷ)"
   ]
  },
  {
   "cell_type": "code",
   "execution_count": 4,
   "id": "a738df8d",
   "metadata": {},
   "outputs": [
    {
     "data": {
      "text/plain": [
       "array([[35111,  7087,     2,     0,     8,    14,   238],\n",
       "       [ 4986, 50962,   219,     2,    81,   162,    28],\n",
       "       [    3,   418,  6099,    25,     8,   642,     0],\n",
       "       [    0,     0,   149,   391,     0,    28,     0],\n",
       "       [   56,  1160,    22,     0,   660,     7,     0],\n",
       "       [   13,   660,   573,    24,     7,  2216,     0],\n",
       "       [  484,    59,     0,     0,     0,     0,  3599]], dtype=int64)"
      ]
     },
     "execution_count": 4,
     "metadata": {},
     "output_type": "execute_result"
    }
   ],
   "source": [
    "confusion_matrix(yt, ŷ)"
   ]
  },
  {
   "cell_type": "code",
   "execution_count": 5,
   "id": "c8146a11",
   "metadata": {},
   "outputs": [
    {
     "data": {
      "text/plain": [
       "Text(0.5, 1.0, 'Mean AUC 0.85')"
      ]
     },
     "execution_count": 5,
     "metadata": {},
     "output_type": "execute_result"
    },
    {
     "data": {
      "image/png": "[encoded data removed]",
      "text/plain": [
       "<Figure size 432x288 with 1 Axes>"
      ]
     },
     "metadata": {
      "needs_background": "light"
     },
     "output_type": "display_data"
    }
   ],
   "source": [
    "# compute ROC curves for each class and plot them\n",
    "\n",
    "plt.close('all')\n",
    "\n",
    "ytb = label_binarize(yt, classes=np.union1d(y, yt))\n",
    "ŷb = label_binarize(ŷ, classes=np.union1d(y, yt))\n",
    "\n",
    "fig, ax = plt.subplots()\n",
    "area = []\n",
    "for i in range(len(np.union1d(y, yt))):\n",
    "    fpr, tpr, _ = roc_curve(ytb[:,i], ŷb[:,i])\n",
    "    a = auc(fpr, tpr)\n",
    "    area.append(a)\n",
    "    plt.plot(fpr, tpr, label='AUC %0.2f' % a)\n",
    "\n",
    "plt.legend(loc=\"lower right\")\n",
    "plt.title(\"Mean AUC %0.2f\" % np.mean(area))"
   ]
  },
  {
   "cell_type": "code",
   "execution_count": 6,
   "id": "2966b903",
   "metadata": {},
   "outputs": [
    {
     "name": "stderr",
     "output_type": "stream",
     "text": [
      "[Parallel(n_jobs=32)]: Using backend LokyBackend with 32 concurrent workers.\n",
      "[Parallel(n_jobs=32)]: Done   2 out of  32 | elapsed:   11.9s remaining:  3.0min\n",
      "[Parallel(n_jobs=32)]: Done  32 out of  32 | elapsed:   12.9s finished\n",
      "[Parallel(n_jobs=32)]: Using backend LokyBackend with 32 concurrent workers.\n",
      "[Parallel(n_jobs=32)]: Done   2 out of  32 | elapsed:    0.3s remaining:    6.1s\n",
      "[Parallel(n_jobs=32)]: Done  32 out of  32 | elapsed:    0.6s finished\n"
     ]
    },
    {
     "data": {
      "text/plain": [
       "0.8817844633959536"
      ]
     },
     "execution_count": 6,
     "metadata": {},
     "output_type": "execute_result"
    }
   ],
   "source": [
    "# we are training the same tree but using bagging\n",
    "# set the number of estimators to the number of CPUs on your computer\n",
    "\n",
    "mb = BaggingClassifier(base_estimator=DecisionTreeClassifier(max_depth=15),\n",
    "                       n_estimators=32,\n",
    "                       verbose=1,\n",
    "                       n_jobs=-1)\n",
    "\n",
    "mb.fit(x, y)\n",
    "\n",
    "ŷ = mb.predict(xt)\n",
    "accuracy_score(yt, ŷ)"
   ]
  },
  {
   "cell_type": "code",
   "execution_count": 7,
   "id": "467199f1",
   "metadata": {},
   "outputs": [
    {
     "data": {
      "text/plain": [
       "Text(0.5, 1.0, 'Mean AUC 0.87')"
      ]
     },
     "execution_count": 7,
     "metadata": {},
     "output_type": "execute_result"
    },
    {
     "data": {
      "image/png": "[encoded data removed]",
      "text/plain": [
       "<Figure size 432x288 with 1 Axes>"
      ]
     },
     "metadata": {
      "needs_background": "light"
     },
     "output_type": "display_data"
    }
   ],
   "source": [
    "# compute ROC curves for each class and plot them\n",
    "\n",
    "plt.close('all')\n",
    "\n",
    "ytb = label_binarize(yt, classes=np.union1d(y, yt))\n",
    "ŷb = label_binarize(ŷ, classes=np.union1d(y, yt))\n",
    "\n",
    "fig, ax = plt.subplots()\n",
    "area = []\n",
    "for i in range(len(np.union1d(y, yt))):\n",
    "    fpr, tpr, _ = roc_curve(ytb[:,i], ŷb[:,i])\n",
    "    a = auc(fpr, tpr)\n",
    "    area.append(a)\n",
    "    plt.plot(fpr, tpr, label='AUC %0.2f' % a)\n",
    "\n",
    "plt.legend(loc=\"lower right\")\n",
    "plt.title(\"Mean AUC %0.2f\" % np.mean(area))"
   ]
  },
  {
   "cell_type": "markdown",
   "id": "2a0dac65",
   "metadata": {},
   "source": [
    "# Random Forest\n",
    "In random forests each tree in the ensemble is built from a sample drawn with replacement (i.e., a bootstrap sample) from the training set. Furthermore, when splitting each node during the construction of a tree, the best split is found either from all input features or a random subset."
   ]
  },
  {
   "cell_type": "code",
   "execution_count": 8,
   "id": "2ceb45a2",
   "metadata": {},
   "outputs": [
    {
     "name": "stderr",
     "output_type": "stream",
     "text": [
      "[Parallel(n_jobs=-1)]: Using backend ThreadingBackend with 32 concurrent workers.\n",
      "[Parallel(n_jobs=-1)]: Done   2 out of  32 | elapsed:    9.5s remaining:  2.4min\n",
      "[Parallel(n_jobs=-1)]: Done  32 out of  32 | elapsed:   10.3s finished\n",
      "[Parallel(n_jobs=32)]: Using backend ThreadingBackend with 32 concurrent workers.\n",
      "[Parallel(n_jobs=32)]: Done   2 out of  32 | elapsed:    0.0s remaining:    0.7s\n",
      "[Parallel(n_jobs=32)]: Done  32 out of  32 | elapsed:    0.0s finished\n"
     ]
    },
    {
     "data": {
      "text/plain": [
       "0.8822319561457105"
      ]
     },
     "execution_count": 8,
     "metadata": {},
     "output_type": "execute_result"
    }
   ],
   "source": [
    "# we need to set the maximum number of features explicitly \n",
    "# for a 1:1 comparison with DecisionTreeClassifier\n",
    "\n",
    "mrf = RandomForestClassifier(max_depth=15, max_features=54, n_estimators=32, verbose=1, n_jobs=-1)\n",
    "\n",
    "mrf.fit(x, y)\n",
    "\n",
    "ŷ = mrf.predict(xt)\n",
    "accuracy_score(yt, ŷ)"
   ]
  },
  {
   "cell_type": "code",
   "execution_count": 9,
   "id": "a3c93e6b",
   "metadata": {},
   "outputs": [
    {
     "name": "stderr",
     "output_type": "stream",
     "text": [
      "[Parallel(n_jobs=-1)]: Using backend ThreadingBackend with 32 concurrent workers.\n",
      "[Parallel(n_jobs=-1)]: Done   2 out of  32 | elapsed:   10.0s remaining:  2.5min\n",
      "[Parallel(n_jobs=-1)]: Done  32 out of  32 | elapsed:   11.0s finished\n",
      "[Parallel(n_jobs=32)]: Using backend ThreadingBackend with 32 concurrent workers.\n",
      "[Parallel(n_jobs=32)]: Done   2 out of  32 | elapsed:    0.0s remaining:    0.8s\n",
      "[Parallel(n_jobs=32)]: Done  32 out of  32 | elapsed:    0.0s finished\n"
     ]
    },
    {
     "data": {
      "text/plain": [
       "0.9654483963408862"
      ]
     },
     "execution_count": 9,
     "metadata": {},
     "output_type": "execute_result"
    }
   ],
   "source": [
    "# A forest does not overfit as easily as a single tree so we can increase depth\n",
    "\n",
    "mrf = RandomForestClassifier(max_features=54, n_estimators=32, verbose=1, n_jobs=-1)\n",
    "\n",
    "mrf.fit(x, y)\n",
    "\n",
    "ŷ = mrf.predict(xt)\n",
    "accuracy_score(yt, ŷ)"
   ]
  },
  {
   "cell_type": "code",
   "execution_count": 10,
   "id": "fe18976b",
   "metadata": {},
   "outputs": [
    {
     "name": "stderr",
     "output_type": "stream",
     "text": [
      "[Parallel(n_jobs=-1)]: Using backend ThreadingBackend with 32 concurrent workers.\n",
      "[Parallel(n_jobs=-1)]: Done  64 out of  64 | elapsed:   21.8s finished\n",
      "[Parallel(n_jobs=32)]: Using backend ThreadingBackend with 32 concurrent workers.\n",
      "[Parallel(n_jobs=32)]: Done  64 out of  64 | elapsed:    0.1s finished\n"
     ]
    },
    {
     "data": {
      "text/plain": [
       "0.9666617901431116"
      ]
     },
     "execution_count": 10,
     "metadata": {},
     "output_type": "execute_result"
    }
   ],
   "source": [
    "# Other parameter changes provide only marginal gains\n",
    "# Doubling the number of trees makes a negligible difference\n",
    "\n",
    "mrf = RandomForestClassifier(max_features=54, n_estimators=64, verbose=1, n_jobs=-1)\n",
    "\n",
    "mrf.fit(x, y)\n",
    "\n",
    "ŷ = mrf.predict(xt)\n",
    "accuracy_score(yt, ŷ)"
   ]
  },
  {
   "cell_type": "markdown",
   "id": "19174cd1",
   "metadata": {},
   "source": [
    "# Gradient Tree Boosting"
   ]
  },
  {
   "cell_type": "code",
   "execution_count": 16,
   "id": "4af816cb",
   "metadata": {},
   "outputs": [],
   "source": [
    "import xgboost as xgb"
   ]
  },
  {
   "cell_type": "code",
   "execution_count": 12,
   "id": "71632b29",
   "metadata": {
    "scrolled": true
   },
   "outputs": [
    {
     "name": "stdout",
     "output_type": "stream",
     "text": [
      "[0]\ttrain-merror:0.10778\ttest-merror:0.12069\n",
      "[1]\ttrain-merror:0.09150\ttest-merror:0.10730\n",
      "[2]\ttrain-merror:0.07017\ttest-merror:0.09255\n",
      "[3]\ttrain-merror:0.05081\ttest-merror:0.07988\n",
      "[4]\ttrain-merror:0.03852\ttest-merror:0.07131\n",
      "[5]\ttrain-merror:0.02972\ttest-merror:0.06542\n",
      "[6]\ttrain-merror:0.02288\ttest-merror:0.06065\n",
      "[7]\ttrain-merror:0.01767\ttest-merror:0.05718\n",
      "[8]\ttrain-merror:0.01345\ttest-merror:0.05395\n",
      "[9]\ttrain-merror:0.01033\ttest-merror:0.05112\n",
      "[10]\ttrain-merror:0.00772\ttest-merror:0.04879\n",
      "[11]\ttrain-merror:0.00579\ttest-merror:0.04705\n",
      "[12]\ttrain-merror:0.00432\ttest-merror:0.04536\n",
      "[13]\ttrain-merror:0.00326\ttest-merror:0.04386\n",
      "[14]\ttrain-merror:0.00237\ttest-merror:0.04213\n",
      "[15]\ttrain-merror:0.00169\ttest-merror:0.04115\n",
      "[16]\ttrain-merror:0.00123\ttest-merror:0.03981\n",
      "[17]\ttrain-merror:0.00086\ttest-merror:0.03900\n",
      "[18]\ttrain-merror:0.00058\ttest-merror:0.03812\n",
      "[19]\ttrain-merror:0.00039\ttest-merror:0.03747\n",
      "[20]\ttrain-merror:0.00025\ttest-merror:0.03686\n",
      "[21]\ttrain-merror:0.00016\ttest-merror:0.03608\n",
      "[22]\ttrain-merror:0.00011\ttest-merror:0.03565\n",
      "[23]\ttrain-merror:0.00007\ttest-merror:0.03518\n",
      "[24]\ttrain-merror:0.00005\ttest-merror:0.03460\n",
      "[25]\ttrain-merror:0.00003\ttest-merror:0.03420\n",
      "[26]\ttrain-merror:0.00001\ttest-merror:0.03393\n",
      "[27]\ttrain-merror:0.00001\ttest-merror:0.03371\n",
      "[28]\ttrain-merror:0.00001\ttest-merror:0.03328\n",
      "[29]\ttrain-merror:0.00001\ttest-merror:0.03296\n",
      "[30]\ttrain-merror:0.00000\ttest-merror:0.03263\n",
      "[31]\ttrain-merror:0.00000\ttest-merror:0.03240\n",
      "[32]\ttrain-merror:0.00000\ttest-merror:0.03217\n",
      "[33]\ttrain-merror:0.00000\ttest-merror:0.03193\n",
      "[34]\ttrain-merror:0.00000\ttest-merror:0.03179\n",
      "[35]\ttrain-merror:0.00000\ttest-merror:0.03175\n",
      "[36]\ttrain-merror:0.00000\ttest-merror:0.03153\n",
      "[37]\ttrain-merror:0.00000\ttest-merror:0.03139\n",
      "[38]\ttrain-merror:0.00000\ttest-merror:0.03122\n",
      "[39]\ttrain-merror:0.00000\ttest-merror:0.03101\n",
      "[40]\ttrain-merror:0.00000\ttest-merror:0.03096\n",
      "[41]\ttrain-merror:0.00000\ttest-merror:0.03077\n",
      "[42]\ttrain-merror:0.00000\ttest-merror:0.03068\n",
      "[43]\ttrain-merror:0.00000\ttest-merror:0.03058\n",
      "[44]\ttrain-merror:0.00000\ttest-merror:0.03050\n",
      "[45]\ttrain-merror:0.00000\ttest-merror:0.03031\n",
      "[46]\ttrain-merror:0.00000\ttest-merror:0.03042\n",
      "[47]\ttrain-merror:0.00000\ttest-merror:0.03034\n",
      "[48]\ttrain-merror:0.00000\ttest-merror:0.03027\n",
      "[49]\ttrain-merror:0.00000\ttest-merror:0.03032\n"
     ]
    }
   ],
   "source": [
    "# since we're building a multiclass classifier we use softmax\n",
    "# this model will score about as well as the best Random Forest\n",
    "\n",
    "p = {'objective':'multi:softmax',\n",
    "     'eta':0.2,\n",
    "     'max_depth':30,\n",
    "     'num_class':54,\n",
    "     'eval_metric':'merror',\n",
    "     'nthread':'32'}\n",
    "\n",
    "# XGBoost wants the data serialized into a data structure called Dmatrix\n",
    "dat = xgb.DMatrix(x, label=y)\n",
    "datt = xgb.DMatrix(xt, label=yt)\n",
    "watch = [(dat, 'train'), (datt, 'test')]\n",
    "score = {}\n",
    "\n",
    "mxgb = xgb.train(p, dat, 50, watch, evals_result=score)"
   ]
  },
  {
   "cell_type": "code",
   "execution_count": 13,
   "id": "0f015a90",
   "metadata": {},
   "outputs": [
    {
     "data": {
      "image/png": "[encoded data removed]",
      "text/plain": [
       "<Figure size 432x288 with 1 Axes>"
      ]
     },
     "metadata": {
      "needs_background": "light"
     },
     "output_type": "display_data"
    }
   ],
   "source": [
    "plt.close('all')\n",
    "\n",
    "epoch = list(range(len(score['test']['merror'])))\n",
    "ŷ = mxgb.predict(datt)\n",
    "s = accuracy_score(yt, ŷ)\n",
    "\n",
    "plt.plot(epoch, score['test']['merror'], label='test')\n",
    "plt.title(\"Final Error %0.4f\" % s)\n",
    "plt.show()"
   ]
  },
  {
   "cell_type": "code",
   "execution_count": 14,
   "id": "8f1c54e7",
   "metadata": {},
   "outputs": [
    {
     "name": "stdout",
     "output_type": "stream",
     "text": [
      "[0]\ttrain-merror:0.11577+0.00165\ttest-merror:0.12936+0.00234\n",
      "[1]\ttrain-merror:0.09731+0.00147\ttest-merror:0.11532+0.00194\n",
      "[2]\ttrain-merror:0.07492+0.00068\ttest-merror:0.09895+0.00155\n",
      "[3]\ttrain-merror:0.05460+0.00032\ttest-merror:0.08527+0.00171\n",
      "[4]\ttrain-merror:0.04085+0.00045\ttest-merror:0.07593+0.00161\n"
     ]
    }
   ],
   "source": [
    "cv_results = xgb.cv(dtrain=dat, params=p,\n",
    "                    nfold=7,\n",
    "                    num_boost_round=5,\n",
    "                    metrics=\"merror\",\n",
    "                    verbose_eval=True,\n",
    "                    as_pandas=True)"
   ]
  },
  {
   "cell_type": "code",
   "execution_count": 38,
   "id": "7c4f3f89",
   "metadata": {},
   "outputs": [
    {
     "data": {
      "image/png": "[encoded data removed]",
      "text/plain": [
       "<Figure size 432x288 with 1 Axes>"
      ]
     },
     "metadata": {
      "needs_background": "light"
     },
     "output_type": "display_data"
    }
   ],
   "source": [
    "import operator\n",
    "\n",
    "importance = dict(reversed(sorted(mxgb.get_score().items(), key=operator.itemgetter(1))))\n",
    "\n",
    "# clear old visualizations\n",
    "plt.close('all')\n",
    "\n",
    "# visualize the points\n",
    "fig, ax = plt.subplots()\n",
    "plt.bar(list(importance.keys())[0:20], list(importance.values())[0:20])\n",
    "plt.show()"
   ]
  }
 ],
 "metadata": {
  "kernelspec": {
   "display_name": "Python 3 (ipykernel)",
   "language": "python",
   "name": "python3"
  },
  "language_info": {
   "codemirror_mode": {
    "name": "ipython",
    "version": 3
   },
   "file_extension": ".py",
   "mimetype": "text/x-python",
   "name": "python",
   "nbconvert_exporter": "python",
   "pygments_lexer": "ipython3",
   "version": "3.10.1"
  }
 },
 "nbformat": 4,
 "nbformat_minor": 5
}
