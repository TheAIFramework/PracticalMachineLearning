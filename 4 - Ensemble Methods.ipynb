{
 "cells": [
  {
   "cell_type": "markdown",
   "id": "03849d6c",
   "metadata": {},
   "source": [
    "# Introduction\n",
    "\n",
    "In the class of machine learning approaches that are based on tree-like decision makers, many improved algorithms have been developed over the past two decades. We will go through three noteworthy designs that build on the idea of ensembles. The general idea is to train multiple models and combine them in various ways to improve performance.\n",
    "\n",
    "There are two primary ways of doing this when it comes to decision trees. The first is to average the output of multiple trees which limits the variance of the output given the central limit theorem. The second way is to build trees in sequence and use the output of each one to reduce the bias in the next one."
   ]
  },
  {
   "cell_type": "markdown",
   "id": "b4333016",
   "metadata": {},
   "source": [
    "# Bagging Regressor\n",
    "A Bagging model works by dividing a dataset, training one tree per subset, and averaging the results. There are variants of the Bagging approach with distinct names determined by how the data is divided (i.e. Pasting, Bagging, Random Subspaces, Random Patches, etc...)."
   ]
  },
  {
   "cell_type": "code",
   "execution_count": 12,
   "id": "1087c396",
   "metadata": {},
   "outputs": [],
   "source": [
    "import pandas as pd\n",
    "import numpy as np\n",
    "import matplotlib.pyplot as plt\n",
    "\n",
    "from sklearn.tree import DecisionTreeClassifier\n",
    "from sklearn.ensemble import BaggingClassifier\n",
    "from sklearn.ensemble import RandomForestClassifier\n",
    "\n",
    "from sklearn.preprocessing import label_binarize\n",
    "from sklearn.metrics import accuracy_score, confusion_matrix, roc_curve, auc\n",
    "from sklearn.model_selection import train_test_split\n",
    "\n",
    "from sklearn.datasets import fetch_covtype"
   ]
  },
  {
   "cell_type": "code",
   "execution_count": 13,
   "id": "96c0f003",
   "metadata": {},
   "outputs": [
    {
     "name": "stdout",
     "output_type": "stream",
     "text": [
      ".. _covtype_dataset:\n",
      "\n",
      "Forest covertypes\n",
      "-----------------\n",
      "\n",
      "The samples in this dataset correspond to 30×30m patches of forest in the US,\n",
      "collected for the task of predicting each patch's cover type,\n",
      "i.e. the dominant species of tree.\n",
      "There are seven covertypes, making this a multiclass classification problem.\n",
      "Each sample has 54 features, described on the\n",
      "`dataset's homepage <https://archive.ics.uci.edu/ml/datasets/Covertype>`__.\n",
      "Some of the features are boolean indicators,\n",
      "while others are discrete or continuous measurements.\n",
      "\n",
      "**Data Set Characteristics:**\n",
      "\n",
      "    =================   ============\n",
      "    Classes                        7\n",
      "    Samples total             581012\n",
      "    Dimensionality                54\n",
      "    Features                     int\n",
      "    =================   ============\n",
      "\n",
      ":func:`sklearn.datasets.fetch_covtype` will load the covertype dataset;\n",
      "it returns a dictionary-like 'Bunch' object\n",
      "with the feature matrix in the ``data`` member\n",
      "and the target values in ``target``. If optional argument 'as_frame' is\n",
      "set to 'True', it will return ``data`` and ``target`` as pandas\n",
      "data frame, and there will be an additional member ``frame`` as well.\n",
      "The dataset will be downloaded from the web if necessary.\n",
      "\n"
     ]
    }
   ],
   "source": [
    "# covtype is a moderately complex \"real world\" dataset\n",
    "# it might take a minute to download the dataset\n",
    "\n",
    "covtype = fetch_covtype()\n",
    "\n",
    "# Let's split it \n",
    "x, xt, y, yt = train_test_split(covtype.data, covtype.target, test_size = 0.20)\n",
    "\n",
    "print(covtype.DESCR)"
   ]
  },
  {
   "cell_type": "code",
   "execution_count": 14,
   "id": "769dc43f",
   "metadata": {},
   "outputs": [],
   "source": [
    "c = fetch_covtype(as_frame=True)"
   ]
  },
  {
   "cell_type": "code",
   "execution_count": 15,
   "id": "f071bc58",
   "metadata": {},
   "outputs": [
    {
     "data": {
      "text/html": [
       "<div>\n",
       "<style scoped>\n",
       "    .dataframe tbody tr th:only-of-type {\n",
       "        vertical-align: middle;\n",
       "    }\n",
       "\n",
       "    .dataframe tbody tr th {\n",
       "        vertical-align: top;\n",
       "    }\n",
       "\n",
       "    .dataframe thead th {\n",
       "        text-align: right;\n",
       "    }\n",
       "</style>\n",
       "<table border=\"1\" class=\"dataframe\">\n",
       "  <thead>\n",
       "    <tr style=\"text-align: right;\">\n",
       "      <th></th>\n",
       "      <th>Elevation</th>\n",
       "      <th>Aspect</th>\n",
       "      <th>Slope</th>\n",
       "      <th>Horizontal_Distance_To_Hydrology</th>\n",
       "      <th>Vertical_Distance_To_Hydrology</th>\n",
       "      <th>Horizontal_Distance_To_Roadways</th>\n",
       "      <th>Hillshade_9am</th>\n",
       "      <th>Hillshade_Noon</th>\n",
       "      <th>Hillshade_3pm</th>\n",
       "      <th>Horizontal_Distance_To_Fire_Points</th>\n",
       "      <th>...</th>\n",
       "      <th>Soil_Type_30</th>\n",
       "      <th>Soil_Type_31</th>\n",
       "      <th>Soil_Type_32</th>\n",
       "      <th>Soil_Type_33</th>\n",
       "      <th>Soil_Type_34</th>\n",
       "      <th>Soil_Type_35</th>\n",
       "      <th>Soil_Type_36</th>\n",
       "      <th>Soil_Type_37</th>\n",
       "      <th>Soil_Type_38</th>\n",
       "      <th>Soil_Type_39</th>\n",
       "    </tr>\n",
       "  </thead>\n",
       "  <tbody>\n",
       "    <tr>\n",
       "      <th>0</th>\n",
       "      <td>2596.0</td>\n",
       "      <td>51.0</td>\n",
       "      <td>3.0</td>\n",
       "      <td>258.0</td>\n",
       "      <td>0.0</td>\n",
       "      <td>510.0</td>\n",
       "      <td>221.0</td>\n",
       "      <td>232.0</td>\n",
       "      <td>148.0</td>\n",
       "      <td>6279.0</td>\n",
       "      <td>...</td>\n",
       "      <td>0.0</td>\n",
       "      <td>0.0</td>\n",
       "      <td>0.0</td>\n",
       "      <td>0.0</td>\n",
       "      <td>0.0</td>\n",
       "      <td>0.0</td>\n",
       "      <td>0.0</td>\n",
       "      <td>0.0</td>\n",
       "      <td>0.0</td>\n",
       "      <td>0.0</td>\n",
       "    </tr>\n",
       "    <tr>\n",
       "      <th>1</th>\n",
       "      <td>2590.0</td>\n",
       "      <td>56.0</td>\n",
       "      <td>2.0</td>\n",
       "      <td>212.0</td>\n",
       "      <td>-6.0</td>\n",
       "      <td>390.0</td>\n",
       "      <td>220.0</td>\n",
       "      <td>235.0</td>\n",
       "      <td>151.0</td>\n",
       "      <td>6225.0</td>\n",
       "      <td>...</td>\n",
       "      <td>0.0</td>\n",
       "      <td>0.0</td>\n",
       "      <td>0.0</td>\n",
       "      <td>0.0</td>\n",
       "      <td>0.0</td>\n",
       "      <td>0.0</td>\n",
       "      <td>0.0</td>\n",
       "      <td>0.0</td>\n",
       "      <td>0.0</td>\n",
       "      <td>0.0</td>\n",
       "    </tr>\n",
       "    <tr>\n",
       "      <th>2</th>\n",
       "      <td>2804.0</td>\n",
       "      <td>139.0</td>\n",
       "      <td>9.0</td>\n",
       "      <td>268.0</td>\n",
       "      <td>65.0</td>\n",
       "      <td>3180.0</td>\n",
       "      <td>234.0</td>\n",
       "      <td>238.0</td>\n",
       "      <td>135.0</td>\n",
       "      <td>6121.0</td>\n",
       "      <td>...</td>\n",
       "      <td>0.0</td>\n",
       "      <td>0.0</td>\n",
       "      <td>0.0</td>\n",
       "      <td>0.0</td>\n",
       "      <td>0.0</td>\n",
       "      <td>0.0</td>\n",
       "      <td>0.0</td>\n",
       "      <td>0.0</td>\n",
       "      <td>0.0</td>\n",
       "      <td>0.0</td>\n",
       "    </tr>\n",
       "    <tr>\n",
       "      <th>3</th>\n",
       "      <td>2785.0</td>\n",
       "      <td>155.0</td>\n",
       "      <td>18.0</td>\n",
       "      <td>242.0</td>\n",
       "      <td>118.0</td>\n",
       "      <td>3090.0</td>\n",
       "      <td>238.0</td>\n",
       "      <td>238.0</td>\n",
       "      <td>122.0</td>\n",
       "      <td>6211.0</td>\n",
       "      <td>...</td>\n",
       "      <td>0.0</td>\n",
       "      <td>0.0</td>\n",
       "      <td>0.0</td>\n",
       "      <td>0.0</td>\n",
       "      <td>0.0</td>\n",
       "      <td>0.0</td>\n",
       "      <td>0.0</td>\n",
       "      <td>0.0</td>\n",
       "      <td>0.0</td>\n",
       "      <td>0.0</td>\n",
       "    </tr>\n",
       "    <tr>\n",
       "      <th>4</th>\n",
       "      <td>2595.0</td>\n",
       "      <td>45.0</td>\n",
       "      <td>2.0</td>\n",
       "      <td>153.0</td>\n",
       "      <td>-1.0</td>\n",
       "      <td>391.0</td>\n",
       "      <td>220.0</td>\n",
       "      <td>234.0</td>\n",
       "      <td>150.0</td>\n",
       "      <td>6172.0</td>\n",
       "      <td>...</td>\n",
       "      <td>0.0</td>\n",
       "      <td>0.0</td>\n",
       "      <td>0.0</td>\n",
       "      <td>0.0</td>\n",
       "      <td>0.0</td>\n",
       "      <td>0.0</td>\n",
       "      <td>0.0</td>\n",
       "      <td>0.0</td>\n",
       "      <td>0.0</td>\n",
       "      <td>0.0</td>\n",
       "    </tr>\n",
       "    <tr>\n",
       "      <th>...</th>\n",
       "      <td>...</td>\n",
       "      <td>...</td>\n",
       "      <td>...</td>\n",
       "      <td>...</td>\n",
       "      <td>...</td>\n",
       "      <td>...</td>\n",
       "      <td>...</td>\n",
       "      <td>...</td>\n",
       "      <td>...</td>\n",
       "      <td>...</td>\n",
       "      <td>...</td>\n",
       "      <td>...</td>\n",
       "      <td>...</td>\n",
       "      <td>...</td>\n",
       "      <td>...</td>\n",
       "      <td>...</td>\n",
       "      <td>...</td>\n",
       "      <td>...</td>\n",
       "      <td>...</td>\n",
       "      <td>...</td>\n",
       "      <td>...</td>\n",
       "    </tr>\n",
       "    <tr>\n",
       "      <th>581007</th>\n",
       "      <td>2396.0</td>\n",
       "      <td>153.0</td>\n",
       "      <td>20.0</td>\n",
       "      <td>85.0</td>\n",
       "      <td>17.0</td>\n",
       "      <td>108.0</td>\n",
       "      <td>240.0</td>\n",
       "      <td>237.0</td>\n",
       "      <td>118.0</td>\n",
       "      <td>837.0</td>\n",
       "      <td>...</td>\n",
       "      <td>0.0</td>\n",
       "      <td>0.0</td>\n",
       "      <td>0.0</td>\n",
       "      <td>0.0</td>\n",
       "      <td>0.0</td>\n",
       "      <td>0.0</td>\n",
       "      <td>0.0</td>\n",
       "      <td>0.0</td>\n",
       "      <td>0.0</td>\n",
       "      <td>0.0</td>\n",
       "    </tr>\n",
       "    <tr>\n",
       "      <th>581008</th>\n",
       "      <td>2391.0</td>\n",
       "      <td>152.0</td>\n",
       "      <td>19.0</td>\n",
       "      <td>67.0</td>\n",
       "      <td>12.0</td>\n",
       "      <td>95.0</td>\n",
       "      <td>240.0</td>\n",
       "      <td>237.0</td>\n",
       "      <td>119.0</td>\n",
       "      <td>845.0</td>\n",
       "      <td>...</td>\n",
       "      <td>0.0</td>\n",
       "      <td>0.0</td>\n",
       "      <td>0.0</td>\n",
       "      <td>0.0</td>\n",
       "      <td>0.0</td>\n",
       "      <td>0.0</td>\n",
       "      <td>0.0</td>\n",
       "      <td>0.0</td>\n",
       "      <td>0.0</td>\n",
       "      <td>0.0</td>\n",
       "    </tr>\n",
       "    <tr>\n",
       "      <th>581009</th>\n",
       "      <td>2386.0</td>\n",
       "      <td>159.0</td>\n",
       "      <td>17.0</td>\n",
       "      <td>60.0</td>\n",
       "      <td>7.0</td>\n",
       "      <td>90.0</td>\n",
       "      <td>236.0</td>\n",
       "      <td>241.0</td>\n",
       "      <td>130.0</td>\n",
       "      <td>854.0</td>\n",
       "      <td>...</td>\n",
       "      <td>0.0</td>\n",
       "      <td>0.0</td>\n",
       "      <td>0.0</td>\n",
       "      <td>0.0</td>\n",
       "      <td>0.0</td>\n",
       "      <td>0.0</td>\n",
       "      <td>0.0</td>\n",
       "      <td>0.0</td>\n",
       "      <td>0.0</td>\n",
       "      <td>0.0</td>\n",
       "    </tr>\n",
       "    <tr>\n",
       "      <th>581010</th>\n",
       "      <td>2384.0</td>\n",
       "      <td>170.0</td>\n",
       "      <td>15.0</td>\n",
       "      <td>60.0</td>\n",
       "      <td>5.0</td>\n",
       "      <td>90.0</td>\n",
       "      <td>230.0</td>\n",
       "      <td>245.0</td>\n",
       "      <td>143.0</td>\n",
       "      <td>864.0</td>\n",
       "      <td>...</td>\n",
       "      <td>0.0</td>\n",
       "      <td>0.0</td>\n",
       "      <td>0.0</td>\n",
       "      <td>0.0</td>\n",
       "      <td>0.0</td>\n",
       "      <td>0.0</td>\n",
       "      <td>0.0</td>\n",
       "      <td>0.0</td>\n",
       "      <td>0.0</td>\n",
       "      <td>0.0</td>\n",
       "    </tr>\n",
       "    <tr>\n",
       "      <th>581011</th>\n",
       "      <td>2383.0</td>\n",
       "      <td>165.0</td>\n",
       "      <td>13.0</td>\n",
       "      <td>60.0</td>\n",
       "      <td>4.0</td>\n",
       "      <td>67.0</td>\n",
       "      <td>231.0</td>\n",
       "      <td>244.0</td>\n",
       "      <td>141.0</td>\n",
       "      <td>875.0</td>\n",
       "      <td>...</td>\n",
       "      <td>0.0</td>\n",
       "      <td>0.0</td>\n",
       "      <td>0.0</td>\n",
       "      <td>0.0</td>\n",
       "      <td>0.0</td>\n",
       "      <td>0.0</td>\n",
       "      <td>0.0</td>\n",
       "      <td>0.0</td>\n",
       "      <td>0.0</td>\n",
       "      <td>0.0</td>\n",
       "    </tr>\n",
       "  </tbody>\n",
       "</table>\n",
       "<p>581012 rows × 54 columns</p>\n",
       "</div>"
      ],
      "text/plain": [
       "        Elevation  Aspect  Slope  Horizontal_Distance_To_Hydrology  \\\n",
       "0          2596.0    51.0    3.0                             258.0   \n",
       "1          2590.0    56.0    2.0                             212.0   \n",
       "2          2804.0   139.0    9.0                             268.0   \n",
       "3          2785.0   155.0   18.0                             242.0   \n",
       "4          2595.0    45.0    2.0                             153.0   \n",
       "...           ...     ...    ...                               ...   \n",
       "581007     2396.0   153.0   20.0                              85.0   \n",
       "581008     2391.0   152.0   19.0                              67.0   \n",
       "581009     2386.0   159.0   17.0                              60.0   \n",
       "581010     2384.0   170.0   15.0                              60.0   \n",
       "581011     2383.0   165.0   13.0                              60.0   \n",
       "\n",
       "        Vertical_Distance_To_Hydrology  Horizontal_Distance_To_Roadways  \\\n",
       "0                                  0.0                            510.0   \n",
       "1                                 -6.0                            390.0   \n",
       "2                                 65.0                           3180.0   \n",
       "3                                118.0                           3090.0   \n",
       "4                                 -1.0                            391.0   \n",
       "...                                ...                              ...   \n",
       "581007                            17.0                            108.0   \n",
       "581008                            12.0                             95.0   \n",
       "581009                             7.0                             90.0   \n",
       "581010                             5.0                             90.0   \n",
       "581011                             4.0                             67.0   \n",
       "\n",
       "        Hillshade_9am  Hillshade_Noon  Hillshade_3pm  \\\n",
       "0               221.0           232.0          148.0   \n",
       "1               220.0           235.0          151.0   \n",
       "2               234.0           238.0          135.0   \n",
       "3               238.0           238.0          122.0   \n",
       "4               220.0           234.0          150.0   \n",
       "...               ...             ...            ...   \n",
       "581007          240.0           237.0          118.0   \n",
       "581008          240.0           237.0          119.0   \n",
       "581009          236.0           241.0          130.0   \n",
       "581010          230.0           245.0          143.0   \n",
       "581011          231.0           244.0          141.0   \n",
       "\n",
       "        Horizontal_Distance_To_Fire_Points  ...  Soil_Type_30  Soil_Type_31  \\\n",
       "0                                   6279.0  ...           0.0           0.0   \n",
       "1                                   6225.0  ...           0.0           0.0   \n",
       "2                                   6121.0  ...           0.0           0.0   \n",
       "3                                   6211.0  ...           0.0           0.0   \n",
       "4                                   6172.0  ...           0.0           0.0   \n",
       "...                                    ...  ...           ...           ...   \n",
       "581007                               837.0  ...           0.0           0.0   \n",
       "581008                               845.0  ...           0.0           0.0   \n",
       "581009                               854.0  ...           0.0           0.0   \n",
       "581010                               864.0  ...           0.0           0.0   \n",
       "581011                               875.0  ...           0.0           0.0   \n",
       "\n",
       "        Soil_Type_32  Soil_Type_33  Soil_Type_34  Soil_Type_35  Soil_Type_36  \\\n",
       "0                0.0           0.0           0.0           0.0           0.0   \n",
       "1                0.0           0.0           0.0           0.0           0.0   \n",
       "2                0.0           0.0           0.0           0.0           0.0   \n",
       "3                0.0           0.0           0.0           0.0           0.0   \n",
       "4                0.0           0.0           0.0           0.0           0.0   \n",
       "...              ...           ...           ...           ...           ...   \n",
       "581007           0.0           0.0           0.0           0.0           0.0   \n",
       "581008           0.0           0.0           0.0           0.0           0.0   \n",
       "581009           0.0           0.0           0.0           0.0           0.0   \n",
       "581010           0.0           0.0           0.0           0.0           0.0   \n",
       "581011           0.0           0.0           0.0           0.0           0.0   \n",
       "\n",
       "        Soil_Type_37  Soil_Type_38  Soil_Type_39  \n",
       "0                0.0           0.0           0.0  \n",
       "1                0.0           0.0           0.0  \n",
       "2                0.0           0.0           0.0  \n",
       "3                0.0           0.0           0.0  \n",
       "4                0.0           0.0           0.0  \n",
       "...              ...           ...           ...  \n",
       "581007           0.0           0.0           0.0  \n",
       "581008           0.0           0.0           0.0  \n",
       "581009           0.0           0.0           0.0  \n",
       "581010           0.0           0.0           0.0  \n",
       "581011           0.0           0.0           0.0  \n",
       "\n",
       "[581012 rows x 54 columns]"
      ]
     },
     "execution_count": 15,
     "metadata": {},
     "output_type": "execute_result"
    }
   ],
   "source": [
    "c.data\n"
   ]
  },
  {
   "cell_type": "code",
   "execution_count": 17,
   "id": "99295a96",
   "metadata": {
    "scrolled": false
   },
   "outputs": [
    {
     "data": {
      "text/plain": [
       "0.8505116046917893"
      ]
     },
     "execution_count": 17,
     "metadata": {},
     "output_type": "execute_result"
    }
   ],
   "source": [
    "# now that datasets are bigger, training takes marginally longer\n",
    "# we will intentionally restrict depth to make differences more apparent\n",
    "\n",
    "m = DecisionTreeClassifier(max_depth=15)\n",
    "\n",
    "m.fit(x, y)\n",
    "\n",
    "ŷ = m.predict(xt)\n",
    "accuracy_score(yt, ŷ)"
   ]
  },
  {
   "cell_type": "code",
   "execution_count": 18,
   "id": "9770649e",
   "metadata": {},
   "outputs": [
    {
     "data": {
      "text/plain": [
       "array([[34617,  7559,     0,     0,    18,    10,   226],\n",
       "       [ 4762, 51234,   228,     0,   101,   226,    22],\n",
       "       [    5,   422,  6131,    46,     8,   471,     0],\n",
       "       [    0,     0,   114,   425,     0,    34,     0],\n",
       "       [   57,  1062,    30,     0,   722,     3,     0],\n",
       "       [    4,   675,   602,    20,     2,  2189,     0],\n",
       "       [  593,    71,     0,     0,     0,     0,  3514]])"
      ]
     },
     "execution_count": 18,
     "metadata": {},
     "output_type": "execute_result"
    }
   ],
   "source": [
    "confusion_matrix(yt, ŷ)"
   ]
  },
  {
   "cell_type": "code",
   "execution_count": 11,
   "id": "ac2b2084",
   "metadata": {},
   "outputs": [
    {
     "data": {
      "text/plain": [
       "Text(0.5, 1.0, 'Mean AUC 0.85')"
      ]
     },
     "execution_count": 11,
     "metadata": {},
     "output_type": "execute_result"
    },
    {
     "data": {
      "image/png": "[encoded data removed]",
      "text/plain": [
       "<Figure size 432x288 with 1 Axes>"
      ]
     },
     "metadata": {
      "needs_background": "light"
     },
     "output_type": "display_data"
    }
   ],
   "source": [
    "# compute ROC curves for each class and plot them\n",
    "\n",
    "plt.close('all')\n",
    "\n",
    "ytb = label_binarize(yt, classes=np.union1d(y, yt))\n",
    "ŷb = label_binarize(ŷ, classes=np.union1d(y, yt))\n",
    "\n",
    "fig, ax = plt.subplots()\n",
    "area = []\n",
    "for i in range(len(np.union1d(y, yt))):\n",
    "    fpr, tpr, _ = roc_curve(ytb[:,i], ŷb[:,i])\n",
    "    a = auc(fpr, tpr)\n",
    "    area.append(a)\n",
    "    plt.plot(fpr, tpr, label='AUC %0.2f' % a)\n",
    "\n",
    "plt.legend(loc=\"lower right\")\n",
    "plt.title(\"Mean AUC %0.2f\" % np.mean(area))"
   ]
  },
  {
   "cell_type": "code",
   "execution_count": 19,
   "id": "2b337a0a",
   "metadata": {},
   "outputs": [
    {
     "name": "stderr",
     "output_type": "stream",
     "text": [
      "[Parallel(n_jobs=8)]: Using backend LokyBackend with 8 concurrent workers.\n",
      "[Parallel(n_jobs=8)]: Done   2 out of   8 | elapsed:   34.8s remaining:  1.7min\n",
      "[Parallel(n_jobs=8)]: Done   8 out of   8 | elapsed:   35.4s finished\n",
      "[Parallel(n_jobs=8)]: Using backend LokyBackend with 8 concurrent workers.\n",
      "[Parallel(n_jobs=8)]: Done   2 out of   8 | elapsed:    1.0s remaining:    3.1s\n",
      "[Parallel(n_jobs=8)]: Done   8 out of   8 | elapsed:    1.2s finished\n"
     ]
    },
    {
     "data": {
      "text/plain": [
       "0.8849427295336609"
      ]
     },
     "execution_count": 19,
     "metadata": {},
     "output_type": "execute_result"
    }
   ],
   "source": [
    "# we are training the same tree but using bagging\n",
    "# set the number of estimators to the number of CPUs on your computer\n",
    "\n",
    "mb = BaggingClassifier(base_estimator=DecisionTreeClassifier(max_depth=15),\n",
    "                       n_estimators=32,\n",
    "                       verbose=1,\n",
    "                       n_jobs=-1)\n",
    "\n",
    "mb.fit(x, y)\n",
    "\n",
    "ŷ = mb.predict(xt)\n",
    "accuracy_score(yt, ŷ)"
   ]
  },
  {
   "cell_type": "code",
   "execution_count": 7,
   "id": "b2200202",
   "metadata": {},
   "outputs": [
    {
     "data": {
      "text/plain": [
       "Text(0.5, 1.0, 'Mean AUC 0.87')"
      ]
     },
     "execution_count": 7,
     "metadata": {},
     "output_type": "execute_result"
    },
    {
     "data": {
      "image/png": "[encoded data removed]",
      "text/plain": [
       "<Figure size 432x288 with 1 Axes>"
      ]
     },
     "metadata": {
      "needs_background": "light"
     },
     "output_type": "display_data"
    }
   ],
   "source": [
    "# compute ROC curves for each class and plot them\n",
    "\n",
    "plt.close('all')\n",
    "\n",
    "ytb = label_binarize(yt, classes=np.union1d(y, yt))\n",
    "ŷb = label_binarize(ŷ, classes=np.union1d(y, yt))\n",
    "\n",
    "fig, ax = plt.subplots()\n",
    "area = []\n",
    "for i in range(len(np.union1d(y, yt))):\n",
    "    fpr, tpr, _ = roc_curve(ytb[:,i], ŷb[:,i])\n",
    "    a = auc(fpr, tpr)\n",
    "    area.append(a)\n",
    "    plt.plot(fpr, tpr, label='AUC %0.2f' % a)\n",
    "\n",
    "plt.legend(loc=\"lower right\")\n",
    "plt.title(\"Mean AUC %0.2f\" % np.mean(area))"
   ]
  },
  {
   "cell_type": "markdown",
   "id": "68d7e3b7",
   "metadata": {},
   "source": [
    "# Random Forest\n",
    "In random forests each tree in the ensemble is built from a sample drawn with replacement (i.e., a bootstrap sample) from the training set. Furthermore, when splitting each node during the construction of a tree, the best split is found either from all input features or a random subset."
   ]
  },
  {
   "cell_type": "markdown",
   "id": "3e4cd367",
   "metadata": {},
   "source": [
    "Random forest is a supervised machine learning algorithm used to solve classification as well as regression problems. It is a type of ensemble learning technique in which multiple decision trees are created from the training dataset and the majority output from them is considered as the final output.\n",
    "\n",
    "Random forest is a very popular technique due to its simplicity and ability to produce robust results.\n",
    "\n",
    "How Random Forest Works Random Forest works on the Bootstrap Aggregation (Bagging) technique of Ensemble learning –\n",
    "\n",
    "Here, first of all, multiple training data is created by sampling data from the training set which is known as bootstrapping or bagging.\n",
    "\n",
    "For example, if we have a data set (a,b,c,d,e,f,g,h,i,j) then the following training set can be obtained with bootstrap –\n",
    "\n",
    "(a,f,d,j,h,c) (b,g,a,i,c,f) (i,d,c,e,a,d) (b,h,g,h,a,b)\n",
    "\n",
    "You may notice here that the same data can appear multiple times across the training sets because we are doing random sampling with replacement.\n",
    "\n",
    "ii) The leftover training data that has not been added in the bootstrapped data can be used to find the random forest accuracy. This is called the out-of-bag-datasets.\n",
    "\n",
    "iii) Next, multiple decision trees are trained on each of these datasets. Instead of taking all features, we can add more variation by randomly selecting some features of the dataset for each of the decision trees.\n",
    "\n",
    "iv) The output of each decision tree is aggregated to produce the final output. For classification, the aggregation is done by choosing the majority vote from the decision trees for classification. In the case of regression, the aggregation can be done by averaging the outputs from all the decision trees.\n",
    "\n",
    "e.g. if 9 decision trees are created for the random forest classifier, and 6 of them classify the outputs as class 1 and the remaining 3 classify output as class 0, then the final classification will be chosen as class 1, based on the maximum vote it got."
   ]
  },
  {
   "cell_type": "markdown",
   "id": "6ff24b6b",
   "metadata": {},
   "source": [
    "Advantages of Random Forest Some of the advantages of random forest are listed below.\n",
    "\n",
    "Random forests have much higher accuracy than the single decision tree. It has low bias and low variance. Can be used for both classification and regression. Handel missing values very well and gives a good accuracy on missing values dataset. Due to its randomness doesn’t overfit the model, thus gives a good prediction on unseen datasets. Large datasets having high dimensionality can be handled using random forest. Disadvantages of Radom Forest There are several disadvantages of using a random forest. Some of them are listed below.\n",
    "\n",
    "The random forest needs good computational resources to train them efficiently. At times random forest regression fails to produce accurate results. It behaves like a black box where we don’t have much control over the output it produces as it lacks interpretability."
   ]
  },
  {
   "cell_type": "markdown",
   "id": "f55c4828",
   "metadata": {},
   "source": [
    "## In scikit learn we have three options\n",
    "\n",
    "In random forests (see RandomForestClassifier and RandomForestRegressor classes), each tree in the ensemble is built from a sample drawn with replacement (i.e., a bootstrap sample) from the training set.\n",
    "\n",
    "Furthermore, when splitting each node during the construction of a tree, the best split is found either from all input features or a random subset of size max_features. (See the parameter tuning guidelines for more details).\n",
    "\n",
    "The purpose of these two sources of randomness is to decrease the variance of the forest estimator. Indeed, individual decision trees typically exhibit high variance and tend to overfit. The injected randomness in forests yield decision trees with somewhat decoupled prediction errors. By taking an average of those predictions, some errors can cancel out. Random forests achieve a reduced variance by combining diverse trees, sometimes at the cost of a slight increase in bias. In practice the variance reduction is often significant hence yielding an overall better model.\n",
    "\n",
    "In contrast to the original publication [B2001], the scikit-learn implementation combines classifiers by averaging their probabilistic prediction, instead of letting each classifier vote for a single class.\n",
    "\n",
    "In extremely randomized trees (see ExtraTreesClassifier and ExtraTreesRegressor classes), randomness goes one step further in the way splits are computed. As in random forests, a random subset of candidate features is used, but instead of looking for the most discriminative thresholds, thresholds are drawn at random for each candidate feature and the best of these randomly-generated thresholds is picked as the splitting rule. This usually allows to reduce the variance of the model a bit more, at the expense of a slightly greater increase in bias:"
   ]
  },
  {
   "cell_type": "markdown",
   "id": "d9a760af",
   "metadata": {},
   "source": [
    "# Hyperparameter tuning\n",
    "\n",
    "n_estimators: It takes an integer value which represents the number of decision trees the algorithm builds. In general, a higher number of trees increases the performance and makes the predictions more stable, but it also slows down the computation. The default value of this parameter is 100.\n",
    "\n",
    "criterion: This is a tree-specific parameter. It takes either “Gini” or “entropy”. By default, it is “Gini”. It represents the quality of a split of the decision trees. Where “gini” is for the Gini impurity splitting method and entropy” for the information gain splitting method.\n",
    "\n",
    "max_features: It provides the maximum number of features to consider when looking for the best split. It takes either of {“auto”, “sqrt”, “log2”}, integer or float value. By default, it is “auto”\n",
    "n_features: It takes an integer value. It represents the number of features when the fit is performed.\n",
    "oob_score: It takes a boolean value. By default it is False. It decides whether to use out-of-bag samples to estimate the generalization accuracy.\n",
    "\n",
    "min_sample_leaf: It takes an integer or a floating value. By default, it is 1. This determines the minimum number of samples required to be at a leaf node. A split point at any depth will only be considered if its leaves are less than min_samples_leaf. If it is an integer, then it considers as the minimum number. Else it considers as a fraction and is the minimum number of samples for each node.\n",
    "\n",
    "n_jobs: It takes an integer value. By default it is none. It represents how many processors it is allowed to use. If it has a value of one, it can only use one processor. A value of “-1” means that using all processors available.\n",
    "random_state: The model will always produce the same results when it has a definite value of random_state and if it has been given the same hyperparameters and the same training data."
   ]
  },
  {
   "cell_type": "code",
   "execution_count": 20,
   "id": "04220cc0",
   "metadata": {},
   "outputs": [
    {
     "name": "stderr",
     "output_type": "stream",
     "text": [
      "[Parallel(n_jobs=-1)]: Using backend ThreadingBackend with 8 concurrent workers.\n",
      "[Parallel(n_jobs=-1)]: Done  32 out of  32 | elapsed:   32.8s finished\n",
      "[Parallel(n_jobs=8)]: Using backend ThreadingBackend with 8 concurrent workers.\n",
      "[Parallel(n_jobs=8)]: Done  32 out of  32 | elapsed:    0.1s finished\n"
     ]
    },
    {
     "data": {
      "text/plain": [
       "0.8822577730351195"
      ]
     },
     "execution_count": 20,
     "metadata": {},
     "output_type": "execute_result"
    }
   ],
   "source": [
    "# we need to set the maximum number of features explicitly \n",
    "# for a 1:1 comparison with DecisionTreeClassifier\n",
    "\n",
    "mrf = RandomForestClassifier(max_depth=15, max_features=54, n_estimators=32, verbose=1, n_jobs=-1)\n",
    "\n",
    "mrf.fit(x, y)\n",
    "\n",
    "ŷ = mrf.predict(xt)\n",
    "accuracy_score(yt, ŷ)"
   ]
  },
  {
   "cell_type": "code",
   "execution_count": 9,
   "id": "485585a9",
   "metadata": {},
   "outputs": [
    {
     "name": "stderr",
     "output_type": "stream",
     "text": [
      "[Parallel(n_jobs=-1)]: Using backend ThreadingBackend with 32 concurrent workers.\n",
      "[Parallel(n_jobs=-1)]: Done   2 out of  32 | elapsed:   10.0s remaining:  2.5min\n",
      "[Parallel(n_jobs=-1)]: Done  32 out of  32 | elapsed:   11.0s finished\n",
      "[Parallel(n_jobs=32)]: Using backend ThreadingBackend with 32 concurrent workers.\n",
      "[Parallel(n_jobs=32)]: Done   2 out of  32 | elapsed:    0.0s remaining:    0.8s\n",
      "[Parallel(n_jobs=32)]: Done  32 out of  32 | elapsed:    0.0s finished\n"
     ]
    },
    {
     "data": {
      "text/plain": [
       "0.9654483963408862"
      ]
     },
     "execution_count": 9,
     "metadata": {},
     "output_type": "execute_result"
    }
   ],
   "source": [
    "# A forest does not overfit as easily as a single tree so we can increase depth\n",
    "\n",
    "mrf = RandomForestClassifier(max_features=54, n_estimators=32, verbose=1, n_jobs=-1)\n",
    "\n",
    "mrf.fit(x, y)\n",
    "\n",
    "ŷ = mrf.predict(xt)\n",
    "accuracy_score(yt, ŷ)"
   ]
  },
  {
   "cell_type": "code",
   "execution_count": 10,
   "id": "76876d76",
   "metadata": {},
   "outputs": [
    {
     "name": "stderr",
     "output_type": "stream",
     "text": [
      "[Parallel(n_jobs=-1)]: Using backend ThreadingBackend with 32 concurrent workers.\n",
      "[Parallel(n_jobs=-1)]: Done  64 out of  64 | elapsed:   21.8s finished\n",
      "[Parallel(n_jobs=32)]: Using backend ThreadingBackend with 32 concurrent workers.\n",
      "[Parallel(n_jobs=32)]: Done  64 out of  64 | elapsed:    0.1s finished\n"
     ]
    },
    {
     "data": {
      "text/plain": [
       "0.9666617901431116"
      ]
     },
     "execution_count": 10,
     "metadata": {},
     "output_type": "execute_result"
    }
   ],
   "source": [
    "# Other parameter changes provide only marginal gains\n",
    "# Doubling the number of trees makes a negligible difference\n",
    "\n",
    "mrf = RandomForestClassifier(max_features=54, n_estimators=64, verbose=1, n_jobs=-1)\n",
    "\n",
    "mrf.fit(x, y)\n",
    "\n",
    "ŷ = mrf.predict(xt)\n",
    "accuracy_score(yt, ŷ)"
   ]
  },
  {
   "cell_type": "markdown",
   "id": "59ac2f73",
   "metadata": {},
   "source": [
    "# Gradient Tree Boosting"
   ]
  },
  {
   "cell_type": "markdown",
   "id": "df481566",
   "metadata": {},
   "source": [
    "https://xgboost.readthedocs.io/en/latest/python/python_api.html#xgboost.train\n",
    "Gradient boosting is an ensembling technique where several weak learners (regression trees) are combined to yield a powerful single model, in an iterative fashion.\n",
    "\n",
    "Early stopping support in Gradient Boosting enables us to find the least number of iterations which is sufficient to build a model that generalizes well to unseen data.\n",
    "\n",
    "The concept of early stopping is simple. We specify a validation_fraction which denotes the fraction of the whole dataset that will be kept aside from training to assess the validation loss of the model. The gradient boosting model is trained using the training set and evaluated using the validation set. When each additional stage of regression tree is added, the validation set is used to score the model. This is continued until the scores of the model in the last n_iter_no_change stages do not improve by at least tol. After that the model is considered to have converged and further addition of stages is “stopped early”.\n",
    "\n",
    "The number of stages of the final model is available at the attribute n_estimators_.\n",
    "\n",
    "This example illustrates how the early stopping can used in the GradientBoostingClassifier model to achieve almost the same accuracy as compared to a model built without early stopping using many fewer estimators. This can significantly reduce training time, memory usage and prediction latency."
   ]
  },
  {
   "cell_type": "code",
   "execution_count": 16,
   "id": "f927a770",
   "metadata": {},
   "outputs": [],
   "source": [
    "import xgboost as xgb"
   ]
  },
  {
   "cell_type": "code",
   "execution_count": 12,
   "id": "0410fb77",
   "metadata": {
    "scrolled": true
   },
   "outputs": [
    {
     "name": "stdout",
     "output_type": "stream",
     "text": [
      "[0]\ttrain-merror:0.10778\ttest-merror:0.12069\n",
      "[1]\ttrain-merror:0.09150\ttest-merror:0.10730\n",
      "[2]\ttrain-merror:0.07017\ttest-merror:0.09255\n",
      "[3]\ttrain-merror:0.05081\ttest-merror:0.07988\n",
      "[4]\ttrain-merror:0.03852\ttest-merror:0.07131\n",
      "[5]\ttrain-merror:0.02972\ttest-merror:0.06542\n",
      "[6]\ttrain-merror:0.02288\ttest-merror:0.06065\n",
      "[7]\ttrain-merror:0.01767\ttest-merror:0.05718\n",
      "[8]\ttrain-merror:0.01345\ttest-merror:0.05395\n",
      "[9]\ttrain-merror:0.01033\ttest-merror:0.05112\n",
      "[10]\ttrain-merror:0.00772\ttest-merror:0.04879\n",
      "[11]\ttrain-merror:0.00579\ttest-merror:0.04705\n",
      "[12]\ttrain-merror:0.00432\ttest-merror:0.04536\n",
      "[13]\ttrain-merror:0.00326\ttest-merror:0.04386\n",
      "[14]\ttrain-merror:0.00237\ttest-merror:0.04213\n",
      "[15]\ttrain-merror:0.00169\ttest-merror:0.04115\n",
      "[16]\ttrain-merror:0.00123\ttest-merror:0.03981\n",
      "[17]\ttrain-merror:0.00086\ttest-merror:0.03900\n",
      "[18]\ttrain-merror:0.00058\ttest-merror:0.03812\n",
      "[19]\ttrain-merror:0.00039\ttest-merror:0.03747\n",
      "[20]\ttrain-merror:0.00025\ttest-merror:0.03686\n",
      "[21]\ttrain-merror:0.00016\ttest-merror:0.03608\n",
      "[22]\ttrain-merror:0.00011\ttest-merror:0.03565\n",
      "[23]\ttrain-merror:0.00007\ttest-merror:0.03518\n",
      "[24]\ttrain-merror:0.00005\ttest-merror:0.03460\n",
      "[25]\ttrain-merror:0.00003\ttest-merror:0.03420\n",
      "[26]\ttrain-merror:0.00001\ttest-merror:0.03393\n",
      "[27]\ttrain-merror:0.00001\ttest-merror:0.03371\n",
      "[28]\ttrain-merror:0.00001\ttest-merror:0.03328\n",
      "[29]\ttrain-merror:0.00001\ttest-merror:0.03296\n",
      "[30]\ttrain-merror:0.00000\ttest-merror:0.03263\n",
      "[31]\ttrain-merror:0.00000\ttest-merror:0.03240\n",
      "[32]\ttrain-merror:0.00000\ttest-merror:0.03217\n",
      "[33]\ttrain-merror:0.00000\ttest-merror:0.03193\n",
      "[34]\ttrain-merror:0.00000\ttest-merror:0.03179\n",
      "[35]\ttrain-merror:0.00000\ttest-merror:0.03175\n",
      "[36]\ttrain-merror:0.00000\ttest-merror:0.03153\n",
      "[37]\ttrain-merror:0.00000\ttest-merror:0.03139\n",
      "[38]\ttrain-merror:0.00000\ttest-merror:0.03122\n",
      "[39]\ttrain-merror:0.00000\ttest-merror:0.03101\n",
      "[40]\ttrain-merror:0.00000\ttest-merror:0.03096\n",
      "[41]\ttrain-merror:0.00000\ttest-merror:0.03077\n",
      "[42]\ttrain-merror:0.00000\ttest-merror:0.03068\n",
      "[43]\ttrain-merror:0.00000\ttest-merror:0.03058\n",
      "[44]\ttrain-merror:0.00000\ttest-merror:0.03050\n",
      "[45]\ttrain-merror:0.00000\ttest-merror:0.03031\n",
      "[46]\ttrain-merror:0.00000\ttest-merror:0.03042\n",
      "[47]\ttrain-merror:0.00000\ttest-merror:0.03034\n",
      "[48]\ttrain-merror:0.00000\ttest-merror:0.03027\n",
      "[49]\ttrain-merror:0.00000\ttest-merror:0.03032\n"
     ]
    }
   ],
   "source": [
    "# since we're building a multiclass classifier we use softmax\n",
    "# this model will score about as well as the best Random Forest\n",
    "\n",
    "p = {'objective':'multi:softmax',\n",
    "     'eta':0.2,\n",
    "     'max_depth':30,\n",
    "     'num_class':54,\n",
    "     'eval_metric':'merror',\n",
    "     'nthread':'32'}\n",
    "\n",
    "# XGBoost wants the data serialized into a data structure called Dmatrix\n",
    "dat = xgb.DMatrix(x, label=y)\n",
    "datt = xgb.DMatrix(xt, label=yt)\n",
    "watch = [(dat, 'train'), (datt, 'test')]\n",
    "score = {}\n",
    "\n",
    "mxgb = xgb.train(p, dat, 50, watch, evals_result=score)"
   ]
  },
  {
   "cell_type": "code",
   "execution_count": 13,
   "id": "5df5a924",
   "metadata": {},
   "outputs": [
    {
     "data": {
      "image/png": "[encoded data removed]",
      "text/plain": [
       "<Figure size 432x288 with 1 Axes>"
      ]
     },
     "metadata": {
      "needs_background": "light"
     },
     "output_type": "display_data"
    }
   ],
   "source": [
    "plt.close('all')\n",
    "\n",
    "epoch = list(range(len(score['test']['merror'])))\n",
    "ŷ = mxgb.predict(datt)\n",
    "s = accuracy_score(yt, ŷ)\n",
    "\n",
    "plt.plot(epoch, score['test']['merror'], label='test')\n",
    "plt.title(\"Final Error %0.4f\" % s)\n",
    "plt.show()"
   ]
  },
  {
   "cell_type": "code",
   "execution_count": 14,
   "id": "f7599eae",
   "metadata": {},
   "outputs": [
    {
     "name": "stdout",
     "output_type": "stream",
     "text": [
      "[0]\ttrain-merror:0.11577+0.00165\ttest-merror:0.12936+0.00234\n",
      "[1]\ttrain-merror:0.09731+0.00147\ttest-merror:0.11532+0.00194\n",
      "[2]\ttrain-merror:0.07492+0.00068\ttest-merror:0.09895+0.00155\n",
      "[3]\ttrain-merror:0.05460+0.00032\ttest-merror:0.08527+0.00171\n",
      "[4]\ttrain-merror:0.04085+0.00045\ttest-merror:0.07593+0.00161\n"
     ]
    }
   ],
   "source": [
    "cv_results = xgb.cv(dtrain=dat, params=p,\n",
    "                    nfold=7,\n",
    "                    num_boost_round=5,\n",
    "                    metrics=\"merror\",\n",
    "                    verbose_eval=True,\n",
    "                    as_pandas=True)"
   ]
  },
  {
   "cell_type": "code",
   "execution_count": 38,
   "id": "e1c17029",
   "metadata": {},
   "outputs": [
    {
     "data": {
      "image/png": "[encoded data removed]",
      "text/plain": [
       "<Figure size 432x288 with 1 Axes>"
      ]
     },
     "metadata": {
      "needs_background": "light"
     },
     "output_type": "display_data"
    }
   ],
   "source": [
    "import operator\n",
    "\n",
    "importance = dict(reversed(sorted(mxgb.get_score().items(), key=operator.itemgetter(1))))\n",
    "\n",
    "# clear old visualizations\n",
    "plt.close('all')\n",
    "\n",
    "# visualize the points\n",
    "fig, ax = plt.subplots()\n",
    "plt.bar(list(importance.keys())[0:20], list(importance.values())[0:20])\n",
    "plt.show()"
   ]
  },
  {
   "cell_type": "code",
   "execution_count": 41,
   "id": "d935abc1",
   "metadata": {},
   "outputs": [],
   "source": [
    "# we can reduce the dataset by 80% and achieve a similar score\n",
    "\n",
    "x, xt, y, yt = train_test_split(covtype.data[:,[9,5,0,3,4,1,7,6,8,2]], covtype.target, test_size = 0.20)"
   ]
  },
  {
   "cell_type": "code",
   "execution_count": 42,
   "id": "cb96d6d7",
   "metadata": {
    "scrolled": true
   },
   "outputs": [
    {
     "name": "stdout",
     "output_type": "stream",
     "text": [
      "[0]\ttrain-merror:0.04798\ttest-merror:0.09080\n",
      "[1]\ttrain-merror:0.02670\ttest-merror:0.06837\n",
      "[2]\ttrain-merror:0.01724\ttest-merror:0.06008\n",
      "[3]\ttrain-merror:0.01217\ttest-merror:0.05469\n",
      "[4]\ttrain-merror:0.00863\ttest-merror:0.05145\n",
      "[5]\ttrain-merror:0.00643\ttest-merror:0.04928\n",
      "[6]\ttrain-merror:0.00488\ttest-merror:0.04703\n",
      "[7]\ttrain-merror:0.00360\ttest-merror:0.04545\n",
      "[8]\ttrain-merror:0.00272\ttest-merror:0.04398\n",
      "[9]\ttrain-merror:0.00202\ttest-merror:0.04270\n",
      "[10]\ttrain-merror:0.00148\ttest-merror:0.04159\n",
      "[11]\ttrain-merror:0.00108\ttest-merror:0.04088\n",
      "[12]\ttrain-merror:0.00080\ttest-merror:0.04019\n",
      "[13]\ttrain-merror:0.00059\ttest-merror:0.03952\n",
      "[14]\ttrain-merror:0.00044\ttest-merror:0.03889\n",
      "[15]\ttrain-merror:0.00032\ttest-merror:0.03833\n",
      "[16]\ttrain-merror:0.00024\ttest-merror:0.03800\n",
      "[17]\ttrain-merror:0.00019\ttest-merror:0.03738\n",
      "[18]\ttrain-merror:0.00013\ttest-merror:0.03681\n",
      "[19]\ttrain-merror:0.00011\ttest-merror:0.03651\n",
      "[20]\ttrain-merror:0.00009\ttest-merror:0.03607\n",
      "[21]\ttrain-merror:0.00007\ttest-merror:0.03573\n",
      "[22]\ttrain-merror:0.00004\ttest-merror:0.03527\n",
      "[23]\ttrain-merror:0.00003\ttest-merror:0.03512\n",
      "[24]\ttrain-merror:0.00002\ttest-merror:0.03479\n",
      "[25]\ttrain-merror:0.00002\ttest-merror:0.03460\n",
      "[26]\ttrain-merror:0.00002\ttest-merror:0.03445\n",
      "[27]\ttrain-merror:0.00001\ttest-merror:0.03406\n",
      "[28]\ttrain-merror:0.00001\ttest-merror:0.03382\n",
      "[29]\ttrain-merror:0.00001\ttest-merror:0.03369\n",
      "[30]\ttrain-merror:0.00000\ttest-merror:0.03350\n",
      "[31]\ttrain-merror:0.00000\ttest-merror:0.03337\n",
      "[32]\ttrain-merror:0.00000\ttest-merror:0.03318\n",
      "[33]\ttrain-merror:0.00000\ttest-merror:0.03302\n",
      "[34]\ttrain-merror:0.00000\ttest-merror:0.03290\n",
      "[35]\ttrain-merror:0.00000\ttest-merror:0.03298\n",
      "[36]\ttrain-merror:0.00000\ttest-merror:0.03275\n",
      "[37]\ttrain-merror:0.00000\ttest-merror:0.03267\n",
      "[38]\ttrain-merror:0.00000\ttest-merror:0.03266\n",
      "[39]\ttrain-merror:0.00000\ttest-merror:0.03250\n",
      "[40]\ttrain-merror:0.00000\ttest-merror:0.03237\n",
      "[41]\ttrain-merror:0.00000\ttest-merror:0.03230\n",
      "[42]\ttrain-merror:0.00000\ttest-merror:0.03217\n",
      "[43]\ttrain-merror:0.00000\ttest-merror:0.03213\n",
      "[44]\ttrain-merror:0.00000\ttest-merror:0.03208\n",
      "[45]\ttrain-merror:0.00000\ttest-merror:0.03207\n",
      "[46]\ttrain-merror:0.00000\ttest-merror:0.03201\n",
      "[47]\ttrain-merror:0.00000\ttest-merror:0.03200\n",
      "[48]\ttrain-merror:0.00000\ttest-merror:0.03182\n",
      "[49]\ttrain-merror:0.00000\ttest-merror:0.03181\n"
     ]
    }
   ],
   "source": [
    "p = {'objective':'multi:softmax',\n",
    "     'eta':0.2,\n",
    "     'max_depth':30,\n",
    "     'num_class':9,\n",
    "     'eval_metric':'merror',\n",
    "     'nthread':'32'}\n",
    "\n",
    "# XGBoost wants the data serialized into a data structure called Dmatrix\n",
    "dat = xgb.DMatrix(x, label=y)\n",
    "datt = xgb.DMatrix(xt, label=yt)\n",
    "watch = [(dat, 'train'), (datt, 'test')]\n",
    "score = {}\n",
    "\n",
    "mxgb = xgb.train(p, dat, 50, watch, evals_result=score)"
   ]
  },
  {
   "cell_type": "code",
   "execution_count": 45,
   "id": "e2093c6d",
   "metadata": {},
   "outputs": [
    {
     "data": {
      "text/plain": [
       "0.9681935922480487"
      ]
     },
     "execution_count": 45,
     "metadata": {},
     "output_type": "execute_result"
    }
   ],
   "source": [
    "ŷ = mxgb.predict(datt)\n",
    "accuracy_score(yt, ŷ)"
   ]
  }
 ],
 "metadata": {
  "kernelspec": {
   "display_name": "Python 3 (ipykernel)",
   "language": "python",
   "name": "python3"
  },
  "language_info": {
   "codemirror_mode": {
    "name": "ipython",
    "version": 3
   },
   "file_extension": ".py",
   "mimetype": "text/x-python",
   "name": "python",
   "nbconvert_exporter": "python",
   "pygments_lexer": "ipython3",
   "version": "3.9.7"
  }
 },
 "nbformat": 4,
 "nbformat_minor": 5
}
