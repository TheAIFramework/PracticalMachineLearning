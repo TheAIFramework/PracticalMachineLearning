{
 "cells": [
  {
   "cell_type": "markdown",
   "id": "7db70bb6",
   "metadata": {},
   "source": [
    "# Introduction\n",
    "\n",
    "In the class of machine learning approaches that are based on tree-like decision makers, many improved algorithms have been developed over the past two decades. We will go through three noteworthy designs that build on the idea of ensembles. The general idea is to train multiple models and combine them in various ways to improve performance.\n",
    "\n",
    "There are two primary ways of doing this when it comes to decision trees. The first is to average the output of multiple trees which limits the variance of the output given the central limit theorem. The second way is to build trees in sequence and use the output of each one to reduce the bias in the next one."
   ]
  },
  {
   "cell_type": "markdown",
   "id": "cf564aae",
   "metadata": {},
   "source": [
    "# Bagging Regressor\n",
    "A Bagging model works by dividing a dataset, training one tree per subset, and averaging the results. There are variants of the Bagging approach with distinct names determined by how the data is divided (i.e. Pasting, Bagging, Random Subspaces, Random Patches, etc...)."
   ]
  },
  {
   "cell_type": "code",
   "execution_count": 1,
   "id": "6299a89f",
   "metadata": {},
   "outputs": [],
   "source": [
    "import pandas as pd\n",
    "import numpy as np\n",
    "import matplotlib.pyplot as plt\n",
    "\n",
    "from sklearn.tree import DecisionTreeClassifier\n",
    "from sklearn.ensemble import BaggingClassifier\n",
    "from sklearn.ensemble import RandomForestClassifier\n",
    "\n",
    "from sklearn.preprocessing import label_binarize\n",
    "from sklearn.metrics import accuracy_score, confusion_matrix, roc_curve, auc\n",
    "from sklearn.model_selection import train_test_split\n",
    "\n",
    "from sklearn.datasets import fetch_covtype"
   ]
  },
  {
   "cell_type": "code",
   "execution_count": 2,
   "id": "38e8256f",
   "metadata": {},
   "outputs": [
    {
     "name": "stdout",
     "output_type": "stream",
     "text": [
      ".. _covtype_dataset:\n",
      "\n",
      "Forest covertypes\n",
      "-----------------\n",
      "\n",
      "The samples in this dataset correspond to 30×30m patches of forest in the US,\n",
      "collected for the task of predicting each patch's cover type,\n",
      "i.e. the dominant species of tree.\n",
      "There are seven covertypes, making this a multiclass classification problem.\n",
      "Each sample has 54 features, described on the\n",
      "`dataset's homepage <https://archive.ics.uci.edu/ml/datasets/Covertype>`__.\n",
      "Some of the features are boolean indicators,\n",
      "while others are discrete or continuous measurements.\n",
      "\n",
      "**Data Set Characteristics:**\n",
      "\n",
      "    =================   ============\n",
      "    Classes                        7\n",
      "    Samples total             581012\n",
      "    Dimensionality                54\n",
      "    Features                     int\n",
      "    =================   ============\n",
      "\n",
      ":func:`sklearn.datasets.fetch_covtype` will load the covertype dataset;\n",
      "it returns a dictionary-like 'Bunch' object\n",
      "with the feature matrix in the ``data`` member\n",
      "and the target values in ``target``. If optional argument 'as_frame' is\n",
      "set to 'True', it will return ``data`` and ``target`` as pandas\n",
      "data frame, and there will be an additional member ``frame`` as well.\n",
      "The dataset will be downloaded from the web if necessary.\n",
      "\n"
     ]
    }
   ],
   "source": [
    "# covtype is a moderately complex \"real world\" dataset\n",
    "# it might take a minute to download the dataset\n",
    "\n",
    "covtype = fetch_covtype()\n",
    "\n",
    "x, xt, y, yt = train_test_split(covtype.data, covtype.target, test_size = 0.20)\n",
    "\n",
    "print(covtype.DESCR)"
   ]
  },
  {
   "cell_type": "code",
   "execution_count": 3,
   "id": "b228e62e",
   "metadata": {
    "scrolled": false
   },
   "outputs": [
    {
     "data": {
      "text/plain": [
       "0.8550725884873884"
      ]
     },
     "execution_count": 3,
     "metadata": {},
     "output_type": "execute_result"
    }
   ],
   "source": [
    "# now that datasets are bigger, training takes marginally longer\n",
    "# we will intentionally restrict depth to make differences more apparent\n",
    "\n",
    "m = DecisionTreeClassifier(max_depth=15)\n",
    "\n",
    "m.fit(x, y)\n",
    "\n",
    "ŷ = m.predict(xt)\n",
    "accuracy_score(yt, ŷ)"
   ]
  },
  {
   "cell_type": "code",
   "execution_count": 4,
   "id": "2765fd3c",
   "metadata": {},
   "outputs": [
    {
     "data": {
      "text/plain": [
       "array([[35050,  7195,     0,     0,    35,    10,   233],\n",
       "       [ 4544, 51276,   240,     0,    73,   279,    29],\n",
       "       [    5,   445,  6094,    38,     5,   654,     0],\n",
       "       [    0,     2,    90,   402,     0,    54,     0],\n",
       "       [   39,  1154,    25,     0,   688,     2,     0],\n",
       "       [    4,   677,   445,    11,     3,  2285,     0],\n",
       "       [  489,    61,     0,     0,     0,     0,  3567]], dtype=int64)"
      ]
     },
     "execution_count": 4,
     "metadata": {},
     "output_type": "execute_result"
    }
   ],
   "source": [
    "confusion_matrix(yt, ŷ)"
   ]
  },
  {
   "cell_type": "code",
   "execution_count": 5,
   "id": "5f0f2abf",
   "metadata": {},
   "outputs": [
    {
     "data": {
      "text/plain": [
       "Text(0.5, 1.0, 'Mean AUC 0.85')"
      ]
     },
     "execution_count": 5,
     "metadata": {},
     "output_type": "execute_result"
    },
    {
     "data": {
      "image/png": "[encoded data removed]",
      "text/plain": [
       "<Figure size 432x288 with 1 Axes>"
      ]
     },
     "metadata": {
      "needs_background": "light"
     },
     "output_type": "display_data"
    }
   ],
   "source": [
    "# compute ROC curves for each class and plot them\n",
    "\n",
    "plt.close('all')\n",
    "\n",
    "ytb = label_binarize(yt, classes=np.union1d(y, yt))\n",
    "ŷb = label_binarize(ŷ, classes=np.union1d(y, yt))\n",
    "\n",
    "fig, ax = plt.subplots()\n",
    "area = []\n",
    "for i in range(len(np.union1d(y, yt))):\n",
    "    fpr, tpr, _ = roc_curve(ytb[:,i], ŷb[:,i])\n",
    "    a = auc(fpr, tpr)\n",
    "    area.append(a)\n",
    "    plt.plot(fpr, tpr, label='AUC %0.2f' % a)\n",
    "\n",
    "plt.legend(loc=\"lower right\")\n",
    "plt.title(\"Mean AUC %0.2f\" % np.mean(area))"
   ]
  },
  {
   "cell_type": "code",
   "execution_count": 6,
   "id": "d402db75",
   "metadata": {},
   "outputs": [
    {
     "name": "stderr",
     "output_type": "stream",
     "text": [
      "[Parallel(n_jobs=32)]: Using backend LokyBackend with 32 concurrent workers.\n",
      "[Parallel(n_jobs=32)]: Done   2 out of  32 | elapsed:   16.9s remaining:  4.2min\n",
      "[Parallel(n_jobs=32)]: Done  32 out of  32 | elapsed:   30.9s finished\n",
      "[Parallel(n_jobs=32)]: Using backend LokyBackend with 32 concurrent workers.\n",
      "[Parallel(n_jobs=32)]: Done   2 out of  32 | elapsed:    0.3s remaining:    5.7s\n",
      "[Parallel(n_jobs=32)]: Done  32 out of  32 | elapsed:    1.1s finished\n"
     ]
    },
    {
     "data": {
      "text/plain": [
       "0.8866552498644613"
      ]
     },
     "execution_count": 6,
     "metadata": {},
     "output_type": "execute_result"
    }
   ],
   "source": [
    "# we are training the same tree but using bagging\n",
    "# set the number of estimators to the number of CPUs on your computer\n",
    "\n",
    "mb = BaggingClassifier(base_estimator=DecisionTreeClassifier(max_depth=15),\n",
    "                       n_estimators=32,\n",
    "                       verbose=1,\n",
    "                       n_jobs=-1)\n",
    "\n",
    "mb.fit(x, y)\n",
    "\n",
    "ŷ = mb.predict(xt)\n",
    "accuracy_score(yt, ŷ)"
   ]
  },
  {
   "cell_type": "code",
   "execution_count": 7,
   "id": "8e62a89b",
   "metadata": {},
   "outputs": [
    {
     "data": {
      "text/plain": [
       "Text(0.5, 1.0, 'Mean AUC 0.88')"
      ]
     },
     "execution_count": 7,
     "metadata": {},
     "output_type": "execute_result"
    },
    {
     "data": {
      "image/png": "[encoded data removed]",
      "text/plain": [
       "<Figure size 432x288 with 1 Axes>"
      ]
     },
     "metadata": {
      "needs_background": "light"
     },
     "output_type": "display_data"
    }
   ],
   "source": [
    "# compute ROC curves for each class and plot them\n",
    "\n",
    "plt.close('all')\n",
    "\n",
    "ytb = label_binarize(yt, classes=np.union1d(y, yt))\n",
    "ŷb = label_binarize(ŷ, classes=np.union1d(y, yt))\n",
    "\n",
    "fig, ax = plt.subplots()\n",
    "area = []\n",
    "for i in range(len(np.union1d(y, yt))):\n",
    "    fpr, tpr, _ = roc_curve(ytb[:,i], ŷb[:,i])\n",
    "    a = auc(fpr, tpr)\n",
    "    area.append(a)\n",
    "    plt.plot(fpr, tpr, label='AUC %0.2f' % a)\n",
    "\n",
    "plt.legend(loc=\"lower right\")\n",
    "plt.title(\"Mean AUC %0.2f\" % np.mean(area))"
   ]
  },
  {
   "cell_type": "markdown",
   "id": "001858eb",
   "metadata": {},
   "source": [
    "# Random Forest\n",
    "In random forests (see RandomForestClassifier and RandomForestRegressor classes), each tree in the ensemble is built from a sample drawn with replacement (i.e., a bootstrap sample) from the training set.\n",
    "\n",
    "Furthermore, when splitting each node during the construction of a tree, the best split is found either from all input features or a random subset of size max_features. (See the parameter tuning guidelines for more details).\n",
    "\n",
    "The purpose of these two sources of randomness is to decrease the variance of the forest estimator. Indeed, individual decision trees typically exhibit high variance and tend to overfit. The injected randomness in forests yield decision trees with somewhat decoupled prediction errors. By taking an average of those predictions, some errors can cancel out. Random forests achieve a reduced variance by combining diverse trees, sometimes at the cost of a slight increase in bias. In practice the variance reduction is often significant hence yielding an overall better model.\n",
    "\n",
    "In contrast to the original publication [B2001], the scikit-learn implementation combines classifiers by averaging their probabilistic prediction, instead of letting each classifier vote for a single class."
   ]
  },
  {
   "cell_type": "markdown",
   "id": "e39f4e5f",
   "metadata": {},
   "source": [
    "The main parameters to adjust when using these methods is n_estimators and max_features. The former is the number of trees in the forest. The larger the better, but also the longer it will take to compute. In addition, note that results will stop getting significantly better beyond a critical number of trees. The latter is the size of the random subsets of features to consider when splitting a node. The lower the greater the reduction of variance, but also the greater the increase in bias. Empirical good default values are max_features=None (always considering all features instead of a random subset) for regression problems, and max_features=\"sqrt\" (using a random subset of size sqrt(n_features)) for classification tasks (where n_features is the number of features in the data). Good results are often achieved when setting max_depth=None in combination with min_samples_split=2 (i.e., when fully developing the trees). Bear in mind though that these values are usually not optimal, and might result in models that consume a lot of RAM. The best parameter values should always be cross-validated. In addition, note that in random forests, bootstrap samples are used by default (bootstrap=True) while the default strategy for extra-trees is to use the whole dataset (bootstrap=False). When using bootstrap sampling the generalization accuracy can be estimated on the left out or out-of-bag samples. This can be enabled by setting oob_score=True."
   ]
  },
  {
   "cell_type": "markdown",
   "id": "5a0c8975",
   "metadata": {},
   "source": [
    "Finally, this module also features the parallel construction of the trees and the parallel computation of the predictions through the n_jobs parameter. If n_jobs=k then computations are partitioned into k jobs, and run on k cores of the machine. If n_jobs=-1 then all cores available on the machine are used. Note that because of inter-process communication overhead, the speedup might not be linear (i.e., using k jobs will unfortunately not be k times as fast). Significant speedup can still be achieved though when building a large number of trees, or when building a single tree requires a fair amount of time (e.g., on large datasets)."
   ]
  },
  {
   "cell_type": "code",
   "execution_count": 8,
   "id": "33355deb",
   "metadata": {},
   "outputs": [
    {
     "name": "stderr",
     "output_type": "stream",
     "text": [
      "[Parallel(n_jobs=-1)]: Using backend ThreadingBackend with 32 concurrent workers.\n",
      "[Parallel(n_jobs=-1)]: Done   2 out of  32 | elapsed:   10.6s remaining:  2.7min\n",
      "[Parallel(n_jobs=-1)]: Done  32 out of  32 | elapsed:   21.6s finished\n",
      "[Parallel(n_jobs=32)]: Using backend ThreadingBackend with 32 concurrent workers.\n",
      "[Parallel(n_jobs=32)]: Done   2 out of  32 | elapsed:    0.0s remaining:    0.9s\n",
      "[Parallel(n_jobs=32)]: Done  32 out of  32 | elapsed:    0.1s finished\n"
     ]
    },
    {
     "data": {
      "text/plain": [
       "0.8845985043415402"
      ]
     },
     "execution_count": 8,
     "metadata": {},
     "output_type": "execute_result"
    }
   ],
   "source": [
    "# we need to set the maximum number of features explicitly \n",
    "# for a 1:1 comparison with DecisionTreeClassifier\n",
    "\n",
    "mrf = RandomForestClassifier(max_depth=15, max_features=54, n_estimators=32, verbose=1, n_jobs=-1)\n",
    "\n",
    "mrf.fit(x, y)\n",
    "\n",
    "ŷ = mrf.predict(xt)\n",
    "accuracy_score(yt, ŷ)"
   ]
  },
  {
   "cell_type": "code",
   "execution_count": 9,
   "id": "89682571",
   "metadata": {},
   "outputs": [
    {
     "name": "stderr",
     "output_type": "stream",
     "text": [
      "[Parallel(n_jobs=-1)]: Using backend ThreadingBackend with 32 concurrent workers.\n",
      "[Parallel(n_jobs=-1)]: Done   2 out of  32 | elapsed:   14.7s remaining:  3.7min\n",
      "[Parallel(n_jobs=-1)]: Done  32 out of  32 | elapsed:   20.4s finished\n",
      "[Parallel(n_jobs=32)]: Using backend ThreadingBackend with 32 concurrent workers.\n",
      "[Parallel(n_jobs=32)]: Done   2 out of  32 | elapsed:    0.0s remaining:    1.0s\n",
      "[Parallel(n_jobs=32)]: Done  32 out of  32 | elapsed:    0.1s finished\n"
     ]
    },
    {
     "data": {
      "text/plain": [
       "0.9669888040756263"
      ]
     },
     "execution_count": 9,
     "metadata": {},
     "output_type": "execute_result"
    }
   ],
   "source": [
    "# A forest does not overfit as easily as a single tree so we can increase depth\n",
    "\n",
    "mrf = RandomForestClassifier(max_features=54, n_estimators=32, verbose=1, n_jobs=-1)\n",
    "\n",
    "mrf.fit(x, y)\n",
    "\n",
    "ŷ = mrf.predict(xt)\n",
    "accuracy_score(yt, ŷ)"
   ]
  },
  {
   "cell_type": "code",
   "execution_count": 10,
   "id": "eb282693",
   "metadata": {},
   "outputs": [
    {
     "name": "stderr",
     "output_type": "stream",
     "text": [
      "[Parallel(n_jobs=-1)]: Using backend ThreadingBackend with 32 concurrent workers.\n",
      "[Parallel(n_jobs=-1)]: Done  64 out of  64 | elapsed:   38.3s finished\n",
      "[Parallel(n_jobs=32)]: Using backend ThreadingBackend with 32 concurrent workers.\n",
      "[Parallel(n_jobs=32)]: Done  64 out of  64 | elapsed:    0.2s finished\n"
     ]
    },
    {
     "data": {
      "text/plain": [
       "0.9675911981618375"
      ]
     },
     "execution_count": 10,
     "metadata": {},
     "output_type": "execute_result"
    }
   ],
   "source": [
    "# Other parameter changes provide only marginal gains\n",
    "# Doubling the number of trees makes a negligible difference\n",
    "\n",
    "mrf = RandomForestClassifier(max_features=54, n_estimators=64, verbose=1, n_jobs=-1)\n",
    "\n",
    "mrf.fit(x, y)\n",
    "\n",
    "ŷ = mrf.predict(xt)\n",
    "accuracy_score(yt, ŷ)"
   ]
  },
  {
   "cell_type": "markdown",
   "id": "77bcdb31",
   "metadata": {},
   "source": [
    "# Gradient Tree Boosting"
   ]
  },
  {
   "cell_type": "code",
   "execution_count": 12,
   "id": "86064390",
   "metadata": {},
   "outputs": [
    {
     "name": "stderr",
     "output_type": "stream",
     "text": [
      "C:\\Users\\rluci\\AppData\\Local\\Programs\\Python\\Python310\\lib\\site-packages\\xgboost\\compat.py:36: FutureWarning: pandas.Int64Index is deprecated and will be removed from pandas in a future version. Use pandas.Index with the appropriate dtype instead.\n",
      "  from pandas import MultiIndex, Int64Index\n"
     ]
    }
   ],
   "source": [
    "import xgboost as xgb"
   ]
  },
  {
   "cell_type": "code",
   "execution_count": 13,
   "id": "bc550923",
   "metadata": {},
   "outputs": [],
   "source": [
    "# XGBoost wants the data serialized into a data structure called Dmatrix\n",
    "xd = xgb.DMatrix(data=x, label=y)"
   ]
  },
  {
   "cell_type": "code",
   "execution_count": 15,
   "id": "7c05e374",
   "metadata": {},
   "outputs": [
    {
     "name": "stderr",
     "output_type": "stream",
     "text": [
      "C:\\Users\\rluci\\AppData\\Local\\Programs\\Python\\Python310\\lib\\site-packages\\xgboost\\sklearn.py:1224: UserWarning: The use of label encoder in XGBClassifier is deprecated and will be removed in a future release. To remove this warning, do the following: 1) Pass option use_label_encoder=False when constructing XGBClassifier object; and 2) Encode your labels (y) as integers starting with 0, i.e. 0, 1, 2, ..., [num_class - 1].\n",
      "  warnings.warn(label_encoder_deprecation_msg, UserWarning)\n"
     ]
    },
    {
     "name": "stdout",
     "output_type": "stream",
     "text": [
      "[21:40:47] WARNING: C:/Users/Administrator/workspace/xgboost-win64_release_1.5.1/src/learner.cc:1115: Starting in XGBoost 1.3.0, the default evaluation metric used with the objective 'multi:softprob' was changed from 'merror' to 'mlogloss'. Explicitly set eval_metric if you'd like to restore the old behavior.\n"
     ]
    },
    {
     "name": "stderr",
     "output_type": "stream",
     "text": [
      "[Parallel(n_jobs=32)]: Using backend ThreadingBackend with 32 concurrent workers.\n",
      "[Parallel(n_jobs=32)]: Done  64 out of  64 | elapsed:    0.1s finished\n"
     ]
    },
    {
     "data": {
      "text/plain": [
       "0.9675911981618375"
      ]
     },
     "execution_count": 15,
     "metadata": {},
     "output_type": "execute_result"
    }
   ],
   "source": [
    "# since we're building a classifier we use the logistic loss function\n",
    "\n",
    "params = {'objective':'reg:logistic',\n",
    "          'colsample_bytree':'0.3',\n",
    "          'learning_rate':'0.1',\n",
    "          'max_depth':'15',\n",
    "          'alpha':'10',\n",
    "          'n_estimators':'32'}\n",
    "mxgb = xgb.XGBClassifier(objective='reg:logistic',\n",
    "                         colsample_bytree=0.3,\n",
    "                         learning_rate=0.1,\n",
    "                         max_depth=15,\n",
    "                         alpha=10,\n",
    "                         n_estimators=32,\n",
    "                         )\n",
    "\n",
    "mxgb.fit(x, y)\n",
    "ŷ = mrf.predict(xt)\n",
    "accuracy_score(yt, ŷ)"
   ]
  },
  {
   "cell_type": "code",
   "execution_count": null,
   "id": "84957b25",
   "metadata": {},
   "outputs": [],
   "source": []
  }
 ],
 "metadata": {
  "kernelspec": {
   "display_name": "Python 3 (ipykernel)",
   "language": "python",
   "name": "python3"
  },
  "language_info": {
   "codemirror_mode": {
    "name": "ipython",
    "version": 3
   },
   "file_extension": ".py",
   "mimetype": "text/x-python",
   "name": "python",
   "nbconvert_exporter": "python",
   "pygments_lexer": "ipython3",
   "version": "3.10.1"
  }
 },
 "nbformat": 4,
 "nbformat_minor": 5
}
