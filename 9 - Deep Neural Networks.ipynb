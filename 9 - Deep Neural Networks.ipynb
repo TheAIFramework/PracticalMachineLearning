{
 "cells": [
  {
   "cell_type": "code",
   "execution_count": null,
   "id": "724bcba7",
   "metadata": {},
   "outputs": [],
   "source": [
    "y = list(map(lambda v: reduce(xor, v), x))\n"
   ]
  },
  {
   "cell_type": "code",
   "execution_count": null,
   "id": "6c2f3482",
   "metadata": {},
   "outputs": [],
   "source": [
    "# its important for a deep network to be initialized with random weights (high dimensionality)"
   ]
  }
 ],
 "metadata": {
  "kernelspec": {
   "display_name": "Python 3 (ipykernel)",
   "language": "python",
   "name": "python3"
  },
  "language_info": {
   "codemirror_mode": {
    "name": "ipython",
    "version": 3
   },
   "file_extension": ".py",
   "mimetype": "text/x-python",
   "name": "python",
   "nbconvert_exporter": "python",
   "pygments_lexer": "ipython3",
   "version": "3.10.1"
  }
 },
 "nbformat": 4,
 "nbformat_minor": 5
}
